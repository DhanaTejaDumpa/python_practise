{
  "cells": [
    {
      "cell_type": "markdown",
      "metadata": {
        "id": "view-in-github",
        "colab_type": "text"
      },
      "source": [
        "<a href=\"https://colab.research.google.com/github/DhanaTejaDumpa/python_practise/blob/main/03_List%2C_Tuple_exercise_(1).ipynb\" target=\"_parent\"><img src=\"https://colab.research.google.com/assets/colab-badge.svg\" alt=\"Open In Colab\"/></a>"
      ]
    },
    {
      "cell_type": "markdown",
      "metadata": {
        "id": "1urU0Prw7lhv"
      },
      "source": [
        "# Assignment Instructions\n",
        "\n",
        "`Hello Innominion,`\n",
        "\n",
        "- **Try to attempt all the questions in every possible way.**\n",
        "- **Some other topics are required to solve some questions. don't panic.**\n",
        "- **Those questions can be answered after the topics are taught.**\n",
        "\n",
        "\n",
        "- `Join Mentoring Session for the Support/Doubts Resolving with Our Technical Mentors (2.00 PM - 6.00 PM  Mon-Sat)`\n",
        "\n",
        "Happy Learning !!!"
      ]
    },
    {
      "cell_type": "markdown",
      "metadata": {
        "id": "8rR3E9uq7lh2"
      },
      "source": [
        "###  LIST"
      ]
    },
    {
      "cell_type": "markdown",
      "metadata": {
        "id": "mexnk0Dl7lh5"
      },
      "source": [
        "`Question:`:Create a list of numbers\n",
        "> nums = [1,2,3,4]"
      ]
    },
    {
      "cell_type": "code",
      "source": [
        "# Method 1:\n",
        "\n",
        "nums = [1,2,3,4]\n",
        "nums                                 # creating a list using square braces and seperating elements by comma"
      ],
      "metadata": {
        "colab": {
          "base_uri": "https://localhost:8080/"
        },
        "id": "0iHXvn6w7ms6",
        "outputId": "b3bade4c-5fc7-409e-dcc8-7f7c511ed0ae"
      },
      "execution_count": null,
      "outputs": [
        {
          "output_type": "execute_result",
          "data": {
            "text/plain": [
              "[1, 2, 3, 4]"
            ]
          },
          "metadata": {},
          "execution_count": 1
        }
      ]
    },
    {
      "cell_type": "code",
      "source": [
        "# Method 2:\n",
        "\n",
        "nums = list((1,2,3,4))               # creating a list using list class\n",
        "nums"
      ],
      "metadata": {
        "colab": {
          "base_uri": "https://localhost:8080/"
        },
        "id": "WIOOfWDZ8NtS",
        "outputId": "9708612a-a5bf-4dea-ea9a-207802cb924a"
      },
      "execution_count": null,
      "outputs": [
        {
          "output_type": "execute_result",
          "data": {
            "text/plain": [
              "[1, 2, 3, 4]"
            ]
          },
          "metadata": {},
          "execution_count": 2
        }
      ]
    },
    {
      "cell_type": "code",
      "source": [
        "# Method 3:\n",
        "\n",
        "# adding elements using extend method\n",
        "nums = []\n",
        "nums.extend([1,2,3,4])              # syntax = list.extend(iterable)-----iterable can be list,tuple or string\n",
        "nums"
      ],
      "metadata": {
        "colab": {
          "base_uri": "https://localhost:8080/"
        },
        "id": "UIwkI3C-8O6G",
        "outputId": "7c8b3ead-82fa-47a8-eab1-f871500e0166"
      },
      "execution_count": null,
      "outputs": [
        {
          "output_type": "execute_result",
          "data": {
            "text/plain": [
              "[1, 2, 3, 4]"
            ]
          },
          "metadata": {},
          "execution_count": 3
        }
      ]
    },
    {
      "cell_type": "code",
      "source": [
        "# Method 4:\n",
        "\n",
        "# adding elements using append method\n",
        "nums = []\n",
        "nums.append(1)                    # syntax = list.append(element)----- adds element(single value) at the end\n",
        "nums.append(2)\n",
        "nums.append(3)\n",
        "nums.append(4)\n",
        "print(nums)"
      ],
      "metadata": {
        "colab": {
          "base_uri": "https://localhost:8080/"
        },
        "id": "a4SYGV4Z8OnV",
        "outputId": "3d9033d7-f9a9-4275-9fc1-c7a48e6719fc"
      },
      "execution_count": null,
      "outputs": [
        {
          "output_type": "stream",
          "name": "stdout",
          "text": [
            "[1, 2, 3, 4]\n"
          ]
        }
      ]
    },
    {
      "cell_type": "code",
      "execution_count": null,
      "metadata": {
        "id": "QuX6dCFV7lh8",
        "outputId": "d0c36524-9a5d-4601-b58e-ee62846d975f"
      },
      "outputs": [
        {
          "data": {
            "text/plain": [
              "[1, 2, 3, 4]"
            ]
          },
          "execution_count": 30,
          "metadata": {},
          "output_type": "execute_result"
        }
      ],
      "source": []
    },
    {
      "cell_type": "markdown",
      "metadata": {
        "id": "bRf-pyU-7lh-"
      },
      "source": [
        "** `Question:` Remove number \"3\" in a list**"
      ]
    },
    {
      "cell_type": "code",
      "execution_count": null,
      "metadata": {
        "id": "ew59coyf7lh_",
        "outputId": "d8c969c6-00c7-473f-a638-6f5766e15b12"
      },
      "outputs": [
        {
          "data": {
            "text/plain": [
              "[1, 2, 4]"
            ]
          },
          "execution_count": 31,
          "metadata": {},
          "output_type": "execute_result"
        }
      ],
      "source": [
        "# Method 1\n"
      ]
    },
    {
      "cell_type": "code",
      "source": [
        "nums.remove(3)       # syntax : list.remove(value)------- removes the specified value from the list\n",
        "nums"
      ],
      "metadata": {
        "colab": {
          "base_uri": "https://localhost:8080/"
        },
        "id": "DXidsdU28kMB",
        "outputId": "d9d7684a-5e16-4a92-f134-4a624317653b"
      },
      "execution_count": null,
      "outputs": [
        {
          "output_type": "execute_result",
          "data": {
            "text/plain": [
              "[1, 2, 4]"
            ]
          },
          "metadata": {},
          "execution_count": 5
        }
      ]
    },
    {
      "cell_type": "code",
      "execution_count": null,
      "metadata": {
        "id": "KEbNJDVl7liC",
        "outputId": "d20af838-8b63-479e-b605-9b0b80fc5dbe"
      },
      "outputs": [
        {
          "data": {
            "text/plain": [
              "[1, 2, 4]"
            ]
          },
          "execution_count": 14,
          "metadata": {},
          "output_type": "execute_result"
        }
      ],
      "source": [
        "# Method 2\n"
      ]
    },
    {
      "cell_type": "code",
      "source": [
        "nums = [1,2,3,4]\n",
        "nums.pop(2)         # syntax : list.pop(index value)------pops out the value at the specified index in the list\n",
        "nums"
      ],
      "metadata": {
        "colab": {
          "base_uri": "https://localhost:8080/"
        },
        "id": "YWgHvEGF9SpU",
        "outputId": "64b46dce-66d5-4613-cf3a-f1a18f372cf4"
      },
      "execution_count": null,
      "outputs": [
        {
          "output_type": "execute_result",
          "data": {
            "text/plain": [
              "[1, 2, 4]"
            ]
          },
          "metadata": {},
          "execution_count": 6
        }
      ]
    },
    {
      "cell_type": "code",
      "execution_count": null,
      "metadata": {
        "id": "XNBkl7_B7liE",
        "outputId": "6c3ed54f-d817-4f09-b170-970f322a80f5"
      },
      "outputs": [
        {
          "data": {
            "text/plain": [
              "[1, 2, 4]"
            ]
          },
          "execution_count": 16,
          "metadata": {},
          "output_type": "execute_result"
        }
      ],
      "source": [
        "# Method 3\n"
      ]
    },
    {
      "cell_type": "code",
      "source": [
        "nums = [1,2,3,4]\n",
        "del nums[2]        # syntax : del list[index value]-------- deletes the value at the specified index\n",
        "nums"
      ],
      "metadata": {
        "colab": {
          "base_uri": "https://localhost:8080/"
        },
        "id": "-VUldSDv9Xoj",
        "outputId": "e490af20-c3fa-4989-bf7c-b31eb5a34956"
      },
      "execution_count": null,
      "outputs": [
        {
          "output_type": "execute_result",
          "data": {
            "text/plain": [
              "[1, 2, 4]"
            ]
          },
          "metadata": {},
          "execution_count": 7
        }
      ]
    },
    {
      "cell_type": "code",
      "source": [
        "# Method 4\n",
        "\n",
        "nums = [1,2,3,4]\n",
        "result_nums = [x for x in nums if x != 3]       # syntax : using list comprehension ,append all elements to the resultant list except 3\n",
        "print(result_nums)"
      ],
      "metadata": {
        "colab": {
          "base_uri": "https://localhost:8080/"
        },
        "id": "RVCdP7kz9ck1",
        "outputId": "4ac25284-0adf-408c-e567-5e3cc3bc9a12"
      },
      "execution_count": null,
      "outputs": [
        {
          "output_type": "stream",
          "name": "stdout",
          "text": [
            "[1, 2, 4]\n"
          ]
        }
      ]
    },
    {
      "cell_type": "markdown",
      "metadata": {
        "id": "FaVGl8FS7liG"
      },
      "source": [
        "**`Question:` :Insert number \"1\" in 0th position**\n",
        "- lst = [2,3,4]"
      ]
    },
    {
      "cell_type": "code",
      "source": [
        "# Method 1\n",
        "\n",
        "lst = [2,3,4]\n",
        "lst.insert(0,1)                                 # syntax : list.insert(index position,value)------inserts the value at the specified index position\n",
        "lst"
      ],
      "metadata": {
        "colab": {
          "base_uri": "https://localhost:8080/"
        },
        "id": "wL1m0skgCAYc",
        "outputId": "399fc487-9696-425d-a2da-e725f0247932"
      },
      "execution_count": null,
      "outputs": [
        {
          "output_type": "execute_result",
          "data": {
            "text/plain": [
              "[1, 2, 3, 4]"
            ]
          },
          "metadata": {},
          "execution_count": 12
        }
      ]
    },
    {
      "cell_type": "code",
      "source": [
        "# Method 2\n",
        "\n",
        "lst = [2,3,4]\n",
        "lst_ele = [1]\n",
        "new_lst = lst_ele + lst                        # using concatenation method(+)\n",
        "print(new_lst)"
      ],
      "metadata": {
        "colab": {
          "base_uri": "https://localhost:8080/"
        },
        "id": "Yehx_02OCAJB",
        "outputId": "f76fe1dc-85d8-4efe-c404-8f1548d967bd"
      },
      "execution_count": null,
      "outputs": [
        {
          "output_type": "stream",
          "name": "stdout",
          "text": [
            "[1, 2, 3, 4]\n"
          ]
        }
      ]
    },
    {
      "cell_type": "code",
      "execution_count": null,
      "metadata": {
        "id": "R8tJSph17liH",
        "outputId": "80ce0525-750a-459d-bd11-4f14fd893aa7"
      },
      "outputs": [
        {
          "data": {
            "text/plain": [
              "[1, 2, 3, 4]"
            ]
          },
          "execution_count": 35,
          "metadata": {},
          "output_type": "execute_result"
        }
      ],
      "source": []
    },
    {
      "cell_type": "markdown",
      "metadata": {
        "id": "31tvQxt47liI"
      },
      "source": [
        "**`Question:` Insert \"two-and-half\" in 2nd position**"
      ]
    },
    {
      "cell_type": "code",
      "source": [
        "lst"
      ],
      "metadata": {
        "colab": {
          "base_uri": "https://localhost:8080/"
        },
        "id": "57-r1Xc0CLvk",
        "outputId": "4a65b35d-a46d-49c7-9be4-4913f6daed10"
      },
      "execution_count": null,
      "outputs": [
        {
          "output_type": "execute_result",
          "data": {
            "text/plain": [
              "[1, 2, 3, 4]"
            ]
          },
          "metadata": {},
          "execution_count": 13
        }
      ]
    },
    {
      "cell_type": "code",
      "execution_count": null,
      "metadata": {
        "colab": {
          "base_uri": "https://localhost:8080/"
        },
        "id": "n3SuejqT7liJ",
        "outputId": "fccd9319-d06c-4803-fd11-d66b6d569be8"
      },
      "outputs": [
        {
          "output_type": "execute_result",
          "data": {
            "text/plain": [
              "[1, 2, 'two-and-half', 3, 4]"
            ]
          },
          "metadata": {},
          "execution_count": 14
        }
      ],
      "source": [
        "lst.insert(2,\"two-and-half\")                     # syntax : list.insert(index value,value)------inserts value at specified position\n",
        "lst"
      ]
    },
    {
      "cell_type": "code",
      "execution_count": null,
      "metadata": {
        "id": "U_Z43xXd7liJ",
        "outputId": "b4efff18-6dd9-461e-aa6a-dc7615e2e694"
      },
      "outputs": [
        {
          "data": {
            "text/plain": [
              "[1, 2, 'two-and-half', 3, 4]"
            ]
          },
          "execution_count": 37,
          "metadata": {},
          "output_type": "execute_result"
        }
      ],
      "source": []
    },
    {
      "cell_type": "markdown",
      "metadata": {
        "id": "yl7QPGp27liK"
      },
      "source": [
        "**`Question:` phrase = \"Don't panic!\"**\n",
        "- **Convert above text into list**"
      ]
    },
    {
      "cell_type": "code",
      "execution_count": null,
      "metadata": {
        "id": "8QhxqeCi7liK"
      },
      "outputs": [],
      "source": [
        "# CODE HERE"
      ]
    },
    {
      "cell_type": "markdown",
      "metadata": {
        "id": "lSSrI0M67liL"
      },
      "source": [
        "*convert into list*"
      ]
    },
    {
      "cell_type": "code",
      "source": [
        "# Method 1\n",
        "\n",
        "phrase_lst = list('Don\\'t panic!' )             # using list() class\n",
        "phrase_lst"
      ],
      "metadata": {
        "colab": {
          "base_uri": "https://localhost:8080/"
        },
        "id": "f8nGfqj7ClfC",
        "outputId": "660699c3-1bf7-4133-d2b8-9ebcd2299c51"
      },
      "execution_count": null,
      "outputs": [
        {
          "output_type": "execute_result",
          "data": {
            "text/plain": [
              "['D', 'o', 'n', \"'\", 't', ' ', 'p', 'a', 'n', 'i', 'c', '!']"
            ]
          },
          "metadata": {},
          "execution_count": 15
        }
      ]
    },
    {
      "cell_type": "code",
      "source": [
        "# Method 2\n",
        "\n",
        "phrase_lst = []\n",
        "phrase_lst.extend(\"Don't panic!\")                # using extend method\n",
        "phrase_lst"
      ],
      "metadata": {
        "colab": {
          "base_uri": "https://localhost:8080/"
        },
        "id": "3zmbWYGKClSH",
        "outputId": "063cbcd3-cac2-433c-dd89-01a6887b9c93"
      },
      "execution_count": null,
      "outputs": [
        {
          "output_type": "execute_result",
          "data": {
            "text/plain": [
              "['D', 'o', 'n', \"'\", 't', ' ', 'p', 'a', 'n', 'i', 'c', '!']"
            ]
          },
          "metadata": {},
          "execution_count": 24
        }
      ]
    },
    {
      "cell_type": "code",
      "execution_count": null,
      "metadata": {
        "id": "69WXb5Ma7liM",
        "outputId": "820cd4d2-e160-48e9-8a41-11a166941cbf"
      },
      "outputs": [
        {
          "data": {
            "text/plain": [
              "['D', 'o', 'n', \"'\", 't', ' ', 'p', 'a', 'n', 'i', 'c', '!']"
            ]
          },
          "execution_count": 41,
          "metadata": {},
          "output_type": "execute_result"
        }
      ],
      "source": []
    },
    {
      "cell_type": "markdown",
      "metadata": {
        "id": "RzZeNAHE7liM"
      },
      "source": [
        "`Question:` Remove ** '** and **!** in the list"
      ]
    },
    {
      "cell_type": "code",
      "execution_count": null,
      "metadata": {
        "colab": {
          "base_uri": "https://localhost:8080/"
        },
        "id": "Xqp7Nm5g7liN",
        "outputId": "7c8f5f02-9056-42eb-9b66-486ebf0210f1"
      },
      "outputs": [
        {
          "output_type": "execute_result",
          "data": {
            "text/plain": [
              "['D', 'o', 'n', \"'\", 't', ' ', 'p', 'a', 'n', 'i', 'c', '!']"
            ]
          },
          "metadata": {},
          "execution_count": 20
        }
      ],
      "source": [
        "phrase_lst"
      ]
    },
    {
      "cell_type": "code",
      "source": [
        "# Method 1\n",
        "\n",
        "phrase_lst.remove(\"'\")                          # remove elements using remove method\n",
        "phrase_lst.remove(\"!\")\n",
        "phrase_lst"
      ],
      "metadata": {
        "colab": {
          "base_uri": "https://localhost:8080/"
        },
        "id": "zQnotGQcC4rY",
        "outputId": "0cf7ad02-b5bc-4f82-cebf-b285e82ea7ab"
      },
      "execution_count": null,
      "outputs": [
        {
          "output_type": "execute_result",
          "data": {
            "text/plain": [
              "['D', 'o', 'n', 't', ' ', 'p', 'a', 'n', 'i', 'c']"
            ]
          },
          "metadata": {},
          "execution_count": 18
        }
      ]
    },
    {
      "cell_type": "code",
      "source": [
        "# Method 2\n",
        "\n",
        "phrase_lst.pop(3)                               # pops out ' which is at index 3\n",
        "phrase_lst.pop(-1)                              # pops out ! which is at index -1(negative index)\n",
        "phrase_lst"
      ],
      "metadata": {
        "colab": {
          "base_uri": "https://localhost:8080/"
        },
        "id": "PwqTFQQvC8Oc",
        "outputId": "480de6f2-89c5-4a63-f4dc-76a939b17e97"
      },
      "execution_count": null,
      "outputs": [
        {
          "output_type": "execute_result",
          "data": {
            "text/plain": [
              "['D', 'o', 'n', 't', ' ', 'p', 'a', 'n', 'i', 'c']"
            ]
          },
          "metadata": {},
          "execution_count": 25
        }
      ]
    },
    {
      "cell_type": "code",
      "execution_count": null,
      "metadata": {
        "id": "THDx-bR47liN",
        "outputId": "309d8887-be56-44e2-af19-06b2512f72e6"
      },
      "outputs": [
        {
          "data": {
            "text/plain": [
              "['D', 'o', 'n', 't', ' ', 'p', 'a', 'n', 'i', 'c']"
            ]
          },
          "execution_count": 43,
          "metadata": {},
          "output_type": "execute_result"
        }
      ],
      "source": []
    },
    {
      "cell_type": "markdown",
      "metadata": {
        "id": "zCMfoWbK7liN"
      },
      "source": [
        "**`Question:` Remove \"p\" , \"a\", \"n\",\"D\" and extend at the last**"
      ]
    },
    {
      "cell_type": "code",
      "execution_count": null,
      "metadata": {
        "colab": {
          "base_uri": "https://localhost:8080/"
        },
        "id": "ZVnMDD6C7liO",
        "outputId": "621e955e-5bb8-4f72-947a-5190b9e867fd"
      },
      "outputs": [
        {
          "output_type": "execute_result",
          "data": {
            "text/plain": [
              "['D', 'o', 'n', 't', ' ', 'p', 'a', 'n', 'i', 'c']"
            ]
          },
          "metadata": {},
          "execution_count": 26
        }
      ],
      "source": [
        "# CODE HERE\n",
        "phrase_lst"
      ]
    },
    {
      "cell_type": "code",
      "source": [
        "# Method 1\n",
        "\n",
        "phrase_lst.pop(-3)                                 # removes n,we used pop because we have to remove n which is not at its first occurance\n",
        "phrase_lst.remove('a')                             # removes a\n",
        "phrase_lst.remove('p')                             # removes p\n",
        "phrase_lst.remove('D')                             # removes D\n",
        "phrase_lst.extend(('p','a','n','D'))               # adding multiple elements (strings) at the end of the list\n",
        "phrase_lst"
      ],
      "metadata": {
        "colab": {
          "base_uri": "https://localhost:8080/"
        },
        "id": "LVtNXC3BDTmz",
        "outputId": "3949cbd1-4ac5-42bb-914f-63c7bc3940a2"
      },
      "execution_count": null,
      "outputs": [
        {
          "output_type": "execute_result",
          "data": {
            "text/plain": [
              "['o', 'n', 't', ' ', 'i', 'c', 'p', 'a', 'n', 'D']"
            ]
          },
          "metadata": {},
          "execution_count": 23
        }
      ]
    },
    {
      "cell_type": "code",
      "source": [
        "# Method 2\n",
        "\n",
        "phrase_lst[5:8] = []                               # replacing elements at indices 5,6,7 i.e., 'p','a','n' with an empty list\n",
        "phrase_lst.pop(0)                                  # pops out D which is at 0 index\n",
        "phrase_lst.extend(['p','a','n','D'])               # adding multiple elements at end\n",
        "phrase_lst"
      ],
      "metadata": {
        "colab": {
          "base_uri": "https://localhost:8080/"
        },
        "id": "mOpKIoXwDTYx",
        "outputId": "16a2b356-2215-4e92-f601-2c6ad0459d1e"
      },
      "execution_count": null,
      "outputs": [
        {
          "output_type": "execute_result",
          "data": {
            "text/plain": [
              "['o', 'n', 't', ' ', 'i', 'c', 'p', 'a', 'n', 'D']"
            ]
          },
          "metadata": {},
          "execution_count": 27
        }
      ]
    },
    {
      "cell_type": "code",
      "execution_count": null,
      "metadata": {
        "id": "YhEYdrLu7liO",
        "outputId": "3dcbdb2e-58fb-4232-9586-a316452885f9"
      },
      "outputs": [
        {
          "data": {
            "text/plain": [
              "['o', 'n', 't', ' ', 'i', 'c', 'p', 'a', 'n', 'D']"
            ]
          },
          "execution_count": 45,
          "metadata": {},
          "output_type": "execute_result"
        }
      ],
      "source": []
    },
    {
      "cell_type": "markdown",
      "metadata": {
        "id": "yJY0_cuA7liO"
      },
      "source": [
        "**`Question:` Join the given list ['p', 'a', 'n', 'D', 'a']**"
      ]
    },
    {
      "cell_type": "code",
      "execution_count": null,
      "metadata": {
        "colab": {
          "base_uri": "https://localhost:8080/",
          "height": 36
        },
        "id": "ZAfxk2wt7liO",
        "outputId": "f30e38de-7ab9-42d8-a49a-265bd2bf32fb"
      },
      "outputs": [
        {
          "output_type": "execute_result",
          "data": {
            "text/plain": [
              "'panDa'"
            ],
            "application/vnd.google.colaboratory.intrinsic+json": {
              "type": "string"
            }
          },
          "metadata": {},
          "execution_count": 28
        }
      ],
      "source": [
        "# CODE HERE\n",
        "lst = ['p','a','n','D','a']\n",
        "str(''.join(lst))                                # joining the elements given within list\n"
      ]
    },
    {
      "cell_type": "code",
      "execution_count": null,
      "metadata": {
        "id": "HzAcnINV7liP",
        "outputId": "dde79fed-6f0c-49c2-86ec-217c4e65cd5f"
      },
      "outputs": [
        {
          "data": {
            "text/plain": [
              "'panDa'"
            ]
          },
          "execution_count": 21,
          "metadata": {},
          "output_type": "execute_result"
        }
      ],
      "source": []
    },
    {
      "cell_type": "markdown",
      "metadata": {
        "id": "VhPNKglW7liP"
      },
      "source": [
        "###  Tuples"
      ]
    },
    {
      "cell_type": "markdown",
      "metadata": {
        "id": "IZWFdUUb7liP"
      },
      "source": [
        "**`Question:` Create a tuples for numbers 31,24,35,85 as nums**"
      ]
    },
    {
      "cell_type": "code",
      "execution_count": null,
      "metadata": {
        "colab": {
          "base_uri": "https://localhost:8080/"
        },
        "id": "nSM9vTzN7liQ",
        "outputId": "1268b57b-34df-498b-e58c-9383645b40ba"
      },
      "outputs": [
        {
          "output_type": "stream",
          "name": "stdout",
          "text": [
            " data type <class 'tuple'>\n",
            "(31, 24, 35, 85)\n"
          ]
        }
      ],
      "source": [
        "# CODE HERE\n",
        "\n",
        "# Method 1\n",
        "\n",
        "tupl = tuple((31,24,35,85))                             # using tuple class method\n",
        "print(f' data type {type(tupl)}' , tupl, sep = '\\n')"
      ]
    },
    {
      "cell_type": "code",
      "source": [
        "# Method 2\n",
        "\n",
        "tupl = (31,24,35,85)                                     # using parenthesis seperating elements by comma\n",
        "print(f' data type {type(tupl)}' , tupl, sep = '\\n')"
      ],
      "metadata": {
        "colab": {
          "base_uri": "https://localhost:8080/"
        },
        "id": "1LRhGRGzD-fT",
        "outputId": "105bea6c-1ee4-4c01-a4b3-b448fc79a88e"
      },
      "execution_count": null,
      "outputs": [
        {
          "output_type": "stream",
          "name": "stdout",
          "text": [
            " data type <class 'tuple'>\n",
            "(31, 24, 35, 85)\n"
          ]
        }
      ]
    },
    {
      "cell_type": "code",
      "execution_count": null,
      "metadata": {
        "id": "vWtKAX-n7liQ",
        "outputId": "84b5443f-9e94-4a6a-947a-27ce6c368377"
      },
      "outputs": [
        {
          "name": "stdout",
          "output_type": "stream",
          "text": [
            "data type <class 'tuple'>\n",
            "(31, 24, 35, 85)\n"
          ]
        }
      ],
      "source": []
    },
    {
      "cell_type": "markdown",
      "metadata": {
        "id": "n2kW3y1b7liQ"
      },
      "source": [
        "**`Question:` Remove number \"35\" in a tuple**\n",
        "\n",
        "*Hint:* Convert into list"
      ]
    },
    {
      "cell_type": "code",
      "execution_count": null,
      "metadata": {
        "colab": {
          "base_uri": "https://localhost:8080/"
        },
        "id": "lUaSHV8A7liR",
        "outputId": "57533357-6a98-4339-99c2-8a6d3cc0b793"
      },
      "outputs": [
        {
          "output_type": "execute_result",
          "data": {
            "text/plain": [
              "(31, 24, 35, 85)"
            ]
          },
          "metadata": {},
          "execution_count": 34
        }
      ],
      "source": [
        "# CODE HERE\n",
        "tupl"
      ]
    },
    {
      "cell_type": "code",
      "source": [
        "\n",
        "lst_tupl = list(tupl)                                  # converting tuple into list using type casting method\n",
        "lst_tupl.remove(35)                                    # remove 35\n",
        "tupl = tuple(lst_tupl)                                 # convert back into tuple\n",
        "print(tupl)"
      ],
      "metadata": {
        "colab": {
          "base_uri": "https://localhost:8080/"
        },
        "id": "12e0W5SdEUqC",
        "outputId": "5ff8385f-27cb-42aa-9ecd-e2b9a20c8527"
      },
      "execution_count": null,
      "outputs": [
        {
          "output_type": "stream",
          "name": "stdout",
          "text": [
            "(31, 24, 85)\n"
          ]
        }
      ]
    },
    {
      "cell_type": "code",
      "execution_count": null,
      "metadata": {
        "id": "XYkC627Y7liR",
        "outputId": "31ad0797-8306-49e0-a617-0b1f49ccbae2"
      },
      "outputs": [
        {
          "data": {
            "text/plain": [
              "(31, 24, 85)"
            ]
          },
          "execution_count": 12,
          "metadata": {},
          "output_type": "execute_result"
        }
      ],
      "source": []
    },
    {
      "cell_type": "markdown",
      "metadata": {
        "id": "F7Rroldd7liR"
      },
      "source": [
        "**Extent** tuple (85,19)"
      ]
    },
    {
      "cell_type": "code",
      "execution_count": null,
      "metadata": {
        "colab": {
          "base_uri": "https://localhost:8080/"
        },
        "id": "IsGKy1np7liS",
        "outputId": "f2a4a540-a7e9-4a31-8447-dcb76e714666"
      },
      "outputs": [
        {
          "output_type": "execute_result",
          "data": {
            "text/plain": [
              "(31, 24, 35, 85, 85, 19)"
            ]
          },
          "metadata": {},
          "execution_count": 35
        }
      ],
      "source": [
        "# CODE HERE\n",
        "new_tupl = tupl + tuple((85,19))\n",
        "new_tupl"
      ]
    },
    {
      "cell_type": "code",
      "execution_count": null,
      "metadata": {
        "id": "_QVu280h7liS",
        "outputId": "5c6547e1-74a4-4527-ae4d-0f8dd7deeb96"
      },
      "outputs": [
        {
          "data": {
            "text/plain": [
              "(31, 24, 85, 85, 19)"
            ]
          },
          "execution_count": 15,
          "metadata": {},
          "output_type": "execute_result"
        }
      ],
      "source": []
    },
    {
      "cell_type": "markdown",
      "metadata": {
        "id": "WmokE4Pu7liS"
      },
      "source": [
        "**`Question:` Write code to check whether an element ('i') exists within a tuple.**\n",
        "- tpl = ('i','n''n','0')"
      ]
    },
    {
      "cell_type": "code",
      "execution_count": null,
      "metadata": {
        "id": "qdTvzAiP7liS"
      },
      "outputs": [],
      "source": [
        "# CODE HERE"
      ]
    },
    {
      "cell_type": "code",
      "source": [
        "# Method 1\n",
        "\n",
        "tpl = ('i','n','n','0')                  # using memebership operator\n",
        "'i' in tpl"
      ],
      "metadata": {
        "colab": {
          "base_uri": "https://localhost:8080/"
        },
        "id": "lD2YmSjKExVB",
        "outputId": "b39c0342-8919-449a-b189-2c54c71c8009"
      },
      "execution_count": null,
      "outputs": [
        {
          "output_type": "execute_result",
          "data": {
            "text/plain": [
              "True"
            ]
          },
          "metadata": {},
          "execution_count": 36
        }
      ]
    },
    {
      "cell_type": "code",
      "source": [
        "# Method 2\n",
        "\n",
        "tpl = ('i','n','n','0')\n",
        "x = False                                # initiating the value of z as False\n",
        "for i in tpl:                            # for loop iterating over tuple(iterating object)\n",
        "  if i == 'i':                           # if iterator is i\n",
        "    x = True                             # update x as True\n",
        "    break                                # break ----exit the loop\n",
        "print(x)"
      ],
      "metadata": {
        "colab": {
          "base_uri": "https://localhost:8080/"
        },
        "id": "aIPuEh01E8WH",
        "outputId": "e00c3fad-5d5e-4e11-c7bc-f7b91ce4a82e"
      },
      "execution_count": null,
      "outputs": [
        {
          "output_type": "stream",
          "name": "stdout",
          "text": [
            "True\n"
          ]
        }
      ]
    },
    {
      "cell_type": "code",
      "execution_count": null,
      "metadata": {
        "id": "pIRj7bq47lib",
        "outputId": "e72499e6-61e1-4aec-d8e8-a600015e5bd7"
      },
      "outputs": [
        {
          "name": "stdout",
          "output_type": "stream",
          "text": [
            "True\n"
          ]
        }
      ],
      "source": []
    },
    {
      "cell_type": "markdown",
      "metadata": {
        "id": "pPOFzpbo7lic"
      },
      "source": [
        "**`Question:` Write a python code to replace/insert the value**\n",
        "- list = ['Hello',100,[],'innomatics']"
      ]
    },
    {
      "cell_type": "code",
      "execution_count": null,
      "metadata": {
        "colab": {
          "base_uri": "https://localhost:8080/"
        },
        "id": "9wVt8TH-7lic",
        "outputId": "64e49398-01cf-4745-c68e-42d95a656fba"
      },
      "outputs": [
        {
          "output_type": "execute_result",
          "data": {
            "text/plain": [
              "['Hello', 100, [200], 'innomatics']"
            ]
          },
          "metadata": {},
          "execution_count": 38
        }
      ],
      "source": [
        "# CODE HERE\n",
        "\n",
        "# Method 1\n",
        "\n",
        "list = ['Hello',100,[],'innomatics']\n",
        "list[2] = [200]                             # replacing the value at index position 2\n",
        "list"
      ]
    },
    {
      "cell_type": "code",
      "source": [
        "# Method 2\n",
        "\n",
        "list = ['Hello',100,[],'innomatics']\n",
        "list[2].insert(0,200)                      # insert a value inside the inner list by using insert method and indexing\n",
        "list"
      ],
      "metadata": {
        "colab": {
          "base_uri": "https://localhost:8080/"
        },
        "id": "RgJZn6P6E3Ct",
        "outputId": "1b0458c0-b430-4324-afbd-41e042a7b119"
      },
      "execution_count": null,
      "outputs": [
        {
          "output_type": "execute_result",
          "data": {
            "text/plain": [
              "['Hello', 100, [200], 'innomatics']"
            ]
          },
          "metadata": {},
          "execution_count": 39
        }
      ]
    },
    {
      "cell_type": "code",
      "execution_count": null,
      "metadata": {
        "id": "J0L9GBl57lic",
        "outputId": "f02dacc7-5c6f-4858-9970-945412edd689"
      },
      "outputs": [
        {
          "data": {
            "text/plain": [
              "['Hello', 100, [200], 'innomatics']"
            ]
          },
          "execution_count": 2,
          "metadata": {},
          "output_type": "execute_result"
        }
      ],
      "source": []
    },
    {
      "cell_type": "markdown",
      "metadata": {
        "id": "v3Sg7wOZ7lid"
      },
      "source": [
        "**`Question:` Write a Python program to reverse a tuple.**"
      ]
    },
    {
      "cell_type": "code",
      "execution_count": null,
      "metadata": {
        "id": "c62xgfzX7lid"
      },
      "outputs": [],
      "source": [
        "# CODE HERE\n",
        "tpl = (\"Innomatics\")"
      ]
    },
    {
      "cell_type": "code",
      "source": [
        "# Method 1\n",
        "\n",
        "tpl = (\"Innomatics\")                                   # a string\n",
        "lst = []                                               # an empty list which is further used to append elements\n",
        "for i in range(len(tpl)) :\n",
        "  lst.append(tpl[-(i+1)])                              # append elements  to list starting from last element of string\n",
        "tuple(lst)                                             # returning the output in tuple format"
      ],
      "metadata": {
        "colab": {
          "base_uri": "https://localhost:8080/"
        },
        "id": "L8Qwz6NGFSpl",
        "outputId": "f08fe85e-eaf8-4657-cdf9-7ae865f97304"
      },
      "execution_count": null,
      "outputs": [
        {
          "output_type": "execute_result",
          "data": {
            "text/plain": [
              "('s', 'c', 'i', 't', 'a', 'm', 'o', 'n', 'n', 'I')"
            ]
          },
          "metadata": {},
          "execution_count": 40
        }
      ]
    },
    {
      "cell_type": "code",
      "source": [
        "# sorted method"
      ],
      "metadata": {
        "id": "SLiPssALF0Js"
      },
      "execution_count": null,
      "outputs": []
    },
    {
      "cell_type": "code",
      "execution_count": null,
      "metadata": {
        "id": "3uFMaj2W7lid",
        "outputId": "ee7c2d80-0c66-4a9a-e8db-44eefc0df0b9"
      },
      "outputs": [
        {
          "name": "stdout",
          "output_type": "stream",
          "text": [
            "('s', 'c', 'i', 't', 'a', 'm', 'o', 'n', 'n', 'I')\n"
          ]
        }
      ],
      "source": []
    },
    {
      "cell_type": "code",
      "execution_count": null,
      "metadata": {
        "id": "0V7v5ist7lid",
        "outputId": "74e849e5-9ba5-43eb-b97d-fa24a02a48f9"
      },
      "outputs": [
        {
          "data": {
            "text/plain": [
              "(1, 2, 3, 4)"
            ]
          },
          "execution_count": 9,
          "metadata": {},
          "output_type": "execute_result"
        }
      ],
      "source": [
        "tpl = (1,2,3)+(4,)                                   # concatinating two tuples where second tuple contains exactly one value\n",
        "tpl"
      ]
    },
    {
      "cell_type": "markdown",
      "metadata": {
        "id": "fpl3kRR17lie"
      },
      "source": [
        "**`Question:` Write a Python program to add one more value at last postion of tuples in a list**\n",
        "- tpl = [(10, 20, 40), (40, 50, 60), (70, 80, 90)]\n",
        "- `hint- use for loop`"
      ]
    },
    {
      "cell_type": "code",
      "execution_count": null,
      "metadata": {
        "id": "3iucS7W17lie"
      },
      "outputs": [],
      "source": [
        "# CODE HERE\n",
        "tpl = [(10, 20, 40), (40, 50, 60), (70, 80, 90)]"
      ]
    },
    {
      "cell_type": "code",
      "source": [
        "tpl = [(10, 20, 40), (40, 50, 60), (70, 80, 90)]\n",
        "result = []                                       # empty list to append updated tuples\n",
        "for i in tpl :\n",
        "   i += (100,)                                    # for every tuple inside list add another value 00\n",
        "   result.append(tuple(i))                        # add the updated tuple to the result list\n",
        "print(result)"
      ],
      "metadata": {
        "colab": {
          "base_uri": "https://localhost:8080/"
        },
        "id": "V_iuHGKkGAz9",
        "outputId": "3c4d2d43-90b1-4b48-959d-3560ac338de5"
      },
      "execution_count": null,
      "outputs": [
        {
          "output_type": "stream",
          "name": "stdout",
          "text": [
            "[(10, 20, 40, 100), (40, 50, 60, 100), (70, 80, 90, 100)]\n"
          ]
        }
      ]
    },
    {
      "cell_type": "code",
      "execution_count": null,
      "metadata": {
        "id": "1c0X9-507lif",
        "outputId": "2602307f-b546-4254-b05d-95f2ae392024"
      },
      "outputs": [
        {
          "data": {
            "text/plain": [
              "[(10, 20, 40, 100), (40, 50, 60, 100), (70, 80, 90, 100)]"
            ]
          },
          "execution_count": 10,
          "metadata": {},
          "output_type": "execute_result"
        }
      ],
      "source": []
    },
    {
      "cell_type": "markdown",
      "metadata": {
        "id": "9M4WN8xT7lif"
      },
      "source": [
        "**`Question:` Write a Python program to replace last value of tuples in a list**\n",
        "- tpl = [(10, 20, 40), (40, 50, 60), (70, 80, 90)]\n",
        "- `hint- use for loop`"
      ]
    },
    {
      "cell_type": "code",
      "execution_count": null,
      "metadata": {
        "colab": {
          "base_uri": "https://localhost:8080/"
        },
        "id": "GFdkqTY_7lif",
        "outputId": "4fc7926f-d388-46a0-c6cd-c8313d744f92"
      },
      "outputs": [
        {
          "output_type": "stream",
          "name": "stdout",
          "text": [
            "[(10, 20, 100), (40, 50, 100), (70, 80, 100)]\n"
          ]
        }
      ],
      "source": [
        "# CODE HERE\n",
        "tpl = [(10, 20, 40), (40, 50, 60), (70, 80, 90)]\n",
        "result = []                                      # empty list to append the updated tuples\n",
        "for i in range(len(tpl)) :\n",
        "   result.append(tpl[i][:2] + (100,))            # replacing the last element of every tuple within list\n",
        "\n",
        "print(result)"
      ]
    },
    {
      "cell_type": "code",
      "execution_count": null,
      "metadata": {
        "id": "1UtD-ZqP7lif",
        "outputId": "6a1b0572-c87a-4ad3-832a-36b7ea0b35e6"
      },
      "outputs": [
        {
          "data": {
            "text/plain": [
              "[(10, 20, 100), (40, 50, 100), (70, 80, 100)]"
            ]
          },
          "execution_count": 11,
          "metadata": {},
          "output_type": "execute_result"
        }
      ],
      "source": []
    },
    {
      "cell_type": "markdown",
      "metadata": {
        "id": "iRGsO_2E7lig"
      },
      "source": [
        "### `Question:` If the following string is given as input to the program:\n",
        "\n",
        "- '5 2 3 6 6 5'\n",
        "\n",
        "#### FInd the secong higest value from that"
      ]
    },
    {
      "cell_type": "code",
      "source": [
        "num_str = '5 2 3 6 6 5'\n",
        "x = set(num_str)                                  # convert string into set to avoid duplicates\n",
        "lst = list(x)                                     # convert set into list to do sorting in ascending order\n",
        "lst.sort()\n",
        "print(num_str)\n",
        "print(f'second highest is : {lst[-2]}')           # print second highest value"
      ],
      "metadata": {
        "colab": {
          "base_uri": "https://localhost:8080/"
        },
        "id": "TXMnd1tMrcXY",
        "outputId": "8d1210d2-7913-4974-965c-395d8e7ee9ad"
      },
      "execution_count": null,
      "outputs": [
        {
          "output_type": "stream",
          "name": "stdout",
          "text": [
            "5 2 3 6 6 5\n",
            "second highest is : 5\n"
          ]
        }
      ]
    },
    {
      "cell_type": "code",
      "execution_count": null,
      "metadata": {
        "id": "tH0J02ez7lig",
        "outputId": "1ba6d619-b94b-4a3c-9e7f-84b881063d81"
      },
      "outputs": [
        {
          "name": "stdout",
          "output_type": "stream",
          "text": [
            "5 2 4 6 2 2 \n",
            "second higest is : 5\n"
          ]
        }
      ],
      "source": [
        "# CODE HERE"
      ]
    },
    {
      "cell_type": "markdown",
      "metadata": {
        "id": "-hQs46YR7lig"
      },
      "source": [
        "### `Question:` By using list comprehension, please write a program to print the list after removing the 0th,4th,5th numbers in [12,24,35,70,88,120,155]."
      ]
    },
    {
      "cell_type": "code",
      "execution_count": null,
      "metadata": {
        "id": "bcmQknTV7lih",
        "outputId": "f69f67d2-aeab-473d-fa6e-3cd765301c4f"
      },
      "outputs": [
        {
          "name": "stdout",
          "output_type": "stream",
          "text": [
            "[24, 35, 70, 155]\n"
          ]
        }
      ],
      "source": [
        "# CODE HERE"
      ]
    },
    {
      "cell_type": "code",
      "source": [
        "num_lst = [12,24,35,70,88,120,155]\n",
        "updated_lst = [i for i in num_lst if i not in  (num_lst[0],num_lst[4],num_lst[5])]\n",
        "updated_lst"
      ],
      "metadata": {
        "colab": {
          "base_uri": "https://localhost:8080/"
        },
        "id": "yNRrChHhu8QM",
        "outputId": "ac764c3a-58f6-4e0d-b8ab-a1d69f03138b"
      },
      "execution_count": null,
      "outputs": [
        {
          "output_type": "execute_result",
          "data": {
            "text/plain": [
              "[24, 35, 70, 155]"
            ]
          },
          "metadata": {},
          "execution_count": 35
        }
      ]
    },
    {
      "cell_type": "markdown",
      "metadata": {
        "id": "BX6hoikH7lih"
      },
      "source": [
        "### `Question:` With a given tuple (1,2,3,4,5,6,7,8,9,10), write a program to print the first half values in one line and the last half values in one line."
      ]
    },
    {
      "cell_type": "code",
      "source": [
        "x = (1,2,3,4,5,6,7,8,9,10)\n",
        "a = x[ : len(x)//2]                               # slicing first half of tuple\n",
        "b = x[len(x)//2 : ]                               # slicing second half of tuple\n",
        "print(a,b)\n"
      ],
      "metadata": {
        "colab": {
          "base_uri": "https://localhost:8080/"
        },
        "id": "RbM7LlvBwSfC",
        "outputId": "c4bedd94-ff1c-4da3-e7c3-1f4577d7fbd0"
      },
      "execution_count": null,
      "outputs": [
        {
          "output_type": "stream",
          "name": "stdout",
          "text": [
            "(1, 2, 3, 4, 5) (6, 7, 8, 9, 10)\n"
          ]
        }
      ]
    },
    {
      "cell_type": "code",
      "execution_count": null,
      "metadata": {
        "id": "d_3pS3er7lih",
        "outputId": "53e71556-9971-48c5-bfd7-2b03a7115f6b"
      },
      "outputs": [
        {
          "name": "stdout",
          "output_type": "stream",
          "text": [
            "(1, 2, 3, 4, 5) (6, 7, 8, 9, 10)\n"
          ]
        }
      ],
      "source": []
    },
    {
      "cell_type": "markdown",
      "metadata": {
        "id": "Sq9LVQvg7lii"
      },
      "source": [
        "### `Question:` Write a program to generate and print another tuple whose values are even numbers in the given tuple (1,2,3,4,5,6,7,8,9,10)"
      ]
    },
    {
      "cell_type": "code",
      "execution_count": null,
      "metadata": {
        "id": "LIDdXDGU7lii",
        "outputId": "d4355c03-cb5e-4161-b654-45798dde56ac"
      },
      "outputs": [
        {
          "name": "stdout",
          "output_type": "stream",
          "text": [
            "(2, 4, 6, 8, 10)\n"
          ]
        }
      ],
      "source": []
    },
    {
      "cell_type": "code",
      "execution_count": null,
      "metadata": {
        "colab": {
          "base_uri": "https://localhost:8080/"
        },
        "id": "bjGEY_LX7lii",
        "outputId": "93fccd30-3e6d-4d0e-ee16-ff68e022e075"
      },
      "outputs": [
        {
          "output_type": "execute_result",
          "data": {
            "text/plain": [
              "(2, 4, 6, 8, 10)"
            ]
          },
          "metadata": {},
          "execution_count": 39
        }
      ],
      "source": [
        "\n",
        "lst = [i for i in (1,2,3,4,5,6,7,8,9,10) if i % 2 == 0]      # list comprehension\n",
        "tuple(lst)                                                   # convert to tuple"
      ]
    },
    {
      "cell_type": "markdown",
      "metadata": {
        "id": "zp-Fr65X7lii"
      },
      "source": [
        "# `Descriptive Questions`"
      ]
    },
    {
      "cell_type": "markdown",
      "metadata": {
        "id": "vAdKNf0x7lij"
      },
      "source": [
        "### 1. Explain the difference between list and tuple?"
      ]
    },
    {
      "cell_type": "code",
      "execution_count": null,
      "metadata": {
        "id": "aHAAcjQb7lij"
      },
      "outputs": [],
      "source": [
        "# Solution"
      ]
    },
    {
      "cell_type": "markdown",
      "source": [
        "List | Tuple\n",
        "-----|------\n",
        " Lists are mutable, meaning you can modify, add, or remove elements after the list has been created.|Tuples are immutable, meaning once a tuple is created, its elements cannot be changed, added, or removed.\n",
        " Lists are defined using square brackets [] | Tuples are defined using parentheses ()\n",
        "  Lists are generally slower than tuples because they support more operations (like appending, modifying, etc.) and are mutable.|Tuples are faster than lists due to their immutability, making them more memory efficient.\n",
        "  Lists have more built-in methods, such as append(), extend(), remove(), pop(), etc., to modify the collection.|Tuples have fewer methods. You can use methods like count() and index(), but they don't have methods for modifying the data (e.g., no append() or remove())\n",
        "  Lists use more memory due to their mutability.|Tuples consume less memory because they are immutable."
      ],
      "metadata": {
        "id": "ZbQxXMvh4_YD"
      }
    },
    {
      "cell_type": "markdown",
      "metadata": {
        "id": "Tw33fAt27lij"
      },
      "source": [
        "### 2. Explain the difference between append() and extend() with examples"
      ]
    },
    {
      "cell_type": "code",
      "execution_count": null,
      "metadata": {
        "id": "KPWhg7_v7lij"
      },
      "outputs": [],
      "source": [
        "# Solution"
      ]
    },
    {
      "cell_type": "markdown",
      "source": [
        "append() | extend()\n",
        "---------|---------\n",
        "Adds a single element at the end of a list |Adds multiple elements from an iterable to the end of list\n",
        "Adds the whole object as a single element (even if it's a list)|Adds each element from the iterable individually\n",
        "ex : my_list.append(4) → [1, 2, 3, 4] | ex : my_list.extend([4, 5]) → [1, 2, 3, 4, 5]"
      ],
      "metadata": {
        "id": "3kMt-38OmrUW"
      }
    },
    {
      "cell_type": "markdown",
      "metadata": {
        "id": "dpFfWd-K7lik"
      },
      "source": [
        "### 3. Explain the difference between pop() and remove() with examples"
      ]
    },
    {
      "cell_type": "code",
      "execution_count": null,
      "metadata": {
        "id": "RGf1WEWG7lik"
      },
      "outputs": [],
      "source": [
        "# Solution"
      ]
    },
    {
      "cell_type": "markdown",
      "source": [
        "pop() | remove()\n",
        "------|---------\n",
        "Removes the element at a specific index or the last element if no index is given|Removes the first occurrence of a specified value\n",
        "Returns the removed element|Does not return anything (returns None)\n",
        "Useful when you know the index or need to work with the removed element|Useful when you want to remove by value\n",
        "pop(1) removes the element at index 1|remove(3) removes the first occurrence of 3"
      ],
      "metadata": {
        "id": "77BK-MlJo-vD"
      }
    },
    {
      "cell_type": "markdown",
      "source": [],
      "metadata": {
        "id": "e9hg8rI_n5Aj"
      }
    },
    {
      "cell_type": "markdown",
      "metadata": {
        "id": "RyMEGDkI7lik"
      },
      "source": [
        "# [Innomatics Research Labs](https:/innomatics.in/)\n",
        "[www.innomatics.in](https:/innomatics.in/)"
      ]
    },
    {
      "cell_type": "code",
      "execution_count": null,
      "metadata": {
        "id": "1GNCqY7y7lil"
      },
      "outputs": [],
      "source": []
    }
  ],
  "metadata": {
    "kernelspec": {
      "display_name": "Python 3",
      "language": "python",
      "name": "python3"
    },
    "language_info": {
      "codemirror_mode": {
        "name": "ipython",
        "version": 3
      },
      "file_extension": ".py",
      "mimetype": "text/x-python",
      "name": "python",
      "nbconvert_exporter": "python",
      "pygments_lexer": "ipython3",
      "version": "3.8.5"
    },
    "colab": {
      "provenance": [],
      "include_colab_link": true
    }
  },
  "nbformat": 4,
  "nbformat_minor": 0
}