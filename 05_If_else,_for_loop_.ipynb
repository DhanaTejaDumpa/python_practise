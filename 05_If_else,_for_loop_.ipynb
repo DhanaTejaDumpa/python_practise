{
  "cells": [
    {
      "cell_type": "markdown",
      "metadata": {
        "id": "view-in-github",
        "colab_type": "text"
      },
      "source": [
        "<a href=\"https://colab.research.google.com/github/DhanaTejaDumpa/python_practise/blob/main/05_If_else%2C_for_loop_.ipynb\" target=\"_parent\"><img src=\"https://colab.research.google.com/assets/colab-badge.svg\" alt=\"Open In Colab\"/></a>"
      ]
    },
    {
      "cell_type": "markdown",
      "metadata": {
        "id": "vcUORcsBuOlF"
      },
      "source": [
        "# IF , ELSE.... FOR LOOP"
      ]
    },
    {
      "cell_type": "markdown",
      "metadata": {
        "id": "Kxg50mlZuOlL"
      },
      "source": [
        "> print this is hour in current minute is odd"
      ]
    },
    {
      "cell_type": "code",
      "source": [
        "minute = int(input('Enter minute (positive number and not greater than 60) : '))\n",
        "assert minute >= 0 and minute <= 60, 'Enter a number between 0 to 60 (inclusive)'\n",
        "\n",
        "if minute % 2 != 0:\n",
        "    print(f'minute : {minute} \\nThis is odd minute')\n",
        "else :\n",
        "    print(f'minute : {minute} \\nThis is not an odd minute')\n"
      ],
      "metadata": {
        "colab": {
          "base_uri": "https://localhost:8080/"
        },
        "id": "eV-DG51jubZI",
        "outputId": "0196809e-5c19-4db8-9900-4e7ea18ca00a"
      },
      "execution_count": null,
      "outputs": [
        {
          "output_type": "stream",
          "name": "stdout",
          "text": [
            "Enter minute (positive number and not greater than 60) : 53\n",
            "minute : 53 \n",
            "This is odd minute\n"
          ]
        }
      ]
    },
    {
      "cell_type": "code",
      "execution_count": null,
      "metadata": {
        "id": "jl0Nc_wguOlM",
        "outputId": "65919aa3-c21f-4486-ee62-478db245f46f"
      },
      "outputs": [
        {
          "name": "stdout",
          "output_type": "stream",
          "text": [
            "minute : 53\n",
            "This is Odd minute\n"
          ]
        }
      ],
      "source": [
        "#CODE HERE"
      ]
    },
    {
      "cell_type": "markdown",
      "metadata": {
        "id": "CGB_vWw8uOlP"
      },
      "source": [
        "> if today is satarday then print 'Party !!!' or if sunday print take rest other wise print work , work, work"
      ]
    },
    {
      "cell_type": "code",
      "source": [
        "today = input('Enter the day : ')\n",
        "today.lower()\n",
        "assert (today in ['sunday','monday','tuesday','wednesday','thursday','friday','saturday'])  == True , 'Enter the weekday'\n",
        "\n",
        "if today == 'saturday':\n",
        "  print('Party!!!')\n",
        "\n",
        "elif today == 'sunday':\n",
        "  print('take rest')\n",
        "\n",
        "else :\n",
        "  print('work,work,work')"
      ],
      "metadata": {
        "colab": {
          "base_uri": "https://localhost:8080/"
        },
        "id": "RceLSe7RBb3P",
        "outputId": "debb90c8-5957-4192-85d9-476a50c45613"
      },
      "execution_count": null,
      "outputs": [
        {
          "output_type": "stream",
          "name": "stdout",
          "text": [
            "Enter the day : saturday\n",
            "Party!!!\n"
          ]
        }
      ]
    },
    {
      "cell_type": "code",
      "execution_count": null,
      "metadata": {
        "id": "Jo8Fj2l3uOlQ"
      },
      "outputs": [],
      "source": [
        "#CODE HERE"
      ]
    },
    {
      "cell_type": "markdown",
      "metadata": {
        "id": "5M1tH5h6uOlR"
      },
      "source": [
        "> Write a program which will find all such numbers which are divisible by 7 but are not a multiple of 5, between 2000 and 3200 (both included). The numbers obtained should be printed in a comma-separated sequence on a single line."
      ]
    },
    {
      "cell_type": "code",
      "source": [
        "for i in range(2000,3201):                            # both 2000 and 3200 are included in the given range\n",
        "  if i % 7 == 0 and i % 5 != 0:                       # checks number is divisible by 7 but not divisible by 5\n",
        "    print(i, end = ',')"
      ],
      "metadata": {
        "id": "Bk1xVWwCQ722",
        "colab": {
          "base_uri": "https://localhost:8080/"
        },
        "outputId": "20d4d5e5-6d8e-48c0-82ab-761c6b823b75"
      },
      "execution_count": null,
      "outputs": [
        {
          "output_type": "stream",
          "name": "stdout",
          "text": [
            "2002,2009,2016,2023,2037,2044,2051,2058,2072,2079,2086,2093,2107,2114,2121,2128,2142,2149,2156,2163,2177,2184,2191,2198,2212,2219,2226,2233,2247,2254,2261,2268,2282,2289,2296,2303,2317,2324,2331,2338,2352,2359,2366,2373,2387,2394,2401,2408,2422,2429,2436,2443,2457,2464,2471,2478,2492,2499,2506,2513,2527,2534,2541,2548,2562,2569,2576,2583,2597,2604,2611,2618,2632,2639,2646,2653,2667,2674,2681,2688,2702,2709,2716,2723,2737,2744,2751,2758,2772,2779,2786,2793,2807,2814,2821,2828,2842,2849,2856,2863,2877,2884,2891,2898,2912,2919,2926,2933,2947,2954,2961,2968,2982,2989,2996,3003,3017,3024,3031,3038,3052,3059,3066,3073,3087,3094,3101,3108,3122,3129,3136,3143,3157,3164,3171,3178,3192,3199,"
          ]
        }
      ]
    },
    {
      "cell_type": "code",
      "execution_count": null,
      "metadata": {
        "id": "gGrvxvBbuOlS",
        "outputId": "1ddde8de-82c7-4577-c6cf-c7b03930d53b"
      },
      "outputs": [
        {
          "name": "stdout",
          "output_type": "stream",
          "text": [
            "2002,2009,2016,2023,2037,2044,2051,2058,2072,2079,2086,2093,2107,2114,2121,2128,2142,2149,2156,2163,2177,2184,2191,2198,2212,2219,2226,2233,2247,2254,2261,2268,2282,2289,2296,2303,2317,2324,2331,2338,2352,2359,2366,2373,2387,2394,2401,2408,2422,2429,2436,2443,2457,2464,2471,2478,2492,2499,2506,2513,2527,2534,2541,2548,2562,2569,2576,2583,2597,2604,2611,2618,2632,2639,2646,2653,2667,2674,2681,2688,2702,2709,2716,2723,2737,2744,2751,2758,2772,2779,2786,2793,2807,2814,2821,2828,2842,2849,2856,2863,2877,2884,2891,2898,2912,2919,2926,2933,2947,2954,2961,2968,2982,2989,2996,3003,3017,3024,3031,3038,3052,3059,3066,3073,3087,3094,3101,3108,3122,3129,3136,3143,3157,3164,3171,3178,3192,3199\n"
          ]
        }
      ],
      "source": [
        "#CODE HERE"
      ]
    },
    {
      "cell_type": "markdown",
      "metadata": {
        "id": "JQn5fzMwuOlT"
      },
      "source": [
        "> Write a program which can compute the factorial of a given numbers.\n",
        "The results should be printed in a comma-separated sequence on a single line.\n",
        "Suppose the following input is supplied to the program:\n",
        "8\n",
        "Then, the output should be:\n",
        "40320"
      ]
    },
    {
      "cell_type": "code",
      "source": [
        "num = int(input('Enter a number: '))\n",
        "assert num >= 0, 'Enter a number greater than zero'      # factorial for negative numbers do not exist\n",
        "\n",
        "factors = ''\n",
        "fact = 1\n",
        "\n",
        "if num == 0:\n",
        "                                                         # factorial of 0 is 1\n",
        "    factors = '1'\n",
        "else:\n",
        "    for i in range(1, num + 1):\n",
        "        fact *= i                                        # calculate the factorial of the num\n",
        "        factors += str(i)                                # appending the factors of num to string 'factors'\n",
        "        if i != num:\n",
        "            factors += ', '                              # sepearating factots within string by comma\n",
        "\n",
        "print(f'Factors of {num}! are: {factors}')\n",
        "print(f'{num}! = {fact}')\n"
      ],
      "metadata": {
        "colab": {
          "base_uri": "https://localhost:8080/"
        },
        "id": "N3-Zzmxgunvm",
        "outputId": "a1718a34-d663-492b-be89-584c2dcd7dc1"
      },
      "execution_count": null,
      "outputs": [
        {
          "output_type": "stream",
          "name": "stdout",
          "text": [
            "Enter a number: 8\n",
            "Factors of 8! are: 1, 2, 3, 4, 5, 6, 7, 8\n",
            "8! = 40320\n"
          ]
        }
      ]
    },
    {
      "cell_type": "code",
      "execution_count": null,
      "metadata": {
        "id": "V5DpVftHuOlU",
        "outputId": "97774fc1-4488-47be-cacc-553bcbc7fd83"
      },
      "outputs": [
        {
          "name": "stdout",
          "output_type": "stream",
          "text": [
            "Enter the value to compute the factorial: 8\n",
            "8! = 40320\n"
          ]
        }
      ],
      "source": [
        "#CODE HERE\n"
      ]
    },
    {
      "cell_type": "markdown",
      "metadata": {
        "id": "94zvqzMduOlV"
      },
      "source": [
        "> With a given integral number n, write a program to generate a dictionary that contains (i, i*i) such that is an integral number between 1 and n (both included). and then the program should print the dictionary.\n",
        "Suppose the following input is supplied to the program:\n",
        "8\n",
        "Then, the output should be:\n",
        "{1: 1, 2: 4, 3: 9, 4: 16, 5: 25, 6: 36, 7: 49, 8: 64}\n",
        "\n",
        "*Hint* : use dict()"
      ]
    },
    {
      "cell_type": "code",
      "source": [
        "n = int(input('Enter the number for generating a dictionary of number and it\\'s squares: '))\n",
        "squaredDict = {i:i*i for i in range(1,n+1)}                 # using dict comprehension\n",
        "squaredDict\n"
      ],
      "metadata": {
        "colab": {
          "base_uri": "https://localhost:8080/"
        },
        "id": "yukZnXCkzsaA",
        "outputId": "bdefede6-f484-4b68-abf4-10176b2de69a"
      },
      "execution_count": null,
      "outputs": [
        {
          "name": "stdout",
          "output_type": "stream",
          "text": [
            "Enter the number for generating a dictionary of number and it's squares: 8\n"
          ]
        },
        {
          "output_type": "execute_result",
          "data": {
            "text/plain": [
              "{1: 1, 2: 4, 3: 9, 4: 16, 5: 25, 6: 36, 7: 49, 8: 64}"
            ]
          },
          "metadata": {},
          "execution_count": 24
        }
      ]
    },
    {
      "cell_type": "code",
      "execution_count": null,
      "metadata": {
        "id": "w61PYQQHuOlV",
        "outputId": "4a44de30-8404-49d9-f60c-cb5583a5096c"
      },
      "outputs": [
        {
          "name": "stdout",
          "output_type": "stream",
          "text": [
            "Enter the value: 8\n",
            "{1: 1, 2: 4, 3: 9, 4: 16, 5: 25, 6: 36, 7: 49, 8: 64}\n"
          ]
        }
      ],
      "source": [
        "#CODE HERE"
      ]
    },
    {
      "cell_type": "markdown",
      "metadata": {
        "id": "naTsSJjiuOlW"
      },
      "source": [
        "> create user defined fuction for\n",
        "- addition \"add\"\n",
        "- subtraction \"sub\"\n",
        "- multiplication \"mul\"\n",
        "- division \"div\"\n",
        "- power \"pow\""
      ]
    },
    {
      "cell_type": "code",
      "source": [
        "n1 = int(input('Enter first value : '))\n",
        "n2 = int(input('Enter second value : '))\n",
        "op = input('Enter the keyword {add, sub, mul, div, pow}: ')\n",
        "op.lower()\n",
        "if op == 'add' :\n",
        "  print(f'sum of {n1} and {n2} is : {n1+n2}')\n",
        "elif op == 'sub' :\n",
        "   print(f'diff of {n1} and {n2} is : {n1-n2}')\n",
        "elif op == 'mul' :\n",
        "   print(f'product of {n1} and {n2} is : {n1*n2}')\n",
        "elif op == 'div' :\n",
        "   print(f'division of {n1} by {n2} is : {n1/n2}')\n",
        "else :\n",
        "   print(f'power of {n1} by {n2} is : {n1**n2}')"
      ],
      "metadata": {
        "colab": {
          "base_uri": "https://localhost:8080/"
        },
        "id": "2pOMIWE_3zUb",
        "outputId": "8c220118-965a-4d18-90bd-1f13770a9bbc"
      },
      "execution_count": null,
      "outputs": [
        {
          "output_type": "stream",
          "name": "stdout",
          "text": [
            "Enter first value : 8\n",
            "Enter second value : 6\n",
            "Enter the keyword {add, sub, mul, div, pow}: pOw\n",
            "power of 8 by 6 is : 262144\n"
          ]
        }
      ]
    },
    {
      "cell_type": "code",
      "execution_count": null,
      "metadata": {
        "id": "oqbavz11uOlW",
        "outputId": "c535de4b-0171-490c-b29c-07eef61de67f"
      },
      "outputs": [
        {
          "name": "stdout",
          "output_type": "stream",
          "text": [
            "Please enter the value : 8\n",
            "Please enter the value : 6\n",
            "Enter the keyword {add, sub, mul, div, pow}:pow\n",
            "==============================\n",
            "Power of 8 by 6 is : 262144\n"
          ]
        }
      ],
      "source": [
        "#CODE HERE"
      ]
    },
    {
      "cell_type": "markdown",
      "metadata": {
        "id": "f5GkTL64uOlW"
      },
      "source": [
        "### Write a Python program that accepts a string and calculate the number of digits and letters.\n",
        "- Input\n",
        "\n",
        "    - Hello321Bye360\n",
        "- Output\n",
        "\n",
        "    - Digit - 6\n",
        "\n",
        "    - Letter - 8"
      ]
    },
    {
      "cell_type": "code",
      "source": [
        "word = input(\"ENter the text: \")\n",
        "digitCount = 0\n",
        "letterCount = 0\n",
        "\n",
        "for i in word:\n",
        "  if i.isdigit() == True :\n",
        "    digitCount += 1\n",
        "  if i.isalpha() == True :\n",
        "    letterCount += 1\n",
        "\n",
        "print(f'Digit - {digitCount}')\n",
        "print(f'Letter - {letterCount}')"
      ],
      "metadata": {
        "colab": {
          "base_uri": "https://localhost:8080/"
        },
        "id": "ZLnzOeKJSesK",
        "outputId": "e034d5be-23c2-4299-e4b0-1c3318c4becf"
      },
      "execution_count": null,
      "outputs": [
        {
          "output_type": "stream",
          "name": "stdout",
          "text": [
            "ENter the text: hi12\n",
            "Digit - 2\n",
            "Letter - 2\n"
          ]
        }
      ]
    },
    {
      "cell_type": "code",
      "execution_count": null,
      "metadata": {
        "id": "bw0TuRZ1uOlX",
        "outputId": "d9aaab8b-a9d8-47a6-f6cf-a7ff3e05dc96"
      },
      "outputs": [
        {
          "name": "stdout",
          "output_type": "stream",
          "text": [
            "ENter the text: innomatics1231239746\n",
            "Digit - 10\n",
            "Letter - 10\n"
          ]
        }
      ],
      "source": [
        "# CODE HERE\n",
        "\n"
      ]
    },
    {
      "cell_type": "markdown",
      "metadata": {
        "id": "koeSOkrpuOlX"
      },
      "source": [
        "### With a given tuple (1,2,3,4,5,6,7,8,9,10), write a program to print the first half values in one line and the last half values in one line."
      ]
    },
    {
      "cell_type": "code",
      "source": [
        "# METHOD - 1\n",
        "\n",
        "tpl = (1,2,3,4,5,6,7,8,9,10)\n",
        "\n",
        "for i in range(len(tpl)//2):\n",
        "  print(tpl[ : (len(tpl)//2)][i] ,end = ' ')\n",
        "\n",
        "print()\n",
        "\n",
        "for i in range(len(tpl) - len(tpl)//2):\n",
        "  print(tpl[(len(tpl)//2) : ][i] ,end = ' ')\n"
      ],
      "metadata": {
        "colab": {
          "base_uri": "https://localhost:8080/"
        },
        "id": "gAbF2MlcUWkF",
        "outputId": "b9b5002c-776b-49f0-8a56-afdee9deb459"
      },
      "execution_count": null,
      "outputs": [
        {
          "output_type": "stream",
          "name": "stdout",
          "text": [
            "1 2 3 4 5 \n",
            "6 7 8 9 10 "
          ]
        }
      ]
    },
    {
      "cell_type": "code",
      "execution_count": null,
      "metadata": {
        "id": "-8_TjPqcuOlX",
        "outputId": "51dc3eee-9aa2-4916-f897-4983d30b4c06"
      },
      "outputs": [
        {
          "name": "stdout",
          "output_type": "stream",
          "text": [
            "1 2 3 4 5 \n",
            "6 7 8 9 10 "
          ]
        }
      ],
      "source": [
        "# METHOD - 1\n"
      ]
    },
    {
      "cell_type": "code",
      "source": [
        "# METHOD - 2\n",
        "\n",
        "tpl = (1,2,3,4,5,6,7,8,9,10)\n",
        "\n",
        "print(tpl[:i//2 +1] , tpl[i//2+1 : ])"
      ],
      "metadata": {
        "colab": {
          "base_uri": "https://localhost:8080/"
        },
        "id": "F-Opckr7Wev-",
        "outputId": "4a3185de-7b0f-4f49-8036-5341e35641fe"
      },
      "execution_count": null,
      "outputs": [
        {
          "output_type": "stream",
          "name": "stdout",
          "text": [
            "(1, 2, 3, 4, 5) (6, 7, 8, 9, 10)\n"
          ]
        }
      ]
    },
    {
      "cell_type": "code",
      "execution_count": null,
      "metadata": {
        "id": "21oM8HTVuOlY",
        "outputId": "cadfc6a6-d7b0-4cea-ec75-d132b4ce694d"
      },
      "outputs": [
        {
          "name": "stdout",
          "output_type": "stream",
          "text": [
            "(1, 2, 3, 4, 5) (6, 7, 8, 9, 10)\n"
          ]
        }
      ],
      "source": [
        "# METHOD - 2\n"
      ]
    },
    {
      "cell_type": "code",
      "source": [
        "tpl = (1,2,3,4,5,6,7,8,9,10)\n",
        "\n",
        "print(list(tpl[:(len(tpl)//2) ]))\n",
        "print(list(tpl[(len(tpl)//2) : ]))\n"
      ],
      "metadata": {
        "colab": {
          "base_uri": "https://localhost:8080/"
        },
        "id": "2J57j4alaocL",
        "outputId": "8d51fe09-56b3-4780-e23c-45502f4bdd2b"
      },
      "execution_count": null,
      "outputs": [
        {
          "output_type": "stream",
          "name": "stdout",
          "text": [
            "[1, 2, 3, 4, 5]\n",
            "[6, 7, 8, 9, 10]\n"
          ]
        }
      ]
    },
    {
      "cell_type": "code",
      "execution_count": null,
      "metadata": {
        "id": "_fiEzMbguOlY",
        "outputId": "afbee577-6930-42a6-f80c-1769ecb4d2eb"
      },
      "outputs": [
        {
          "name": "stdout",
          "output_type": "stream",
          "text": [
            "[1, 2, 3, 4, 5]\n",
            "[6, 7, 8, 9, 10]\n"
          ]
        }
      ],
      "source": [
        "# METHOD - 3\n"
      ]
    },
    {
      "cell_type": "markdown",
      "metadata": {
        "id": "8lbqcgYDuOlZ"
      },
      "source": [
        "### Write a program to generate and print another tuple whose values are even numbers in the given tuple (1,2,3,4,5,6,7,8,9,10)"
      ]
    },
    {
      "cell_type": "code",
      "source": [
        "tpl = (1,2,3,4,5,6,7,8,9,10)\n",
        "result = []\n",
        "for i in tpl :\n",
        "  if i % 2 == 0 :\n",
        "    result.append(i)\n",
        "\n",
        "print(tuple(result))"
      ],
      "metadata": {
        "colab": {
          "base_uri": "https://localhost:8080/"
        },
        "id": "ilaUtAAab8xD",
        "outputId": "754b2d91-ed2c-421f-9b64-d71254c8e3cf"
      },
      "execution_count": null,
      "outputs": [
        {
          "output_type": "stream",
          "name": "stdout",
          "text": [
            "(2, 4, 6, 8, 10)\n"
          ]
        }
      ]
    },
    {
      "cell_type": "code",
      "execution_count": null,
      "metadata": {
        "id": "L6Mh4DXmuOlZ",
        "outputId": "335e0735-78a1-4209-be7a-7bae946eafa5"
      },
      "outputs": [
        {
          "name": "stdout",
          "output_type": "stream",
          "text": [
            "(2, 4, 6, 8, 10)\n"
          ]
        }
      ],
      "source": []
    },
    {
      "cell_type": "markdown",
      "metadata": {
        "id": "Vmut5M7FuOlZ"
      },
      "source": [
        "### Write a program which accepts a string as input to print \"Yes\" if the string is \"yes\" or \"YES\" or \"Yes\", otherwise print \"No\""
      ]
    },
    {
      "cell_type": "code",
      "source": [
        "text = input(\"Please type something. --> \")\n",
        "\n",
        "text1 = text.lower()\n",
        "print('Yes' if text1.islower() and text1.isalpha() else 'No')\n"
      ],
      "metadata": {
        "colab": {
          "base_uri": "https://localhost:8080/"
        },
        "id": "7AbD_0Hocq9C",
        "outputId": "9f22f029-8b7d-4f4f-87d7-99f514f4aa9a"
      },
      "execution_count": null,
      "outputs": [
        {
          "output_type": "stream",
          "name": "stdout",
          "text": [
            "Please type something. --> hi#\n",
            "No\n"
          ]
        }
      ]
    },
    {
      "cell_type": "code",
      "execution_count": null,
      "metadata": {
        "id": "IWY9lVAluOlZ",
        "outputId": "0cf76235-4b4b-41c8-adda-793481724476",
        "colab": {
          "base_uri": "https://localhost:8080/"
        }
      },
      "outputs": [
        {
          "name": "stdout",
          "output_type": "stream",
          "text": [
            "Please type something. --> \n"
          ]
        }
      ],
      "source": [
        "text = input(\"Please type something. --> \")\n"
      ]
    },
    {
      "cell_type": "markdown",
      "metadata": {
        "id": "o0OSWj97uOla"
      },
      "source": [
        "### Please write a program to generate a list with 5 random numbers between 100 and 200 inclusive."
      ]
    },
    {
      "cell_type": "code",
      "source": [
        "import random\n",
        "\n",
        "numList = []                                    # to add random numbers to the list\n",
        "\n",
        "for i in range(5):\n",
        "  if len(numList) <= 5:\n",
        "    numList.append(random.randint(100, 201))    # adding random numbers\n",
        "\n",
        "\n",
        "print(numList)\n"
      ],
      "metadata": {
        "colab": {
          "base_uri": "https://localhost:8080/"
        },
        "id": "YC7-jgV7hYgK",
        "outputId": "1eb75020-436c-4387-b703-cff6c1c557e5"
      },
      "execution_count": null,
      "outputs": [
        {
          "output_type": "stream",
          "name": "stdout",
          "text": [
            "[114, 166, 115, 136, 120]\n"
          ]
        }
      ]
    },
    {
      "cell_type": "code",
      "execution_count": null,
      "metadata": {
        "id": "xycH4hIvuOla",
        "outputId": "2ca425c8-01a3-4e99-b9f5-dec71907df46"
      },
      "outputs": [
        {
          "name": "stdout",
          "output_type": "stream",
          "text": [
            "[139, 188, 145, 194, 143]\n"
          ]
        }
      ],
      "source": [
        "import random\n"
      ]
    },
    {
      "cell_type": "markdown",
      "metadata": {
        "id": "-hPHZ8cLuOla"
      },
      "source": [
        "### Please generate a random float where the value is between 5 and 95 using Python module."
      ]
    },
    {
      "cell_type": "code",
      "source": [
        "import random\n",
        "\n",
        "print(random.uniform(5,95))"
      ],
      "metadata": {
        "colab": {
          "base_uri": "https://localhost:8080/"
        },
        "id": "dZtXHMXwRdR3",
        "outputId": "09fa511d-ca54-4245-d526-0e0529134d89"
      },
      "execution_count": null,
      "outputs": [
        {
          "output_type": "stream",
          "name": "stdout",
          "text": [
            "22.991685414519118\n"
          ]
        }
      ]
    },
    {
      "cell_type": "code",
      "execution_count": null,
      "metadata": {
        "id": "H9fozg-8uOla",
        "outputId": "44e11109-5a1f-481a-b915-bad2ea2b1ff6"
      },
      "outputs": [
        {
          "name": "stdout",
          "output_type": "stream",
          "text": [
            "50.407397170147895\n"
          ]
        }
      ],
      "source": [
        "import random\n"
      ]
    },
    {
      "cell_type": "markdown",
      "metadata": {
        "id": "qW707CqAuOlb"
      },
      "source": [
        "### [1,1,1,1,3,3,4,4,4,5,6,7,8,8,8]\n",
        "#### 1. from the above list print the uniques values\n",
        "#### 2. count how many times each number exist\n",
        "#### 3. Print the number which is occured more number of times"
      ]
    },
    {
      "cell_type": "code",
      "execution_count": null,
      "metadata": {
        "id": "P-QhLVQLuOlb",
        "colab": {
          "base_uri": "https://localhost:8080/"
        },
        "outputId": "c1505d4f-67d2-478c-fa60-afb8511a3340"
      },
      "outputs": [
        {
          "output_type": "stream",
          "name": "stdout",
          "text": [
            "{1, 3, 4, 5, 6, 7, 8}\n"
          ]
        }
      ],
      "source": [
        "lst = [1,1,1,1,3,3,4,4,4,5,6,7,8,8,8]\n",
        "uniqueValues = set(lst)\n",
        "print(uniqueValues)"
      ]
    },
    {
      "cell_type": "code",
      "execution_count": null,
      "metadata": {
        "id": "WYJFmI1OuOlb",
        "colab": {
          "base_uri": "https://localhost:8080/"
        },
        "outputId": "12b3754b-127a-4238-c66a-201fb796d668"
      },
      "outputs": [
        {
          "output_type": "stream",
          "name": "stdout",
          "text": [
            "1 exists in given list 4 times\n",
            "3 exists in given list 2 times\n",
            "4 exists in given list 3 times\n",
            "5 exists in given list 1 times\n",
            "6 exists in given list 1 times\n",
            "7 exists in given list 1 times\n",
            "8 exists in given list 3 times\n"
          ]
        }
      ],
      "source": [
        "lst = [1,1,1,1,3,3,4,4,4,5,6,7,8,8,8]\n",
        "count = 0\n",
        "for i in set(lst) :\n",
        "  print(f'{i} exists in given list {lst.count(i)} times')\n",
        "  count = 0\n"
      ]
    },
    {
      "cell_type": "code",
      "execution_count": null,
      "metadata": {
        "id": "is3cAzoAuOlb",
        "colab": {
          "base_uri": "https://localhost:8080/"
        },
        "outputId": "45b9ddb0-57b0-4a67-86aa-62301384d20b"
      },
      "outputs": [
        {
          "output_type": "stream",
          "name": "stdout",
          "text": [
            "number that occurred maximum times :  {1}\n"
          ]
        }
      ],
      "source": [
        "lst = [1,1,1,1,3,3,4,4,4,5,6,7,8,8,8]\n",
        "countDict = {i : lst.count(i) for i in lst}\n",
        "# print(max(countDict.values()))\n",
        "maxCount = max(countDict.values())\n",
        "\n",
        "maxNum = {k for k,v in countDict.items() if v == maxCount}\n",
        "print(f'number that occurred maximum times : ',maxNum)\n"
      ]
    },
    {
      "cell_type": "markdown",
      "metadata": {
        "id": "8TjYbUm-uOlb"
      },
      "source": [
        "# [Innomatics Research Labs](https:/innomatics.in/)\n",
        "[www.innomatics.in](https:/innomatics.in/)"
      ]
    },
    {
      "cell_type": "code",
      "execution_count": null,
      "metadata": {
        "id": "TyIrH7szuOlc"
      },
      "outputs": [],
      "source": []
    }
  ],
  "metadata": {
    "kernelspec": {
      "display_name": "Python 3",
      "language": "python",
      "name": "python3"
    },
    "language_info": {
      "codemirror_mode": {
        "name": "ipython",
        "version": 3
      },
      "file_extension": ".py",
      "mimetype": "text/x-python",
      "name": "python",
      "nbconvert_exporter": "python",
      "pygments_lexer": "ipython3",
      "version": "3.8.5"
    },
    "colab": {
      "provenance": [],
      "include_colab_link": true
    }
  },
  "nbformat": 4,
  "nbformat_minor": 0
}