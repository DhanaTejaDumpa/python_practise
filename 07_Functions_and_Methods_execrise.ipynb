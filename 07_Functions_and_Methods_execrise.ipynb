{
  "cells": [
    {
      "cell_type": "markdown",
      "metadata": {
        "id": "view-in-github",
        "colab_type": "text"
      },
      "source": [
        "<a href=\"https://colab.research.google.com/github/DhanaTejaDumpa/python_practise/blob/main/07_Functions_and_Methods_execrise.ipynb\" target=\"_parent\"><img src=\"https://colab.research.google.com/assets/colab-badge.svg\" alt=\"Open In Colab\"/></a>"
      ]
    },
    {
      "cell_type": "markdown",
      "metadata": {
        "id": "ulWPjwCr5CTn"
      },
      "source": [
        "# Functions and Methods Homework\n",
        "\n",
        "Complete the following questions:\n",
        "____\n",
        "**Write a function that computes the volume of a sphere given its radius.**"
      ]
    },
    {
      "cell_type": "markdown",
      "metadata": {
        "id": "h7FOxpgS5CTr"
      },
      "source": [
        "volume = 4/3 pi $r ^3$"
      ]
    },
    {
      "cell_type": "code",
      "execution_count": null,
      "metadata": {
        "id": "zWF2MYhR5CTt"
      },
      "outputs": [],
      "source": [
        "def vol(rad):\n",
        "    # code here"
      ]
    },
    {
      "cell_type": "code",
      "source": [
        "def vol(rad):\n",
        "  return (4/3)*(3.14)*(rad)**3                            # pi = 3.14 and rad = radius of sphere\n",
        "\n",
        "vol(5)\n"
      ],
      "metadata": {
        "colab": {
          "base_uri": "https://localhost:8080/"
        },
        "id": "egb7EI5Dpemw",
        "outputId": "19649024-4735-4d5f-a2e2-6d9ce6e91252"
      },
      "execution_count": null,
      "outputs": [
        {
          "output_type": "execute_result",
          "data": {
            "text/plain": [
              "523.3333333333334"
            ]
          },
          "metadata": {},
          "execution_count": 1
        }
      ]
    },
    {
      "cell_type": "markdown",
      "metadata": {
        "id": "HMo_Rw5a5CTy"
      },
      "source": [
        "___\n",
        "**Write a function that checks whether a number is in a given range (Inclusive of high and low)**"
      ]
    },
    {
      "cell_type": "code",
      "execution_count": null,
      "metadata": {
        "id": "n0yqPe8E5CT0"
      },
      "outputs": [],
      "source": [
        "def ran_check(num,low,high):\n",
        "    assert low < high , 'high value must greater than low value.kindly recheck your entries'\n",
        "    if low <= num <= high :\n",
        "      print(f'{num} is in range({low},{high})')\n",
        "    else :\n",
        "      print(f'{num} is not in range({low},{high})')\n",
        "\n"
      ]
    },
    {
      "cell_type": "code",
      "source": [
        "ran_check(5,3,4)"
      ],
      "metadata": {
        "colab": {
          "base_uri": "https://localhost:8080/"
        },
        "id": "lS_JcIqBs-OY",
        "outputId": "db4bfa73-478e-4dae-92d2-0f5339f82126"
      },
      "execution_count": null,
      "outputs": [
        {
          "output_type": "stream",
          "name": "stdout",
          "text": [
            "5 is not in range(3,4)\n"
          ]
        }
      ]
    },
    {
      "cell_type": "markdown",
      "metadata": {
        "id": "iwjtPA8c5CT7"
      },
      "source": [
        "If you only wanted to return a boolean:"
      ]
    },
    {
      "cell_type": "code",
      "execution_count": null,
      "metadata": {
        "id": "MpXji4ez5CT9"
      },
      "outputs": [],
      "source": [
        "def ran_bool(num,low,high):\n",
        "    assert low < high , 'high value must greater than low value.kindly recheck your entries'\n",
        "    if low <= num <= high :                  # if number is in given range, then return true\n",
        "      return True\n",
        "    else :                                   # if number is not in range, then return false\n",
        "      return False\n",
        "\n"
      ]
    },
    {
      "cell_type": "code",
      "source": [
        "ran_bool(5,3,7)"
      ],
      "metadata": {
        "colab": {
          "base_uri": "https://localhost:8080/"
        },
        "id": "1OpT6UPstDcM",
        "outputId": "2800da89-d086-4028-ffc6-13c45a8d1dc2"
      },
      "execution_count": null,
      "outputs": [
        {
          "output_type": "execute_result",
          "data": {
            "text/plain": [
              "True"
            ]
          },
          "metadata": {},
          "execution_count": 16
        }
      ]
    },
    {
      "cell_type": "code",
      "execution_count": null,
      "metadata": {
        "id": "0V5Z-P4x5CUB",
        "outputId": "b840e6e7-7c34-491b-e39f-7ee3ed5feba5"
      },
      "outputs": [
        {
          "data": {
            "text/plain": [
              "True"
            ]
          },
          "execution_count": 9,
          "metadata": {
            "tags": []
          },
          "output_type": "execute_result"
        }
      ],
      "source": [
        "ran_bool(3,1,10)"
      ]
    },
    {
      "cell_type": "markdown",
      "metadata": {
        "id": "vqDY4M-45CUJ"
      },
      "source": [
        "____\n",
        "**Write a Python function that accepts a string and calculate the number of upper case letters and lower case letters.**\n",
        "\n",
        "    Sample String : 'Hello Mr. Rogers, how are you this fine Tuesday?'\n",
        "    Expected Output :\n",
        "    No. of Upper case characters : 4\n",
        "    No. of Lower case Characters : 33\n",
        "\n",
        "If you feel ambitious, explore the Collections module to solve this problem!"
      ]
    },
    {
      "cell_type": "code",
      "execution_count": null,
      "metadata": {
        "id": "zK0dlL0J5CUK"
      },
      "outputs": [],
      "source": [
        "def up_low(s):\n",
        "    upper_count = 0\n",
        "    lower_count = 0\n",
        "    for i in s:\n",
        "      if i.isupper():                           # if letter is uppercase letter,increment the uppercase count\n",
        "       upper_count += 1\n",
        "      elif i.islower() :                        # if letter is lowercase letter,increment the lowercase count\n",
        "       lower_count += 1\n",
        "    print(f'No. of upper case characters : {upper_count}')\n",
        "    print(f'No. of lower case characters : {lower_count}')"
      ]
    },
    {
      "cell_type": "code",
      "source": [
        "up_low('Hurray Hurray!')"
      ],
      "metadata": {
        "colab": {
          "base_uri": "https://localhost:8080/"
        },
        "id": "_Xz7Ez2mvpoo",
        "outputId": "e720277b-1a21-4540-fcf6-6dca05ac6353"
      },
      "execution_count": null,
      "outputs": [
        {
          "output_type": "stream",
          "name": "stdout",
          "text": [
            "No. of upper case characters : 2\n",
            "No. of lower case characters : 10\n"
          ]
        }
      ]
    },
    {
      "cell_type": "markdown",
      "metadata": {
        "id": "KM0XQc4W5CUP"
      },
      "source": [
        "____\n",
        "**Write a Python function that takes a list and returns a new list with unique elements of the first list.**\n",
        "\n",
        "    Sample List : [1,1,1,1,2,2,3,3,3,3,4,5]\n",
        "    Unique List : [1, 2, 3, 4, 5]"
      ]
    },
    {
      "cell_type": "code",
      "execution_count": null,
      "metadata": {
        "id": "CUat5ZSr5CUR"
      },
      "outputs": [],
      "source": [
        "def unique_list(l):\n",
        "  unique_list = set(l)                           # converting input list to set using set function to get unique elements\n",
        "  return list(unique_list)"
      ]
    },
    {
      "cell_type": "code",
      "source": [
        "unique_list([1,1,1,1,1,1,1,2,2,3,3,5,5,8])"
      ],
      "metadata": {
        "colab": {
          "base_uri": "https://localhost:8080/"
        },
        "id": "bewjOGYvzd0R",
        "outputId": "3b5bc635-1c6b-497b-ab1c-84451a332fd8"
      },
      "execution_count": null,
      "outputs": [
        {
          "output_type": "execute_result",
          "data": {
            "text/plain": [
              "[1, 2, 3, 5, 8]"
            ]
          },
          "metadata": {},
          "execution_count": 16
        }
      ]
    },
    {
      "cell_type": "code",
      "execution_count": null,
      "metadata": {
        "id": "tutsZ1Tb5CUV",
        "outputId": "74ef6735-045d-4e4d-e542-a9d469bb2f3a"
      },
      "outputs": [
        {
          "data": {
            "text/plain": [
              "[1, 2, 3, 4, 5]"
            ]
          },
          "execution_count": 14,
          "metadata": {
            "tags": []
          },
          "output_type": "execute_result"
        }
      ],
      "source": [
        "unique_list([1,1,1,1,2,2,3,3,3,3,4,5])"
      ]
    },
    {
      "cell_type": "markdown",
      "metadata": {
        "id": "ITK_schK5CUb"
      },
      "source": [
        "____\n",
        "**Write a Python function to multiply all the numbers in a list.**\n",
        "\n",
        "    Sample List : [1, 2, 3, -4]\n",
        "    Expected Output : -24"
      ]
    },
    {
      "cell_type": "code",
      "execution_count": null,
      "metadata": {
        "id": "8f0Y4zBT5CUd"
      },
      "outputs": [],
      "source": [
        "def multiply(numbers):\n",
        "    x = 1\n",
        "    for i in numbers :\n",
        "      x *= i\n",
        "    return x"
      ]
    },
    {
      "cell_type": "code",
      "source": [
        "multiply([1,2,3,4,-5])"
      ],
      "metadata": {
        "colab": {
          "base_uri": "https://localhost:8080/"
        },
        "id": "TFQ9C6uh0ew4",
        "outputId": "370b64d3-598d-4ac0-fed6-84c169bd75d0"
      },
      "execution_count": null,
      "outputs": [
        {
          "output_type": "execute_result",
          "data": {
            "text/plain": [
              "-120"
            ]
          },
          "metadata": {},
          "execution_count": 52
        }
      ]
    },
    {
      "cell_type": "code",
      "execution_count": null,
      "metadata": {
        "id": "nk_bByrm5CUi",
        "outputId": "8f382453-247f-4f01-fcb2-1a29186b2b79"
      },
      "outputs": [
        {
          "data": {
            "text/plain": [
              "-24"
            ]
          },
          "execution_count": 18,
          "metadata": {
            "tags": []
          },
          "output_type": "execute_result"
        }
      ],
      "source": [
        "multiply([1,2,3,-4])"
      ]
    },
    {
      "cell_type": "markdown",
      "metadata": {
        "id": "5lrg6QgD5CUm"
      },
      "source": [
        "____\n",
        "**Write a Python function that checks whether a passed string is palindrome or not.**\n",
        "\n",
        "Note: A palindrome is word, phrase, or sequence that reads the same backward as forward, e.g., madam or nurses run."
      ]
    },
    {
      "cell_type": "code",
      "execution_count": null,
      "metadata": {
        "id": "aQDoX-6Y5CUn"
      },
      "outputs": [],
      "source": [
        "def palindrome(s):\n",
        "    for i in range(len(s)//2):\n",
        "      if s[i] == s[-(i+1)] :       # checks letters from backward and forward are same\n",
        "        return True                # it's a palindrome\n",
        "      else :\n",
        "        return False               # it's not a palindrome"
      ]
    },
    {
      "cell_type": "code",
      "source": [
        "palindrome('madam')"
      ],
      "metadata": {
        "colab": {
          "base_uri": "https://localhost:8080/"
        },
        "id": "KGQvv_KePg6c",
        "outputId": "390e8078-176e-435b-f5b5-f59cd73ed992"
      },
      "execution_count": null,
      "outputs": [
        {
          "output_type": "execute_result",
          "data": {
            "text/plain": [
              "True"
            ]
          },
          "metadata": {},
          "execution_count": 21
        }
      ]
    },
    {
      "cell_type": "code",
      "execution_count": null,
      "metadata": {
        "id": "Jc6_b7hQ5CUy",
        "outputId": "a23457aa-65fd-4176-ff6d-587c40392b42"
      },
      "outputs": [
        {
          "data": {
            "text/plain": [
              "True"
            ]
          },
          "execution_count": 20,
          "metadata": {
            "tags": []
          },
          "output_type": "execute_result"
        }
      ],
      "source": [
        "palindrome('helleh')"
      ]
    },
    {
      "cell_type": "markdown",
      "metadata": {
        "id": "ACCYHXileB4A"
      },
      "source": [
        "## Given a number N.Find Sum of 1 to N Using Recursion"
      ]
    },
    {
      "cell_type": "code",
      "execution_count": null,
      "metadata": {
        "id": "rHlj4qZHeB4B",
        "outputId": "1bec3ea7-0d6e-4a7d-be29-9e2aa5f72cc2",
        "colab": {
          "base_uri": "https://localhost:8080/"
        }
      },
      "outputs": [
        {
          "output_type": "stream",
          "name": "stdout",
          "text": [
            "10\n",
            "55\n"
          ]
        }
      ],
      "source": [
        "# CODE HERE\n",
        "def summation(n):\n",
        " #Code here\n",
        "  if n == 0:\n",
        "    return 0\n",
        "  return n + summation(n-1)\n",
        "\n",
        "\n",
        "n = int(input())\n",
        "sum = summation(n)\n",
        "print(sum)"
      ]
    },
    {
      "cell_type": "markdown",
      "metadata": {
        "id": "wZ5ctN68eB4B"
      },
      "source": [
        "### Define a function which can generate and print a list where the values are square of numbers between 1 and 20"
      ]
    },
    {
      "cell_type": "code",
      "execution_count": null,
      "metadata": {
        "id": "0YYGul1seB4C",
        "outputId": "341ef7a4-6bac-4bea-b045-02efd1909584",
        "colab": {
          "base_uri": "https://localhost:8080/"
        }
      },
      "outputs": [
        {
          "output_type": "execute_result",
          "data": {
            "text/plain": [
              "[1,\n",
              " 4,\n",
              " 9,\n",
              " 16,\n",
              " 25,\n",
              " 36,\n",
              " 49,\n",
              " 64,\n",
              " 81,\n",
              " 100,\n",
              " 121,\n",
              " 144,\n",
              " 169,\n",
              " 196,\n",
              " 225,\n",
              " 256,\n",
              " 289,\n",
              " 324,\n",
              " 361,\n",
              " 400]"
            ]
          },
          "metadata": {},
          "execution_count": 40
        }
      ],
      "source": [
        "def printList():\n",
        "#Code here\n",
        "  return [x**2 for x in range(1,21)]\n",
        "\n",
        "printList()"
      ]
    },
    {
      "cell_type": "markdown",
      "metadata": {
        "id": "JklRE2qpeB4C"
      },
      "source": [
        "### Define a function which can generate a dictionary where the keys are numbers between 1 and 20 (both included) and the values are square of keys. The function should just print the keys only.\n",
        "\n"
      ]
    },
    {
      "cell_type": "code",
      "source": [
        "def printDict():\n",
        "    #Code Here\n",
        "    d = {x : x**2 for x in range(1,21)}                # creating a dictionary where keys are numbers and values are square of keys\n",
        "    return d.keys()                                    # printing only keys from dictionary d\n",
        "\n",
        "printDict()"
      ],
      "metadata": {
        "colab": {
          "base_uri": "https://localhost:8080/"
        },
        "id": "XDiXCxfRn3ow",
        "outputId": "856e38b7-421b-44ee-b60f-07b07a19e2b9"
      },
      "execution_count": null,
      "outputs": [
        {
          "output_type": "execute_result",
          "data": {
            "text/plain": [
              "dict_keys([1, 2, 3, 4, 5, 6, 7, 8, 9, 10, 11, 12, 13, 14, 15, 16, 17, 18, 19, 20])"
            ]
          },
          "metadata": {},
          "execution_count": 41
        }
      ]
    },
    {
      "cell_type": "markdown",
      "metadata": {
        "id": "_ZeRroNWeB4C"
      },
      "source": [
        "### Write a function that count the no of characters of the given input text\n",
        "- input\n",
        "    - innomatics research labs\n",
        "    \n",
        "- output\n",
        "    - innomatics :10\n",
        "    - research : 8\n",
        "    - labs : 4"
      ]
    },
    {
      "cell_type": "code",
      "source": [
        "\n",
        "def charNum(sent):\n",
        "  sentList = sent.split()\n",
        "\n",
        "  for i in sentList:\n",
        "    print(f'{i} : {len(i)}')\n",
        "\n",
        "sent = input('Enter the text : ')\n",
        "charNum(sent)"
      ],
      "metadata": {
        "colab": {
          "base_uri": "https://localhost:8080/"
        },
        "id": "STwPwOzuot5S",
        "outputId": "24af1274-450b-45b0-8d37-b6db26472b40"
      },
      "execution_count": null,
      "outputs": [
        {
          "output_type": "stream",
          "name": "stdout",
          "text": [
            "Enter the text : hi hello hurray\n",
            "hi : 2\n",
            "hello : 5\n",
            "hurray : 6\n"
          ]
        }
      ]
    },
    {
      "cell_type": "markdown",
      "metadata": {
        "id": "d9c484useB4D"
      },
      "source": [
        "### Write a program which can map() to make a list whose elements are square of elements in [1,2,3,4,5,6,7,8,9,10].\n",
        "\n",
        "Using map() function"
      ]
    },
    {
      "cell_type": "code",
      "execution_count": null,
      "metadata": {
        "id": "CNXXEvwgeB4D",
        "outputId": "1fd43fca-6fd5-4751-8cd8-748b77980dba",
        "colab": {
          "base_uri": "https://localhost:8080/"
        }
      },
      "outputs": [
        {
          "output_type": "stream",
          "name": "stdout",
          "text": [
            "[1, 4, 9, 16, 25, 36, 49, 64, 81, 100]\n"
          ]
        }
      ],
      "source": [
        "# CODE HERE\n",
        "# No different way of code is written as the requirment is specificly mentioned in problem description\n",
        "\n",
        "li = [1, 2, 3, 4, 5, 6, 7, 8, 9, 10]\n",
        "\n",
        "#Code here\n",
        "squaredNumbers = map(lambda x : x ** 2 ,li)                  # syntax : map(function,iterator) .....returns a map object\n",
        "\n",
        "\n",
        "print(list(squaredNumbers))  # converting the object into list"
      ]
    },
    {
      "cell_type": "markdown",
      "metadata": {
        "id": "5Mm8mCe9eB4D"
      },
      "source": [
        "### Write a program which can map() and filter() to make a list whose elements are square of even number in [1,2,3,4,5,6,7,8,9,10].\n",
        "##### using filter()"
      ]
    },
    {
      "cell_type": "code",
      "execution_count": null,
      "metadata": {
        "id": "8IMwnMiweB4E",
        "outputId": "a2ce6ca6-8fcf-46e8-e472-6f38c804f71b",
        "colab": {
          "base_uri": "https://localhost:8080/"
        }
      },
      "outputs": [
        {
          "output_type": "stream",
          "name": "stdout",
          "text": [
            "[4, 16, 36, 64, 100]\n"
          ]
        }
      ],
      "source": [
        "\n",
        "def even(x):\n",
        "#Code here\n",
        "  return filter(lambda i: i % 2 == 0, x)\n",
        "\n",
        "def squer(x):\n",
        "    #Code here\n",
        "  return map(lambda i : i ** 2, even(x))\n",
        "\n",
        "li = [1, 2, 3, 4, 5, 6, 7, 8, 9, 10]\n",
        "\n",
        "#evenNumList\n",
        "even(li)\n",
        "#squaredEvenNumList\n",
        "li = squer(li)\n",
        "\n",
        "# code here\n",
        "# first filters number by even number and the apply map() on the resultant elements\n",
        "print(list(li))"
      ]
    },
    {
      "cell_type": "markdown",
      "metadata": {
        "id": "lTpNTzK_eB4E"
      },
      "source": [
        "### Write a program which can filter() to make a list whose elements are even number between 1 and 20 (both included)"
      ]
    },
    {
      "cell_type": "code",
      "execution_count": null,
      "metadata": {
        "id": "f5403s4seB4E",
        "outputId": "db2d5070-32ae-4c54-a833-eb5aaab2b331",
        "colab": {
          "base_uri": "https://localhost:8080/"
        }
      },
      "outputs": [
        {
          "output_type": "stream",
          "name": "stdout",
          "text": [
            "[2, 4, 6, 8, 10, 12, 14, 16, 18, 20]\n"
          ]
        }
      ],
      "source": [
        "# CODE HERE\n",
        "def even(x):\n",
        "#code here\n",
        "  return  x % 2 == 0\n",
        "\n",
        "evenNumbers = filter(even, range(1, 21))\n",
        "print(list(evenNumbers))"
      ]
    },
    {
      "cell_type": "markdown",
      "metadata": {
        "id": "iEFfb4BfeB4F"
      },
      "source": [
        "### $f(n)=f(n-1)+f(n-2)$ if n>1"
      ]
    },
    {
      "cell_type": "code",
      "execution_count": null,
      "metadata": {
        "id": "Bcgf_bhleB4F",
        "outputId": "9da63dd4-80a4-4714-eaa8-bfb3d162e04c",
        "colab": {
          "base_uri": "https://localhost:8080/"
        }
      },
      "outputs": [
        {
          "output_type": "stream",
          "name": "stdout",
          "text": [
            "Enter n value7\n",
            "13\n"
          ]
        }
      ],
      "source": [
        "def f(n):\n",
        "# Code here\n",
        "  if n == 0:\n",
        "   return n\n",
        "  elif n == 1:\n",
        "   return n\n",
        "  else :\n",
        "   return f(n-1) + f(n-2)\n",
        "n = int(input(\"Enter n value\"))\n",
        "assert n >= 0 , 'Enter a positive integer'\n",
        "print(f(n))"
      ]
    },
    {
      "cell_type": "code",
      "execution_count": null,
      "metadata": {
        "id": "w0Tmc0gyeB4F"
      },
      "outputs": [],
      "source": []
    },
    {
      "cell_type": "markdown",
      "metadata": {
        "id": "GKCWkFCm5CU_"
      },
      "source": [
        "# [Innomatics Research Labs](https:/innomatics.in/)\n",
        "[www.innomatics.in](https:/innomatics.in/)"
      ]
    },
    {
      "cell_type": "code",
      "execution_count": null,
      "metadata": {
        "id": "M3mySc28eB4G"
      },
      "outputs": [],
      "source": []
    }
  ],
  "metadata": {
    "colab": {
      "provenance": [],
      "include_colab_link": true
    },
    "kernelspec": {
      "display_name": "Python 3",
      "language": "python",
      "name": "python3"
    },
    "language_info": {
      "codemirror_mode": {
        "name": "ipython",
        "version": 3
      },
      "file_extension": ".py",
      "mimetype": "text/x-python",
      "name": "python",
      "nbconvert_exporter": "python",
      "pygments_lexer": "ipython3",
      "version": "3.8.8"
    }
  },
  "nbformat": 4,
  "nbformat_minor": 0
}