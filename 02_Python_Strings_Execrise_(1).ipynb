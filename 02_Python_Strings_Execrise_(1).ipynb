{
  "cells": [
    {
      "cell_type": "markdown",
      "metadata": {
        "id": "view-in-github",
        "colab_type": "text"
      },
      "source": [
        "<a href=\"https://colab.research.google.com/github/DhanaTejaDumpa/python_practise/blob/main/02_Python_Strings_Execrise_(1).ipynb\" target=\"_parent\"><img src=\"https://colab.research.google.com/assets/colab-badge.svg\" alt=\"Open In Colab\"/></a>"
      ]
    },
    {
      "cell_type": "markdown",
      "metadata": {
        "id": "C9uAlMH7j6mZ"
      },
      "source": [
        "# Assignment Instructions\n",
        "\n",
        "`Hello Innominion,`\n",
        "\n",
        "- **Try to attempt all the questions in every possible way.**\n",
        "- **Some other topics are required to solve some questions. don't panic.**\n",
        "- **Those questions can be answered after the topics are taught.**\n",
        "\n",
        "\n",
        "- `Join Mentoring Session for the Support/Doubts Resolving with Our Technical Mentors (2.00 PM - 6.00 PM  Mon-Sat)`\n",
        "\n",
        "Happy Learning !!!"
      ]
    },
    {
      "cell_type": "code",
      "execution_count": null,
      "metadata": {
        "id": "5608Eaqtj6mb"
      },
      "outputs": [],
      "source": []
    },
    {
      "cell_type": "markdown",
      "metadata": {
        "id": "NYTDuMNcj6mc"
      },
      "source": [
        "# Strings - Execrise"
      ]
    },
    {
      "cell_type": "code",
      "execution_count": null,
      "metadata": {
        "id": "Y3aNMLYyj6md"
      },
      "outputs": [],
      "source": [
        "text = \"\"\"The University of Hawaii began using radio to send digital information as early as 1971,using ALOHAnet.\n",
        "Friedhelm Hillebrand conceptualised SMS in 1984 while working for Deutsche Telekom. Sitting at a typewriter at home,\n",
        "Hillebrand typed out random sentences and counted every letter, number, punctuation, and space.\n",
        "Almost every time, the messages contained fewer than 160 characters, thus giving the basis for the\n",
        "limit one could type via text messaging. With Bernard Ghillebaert of France Télécom, he developed\n",
        "a proposal for the GSM (Groupe Spécial Mobile) meeting in February 1985 in Oslo.\n",
        "The first technical solution evolved in a GSM subgroup under the leadership of Finn Trosby.\n",
        "It was further developed under the leadership of Kevin Holley and Ian Harris (see Short Message Service).\n",
        "SMS forms an integral part of SS7 (Signalling System No. 7). Under SS7, it is a \"state\" with a 160 character data,\n",
        "coded in the ITU-T \"T.56\" text format, that has a \"sequence lead in\" to determine different language codes,\n",
        "and may have special character codes that permits, for example, sending simple graphs as text.\n",
        "This was part of ISDN (Integrated Services Digital Network) and since GSM is based on this,\n",
        "made its way to the mobile phone. Messages could be sent and received on ISDN phones,\n",
        "and these can send SMS to any GSM phone. The possibility of doing something is one thing,\n",
        "implementing it another, but systems existed from 1988 that sent SMS messages to mobile phones (compare ND-NOTIS).\"\"\""
      ]
    },
    {
      "cell_type": "markdown",
      "metadata": {
        "id": "OqWlV7EOj6mf"
      },
      "source": [
        ">  `Question:` How many characters in text"
      ]
    },
    {
      "cell_type": "code",
      "execution_count": null,
      "metadata": {
        "colab": {
          "base_uri": "https://localhost:8080/"
        },
        "id": "9S-zCNIWj6mf",
        "outputId": "b465b2ec-dd8e-4f8e-d4fe-ec0c9f6973dc"
      },
      "outputs": [
        {
          "output_type": "stream",
          "name": "stdout",
          "text": [
            "The text contains 1507 characters\n"
          ]
        }
      ],
      "source": [
        "# CODE HERE\n",
        "charactersCount = len(text)\n",
        "print(f'The text contains {charactersCount} characters')"
      ]
    },
    {
      "cell_type": "code",
      "execution_count": null,
      "metadata": {
        "id": "uhPcwjDFj6mg",
        "outputId": "64df23bf-1a5a-4775-b993-e6cf9bb336a7"
      },
      "outputs": [
        {
          "data": {
            "text/plain": [
              "1507"
            ]
          },
          "execution_count": 3,
          "metadata": {},
          "output_type": "execute_result"
        }
      ],
      "source": []
    },
    {
      "cell_type": "markdown",
      "metadata": {
        "id": "K_fwbRIcj6mh"
      },
      "source": [
        ">  `Question:` How many words are there in the \"text\""
      ]
    },
    {
      "cell_type": "code",
      "execution_count": null,
      "metadata": {
        "colab": {
          "base_uri": "https://localhost:8080/"
        },
        "id": "tpP0M0Wvj6mi",
        "outputId": "59b18908-ba2b-45b2-87cf-485388c767b9"
      },
      "outputs": [
        {
          "output_type": "stream",
          "name": "stdout",
          "text": [
            "number of words : 244\n"
          ]
        }
      ],
      "source": [
        "# CODE HERE\n",
        "x= text.count(' ')+1\n",
        "print(f'number of words : {x}')"
      ]
    },
    {
      "cell_type": "code",
      "execution_count": null,
      "metadata": {
        "id": "eeiAk2Adj6mi",
        "outputId": "b824b842-3af6-4b1b-d51b-40e4b1a93e42"
      },
      "outputs": [
        {
          "data": {
            "text/plain": [
              "244"
            ]
          },
          "execution_count": 5,
          "metadata": {},
          "output_type": "execute_result"
        }
      ],
      "source": []
    },
    {
      "cell_type": "markdown",
      "metadata": {
        "id": "L20j93S6j6mj"
      },
      "source": [
        ">  `Question:` How many unique words in the \"text\""
      ]
    },
    {
      "cell_type": "code",
      "execution_count": null,
      "metadata": {
        "colab": {
          "base_uri": "https://localhost:8080/"
        },
        "id": "SOp8EwXPj6mj",
        "outputId": "3823426e-8309-4b07-e2b9-c6e540a55c79"
      },
      "outputs": [
        {
          "output_type": "stream",
          "name": "stdout",
          "text": [
            "number of unique words : 174\n"
          ]
        }
      ],
      "source": [
        "# CODE HERE\n",
        "\n",
        "y = set(text.split())\n",
        "z = len(y)\n",
        "print(f'number of unique words : {z}')"
      ]
    },
    {
      "cell_type": "code",
      "execution_count": null,
      "metadata": {
        "id": "kiD-WPTUj6mk",
        "outputId": "93d85924-b83f-4c52-ba37-5ce941d4e4ab"
      },
      "outputs": [
        {
          "data": {
            "text/plain": [
              "174"
            ]
          },
          "execution_count": 7,
          "metadata": {},
          "output_type": "execute_result"
        }
      ],
      "source": []
    },
    {
      "cell_type": "markdown",
      "metadata": {
        "id": "k-SZNctIj6mk"
      },
      "source": [
        ">  `Question:` Find Lexical diversity\n",
        "\n",
        "lexical_diversity = (number of words)/(number of unique words)"
      ]
    },
    {
      "cell_type": "code",
      "source": [
        "lexical_diversity = x/z                  # x --- number of words, z ---- number of unique words\n",
        "print(lexical_diversity)"
      ],
      "metadata": {
        "colab": {
          "base_uri": "https://localhost:8080/"
        },
        "id": "k17IGaUrk5AP",
        "outputId": "33e2a799-2651-42d1-b3a6-1d943c67418e"
      },
      "execution_count": null,
      "outputs": [
        {
          "output_type": "stream",
          "name": "stdout",
          "text": [
            "1.4022988505747127\n"
          ]
        }
      ]
    },
    {
      "cell_type": "code",
      "execution_count": null,
      "metadata": {
        "id": "D2sUjhPTj6ml",
        "outputId": "27fc6f7a-bbb6-423a-f526-c4bd7c1e734d"
      },
      "outputs": [
        {
          "data": {
            "text/plain": [
              "1.4022988505747127"
            ]
          },
          "execution_count": 8,
          "metadata": {},
          "output_type": "execute_result"
        }
      ],
      "source": []
    },
    {
      "cell_type": "markdown",
      "metadata": {
        "id": "SVxggbChj6ml"
      },
      "source": [
        ">  `Question:` Count how many \"the\" in text"
      ]
    },
    {
      "cell_type": "code",
      "execution_count": null,
      "metadata": {
        "colab": {
          "base_uri": "https://localhost:8080/"
        },
        "id": "GKKWnA6Jj6ml",
        "outputId": "aabe6437-5bee-4bc2-bb24-839b92489eeb"
      },
      "outputs": [
        {
          "output_type": "execute_result",
          "data": {
            "text/plain": [
              "14"
            ]
          },
          "metadata": {},
          "execution_count": 60
        }
      ],
      "source": [
        "# CODE HERE\n",
        "\n",
        "# Method 1 :\n",
        "\n",
        "(text.lower()).count('the')                # counting number of the's in the given text"
      ]
    },
    {
      "cell_type": "code",
      "source": [
        "# Method 2 :\n",
        "\n",
        "text.count('the')+text.count('The')        # counting number of the's(both cases) in the given text"
      ],
      "metadata": {
        "colab": {
          "base_uri": "https://localhost:8080/"
        },
        "id": "hUI00NlYn0Ma",
        "outputId": "418d326d-e208-4792-b582-6431a82342e3"
      },
      "execution_count": null,
      "outputs": [
        {
          "output_type": "execute_result",
          "data": {
            "text/plain": [
              "14"
            ]
          },
          "metadata": {},
          "execution_count": 10
        }
      ]
    },
    {
      "cell_type": "code",
      "execution_count": null,
      "metadata": {
        "id": "oJSEHFdhj6mm",
        "outputId": "51c0106b-eae4-40e1-b1a9-2ff7b92658da"
      },
      "outputs": [
        {
          "data": {
            "text/plain": [
              "14"
            ]
          },
          "execution_count": 10,
          "metadata": {},
          "output_type": "execute_result"
        }
      ],
      "source": []
    },
    {
      "cell_type": "markdown",
      "metadata": {
        "id": "J0m6nkgrj6mm"
      },
      "source": [
        ">  `Question:` Count how many \"a\" in text"
      ]
    },
    {
      "cell_type": "code",
      "source": [
        "# Method 1 :\n",
        "\n",
        "(text.lower()).count('a')              # counting number of a's in the given text"
      ],
      "metadata": {
        "colab": {
          "base_uri": "https://localhost:8080/"
        },
        "id": "JzPSBvWu10zU",
        "outputId": "2f6d173e-94c4-463e-a9fa-bb28f35c02f1"
      },
      "execution_count": null,
      "outputs": [
        {
          "output_type": "execute_result",
          "data": {
            "text/plain": [
              "92"
            ]
          },
          "metadata": {},
          "execution_count": 61
        }
      ]
    },
    {
      "cell_type": "code",
      "source": [
        "# Method 2 :\n",
        "\n",
        "text.count('a')+text.count('A')         # counting number of a's(both cases) in the given text"
      ],
      "metadata": {
        "colab": {
          "base_uri": "https://localhost:8080/"
        },
        "id": "MRwbfPrBoLl2",
        "outputId": "0e2f0ad6-abe2-4bc2-d3f8-20f81a8cd8a3"
      },
      "execution_count": null,
      "outputs": [
        {
          "output_type": "execute_result",
          "data": {
            "text/plain": [
              "92"
            ]
          },
          "metadata": {},
          "execution_count": 12
        }
      ]
    },
    {
      "cell_type": "code",
      "execution_count": null,
      "metadata": {
        "id": "gnnMquVbj6mm",
        "outputId": "cabf7386-cb88-4389-9f59-3b77239d6d83"
      },
      "outputs": [
        {
          "data": {
            "text/plain": [
              "92"
            ]
          },
          "execution_count": 11,
          "metadata": {},
          "output_type": "execute_result"
        }
      ],
      "source": []
    },
    {
      "cell_type": "markdown",
      "metadata": {
        "id": "QqhN_8dcj6mm"
      },
      "source": [
        ">  `Question:` Extract First 10 words in text"
      ]
    },
    {
      "cell_type": "code",
      "execution_count": null,
      "metadata": {
        "id": "HlhxYdA0j6mn"
      },
      "outputs": [],
      "source": [
        "# CODE HERE"
      ]
    },
    {
      "cell_type": "code",
      "source": [],
      "metadata": {
        "id": "Oy2veuRv2mvj"
      },
      "execution_count": null,
      "outputs": []
    },
    {
      "cell_type": "code",
      "source": [
        "words = ''\n",
        "for i in text.split()[:10]:\n",
        "  words += i+' '\n",
        "\n",
        "words"
      ],
      "metadata": {
        "colab": {
          "base_uri": "https://localhost:8080/",
          "height": 36
        },
        "id": "IEpkdrpAoV9Q",
        "outputId": "e992217f-1439-482e-a0eb-601562ef9fd6"
      },
      "execution_count": null,
      "outputs": [
        {
          "output_type": "execute_result",
          "data": {
            "text/plain": [
              "'The University of Hawaii began using radio to send digital '"
            ],
            "application/vnd.google.colaboratory.intrinsic+json": {
              "type": "string"
            }
          },
          "metadata": {},
          "execution_count": 22
        }
      ]
    },
    {
      "cell_type": "code",
      "execution_count": null,
      "metadata": {
        "id": "yj96ilbVj6mn",
        "outputId": "98e402b5-23dd-4a08-9409-a8f84b6dfd85"
      },
      "outputs": [
        {
          "data": {
            "text/plain": [
              "'The University of Hawaii began using radio to send digital'"
            ]
          },
          "execution_count": 13,
          "metadata": {},
          "output_type": "execute_result"
        }
      ],
      "source": []
    },
    {
      "cell_type": "markdown",
      "metadata": {
        "id": "izfChOPEj6mn"
      },
      "source": [
        ">  `Question:` Append \" Innomatics Reseach Labs\" after first 10 words in the text"
      ]
    },
    {
      "cell_type": "code",
      "execution_count": null,
      "metadata": {
        "colab": {
          "base_uri": "https://localhost:8080/",
          "height": 36
        },
        "id": "syNXKq8bj6mn",
        "outputId": "1bbbec9f-13b9-4489-bccc-1d32e52ebd50"
      },
      "outputs": [
        {
          "output_type": "execute_result",
          "data": {
            "text/plain": [
              "'The University of Hawaii began using radio to send digital  Innomatics Reseach Labs'"
            ],
            "application/vnd.google.colaboratory.intrinsic+json": {
              "type": "string"
            }
          },
          "metadata": {},
          "execution_count": 27
        }
      ],
      "source": [
        "# CODE HERE\n",
        "\n",
        "sent = words + \" Innomatics Reseach Labs\"\n",
        "sent"
      ]
    },
    {
      "cell_type": "code",
      "execution_count": null,
      "metadata": {
        "id": "eEcdRb5sj6mo",
        "outputId": "eabba267-127d-4c7d-902d-a86ab0b15c4d"
      },
      "outputs": [
        {
          "data": {
            "text/plain": [
              "'The University of Hawaii began using radio to send digital Innomatics Reseach Labs'"
            ]
          },
          "execution_count": 2,
          "metadata": {},
          "output_type": "execute_result"
        }
      ],
      "source": []
    },
    {
      "cell_type": "markdown",
      "metadata": {
        "id": "HudFYEbij6mo"
      },
      "source": [
        ">  `Question:` Extract First Fourteen (14) character in text"
      ]
    },
    {
      "cell_type": "code",
      "execution_count": null,
      "metadata": {
        "colab": {
          "base_uri": "https://localhost:8080/",
          "height": 36
        },
        "id": "UmfYYhXAj6mo",
        "outputId": "c73b5846-feb7-4b72-fb93-a13e927c3b34"
      },
      "outputs": [
        {
          "output_type": "execute_result",
          "data": {
            "text/plain": [
              "'The University'"
            ],
            "application/vnd.google.colaboratory.intrinsic+json": {
              "type": "string"
            }
          },
          "metadata": {},
          "execution_count": 64
        }
      ],
      "source": [
        "# CODE HERE\n",
        "\n",
        "text[:14]"
      ]
    },
    {
      "cell_type": "code",
      "execution_count": null,
      "metadata": {
        "id": "IY3_uWFgj6mo",
        "outputId": "5526a007-a839-4458-fb21-4f8a998f4181"
      },
      "outputs": [
        {
          "data": {
            "text/plain": [
              "'The University'"
            ]
          },
          "execution_count": 17,
          "metadata": {},
          "output_type": "execute_result"
        }
      ],
      "source": []
    },
    {
      "cell_type": "markdown",
      "metadata": {
        "id": "rAKGXVdhj6mp"
      },
      "source": [
        ">  `Question:` Extract first Fourteen (14) words in text"
      ]
    },
    {
      "cell_type": "code",
      "execution_count": null,
      "metadata": {
        "colab": {
          "base_uri": "https://localhost:8080/",
          "height": 36
        },
        "id": "chfMekmkj6mp",
        "outputId": "c2d71960-dc5e-4163-821e-4d472102ade0"
      },
      "outputs": [
        {
          "output_type": "execute_result",
          "data": {
            "text/plain": [
              "'The University of Hawaii began using radio to send digital information as early as'"
            ],
            "application/vnd.google.colaboratory.intrinsic+json": {
              "type": "string"
            }
          },
          "metadata": {},
          "execution_count": 32
        }
      ],
      "source": [
        "# CODE HERE\n",
        "sent14 = ' '.join(text.split()[:14])\n",
        "sent14\n"
      ]
    },
    {
      "cell_type": "code",
      "execution_count": null,
      "metadata": {
        "id": "DKpStF0kj6mp",
        "outputId": "fa587972-2426-4796-f35e-4a961a92f192"
      },
      "outputs": [
        {
          "data": {
            "text/plain": [
              "'The University of Hawaii began using radio to send digital information as early as'"
            ]
          },
          "execution_count": 19,
          "metadata": {},
          "output_type": "execute_result"
        }
      ],
      "source": []
    },
    {
      "cell_type": "markdown",
      "metadata": {
        "id": "0Q_lhOZAj6mp"
      },
      "source": [
        ">  `Question:` Extract First 10 words in text\n",
        "- Convert every letter into ***upper*** case\n",
        "- Convert every letter into ***lower*** case"
      ]
    },
    {
      "cell_type": "code",
      "execution_count": null,
      "metadata": {
        "colab": {
          "base_uri": "https://localhost:8080/",
          "height": 36
        },
        "id": "S3aN26vDj6mq",
        "outputId": "e2bc51ca-63f5-46a0-bd30-c5e350579cbf"
      },
      "outputs": [
        {
          "output_type": "execute_result",
          "data": {
            "text/plain": [
              "'THE UNIVERSITY OF HAWAII BEGAN USING RADIO TO SEND DIGITAL'"
            ],
            "application/vnd.google.colaboratory.intrinsic+json": {
              "type": "string"
            }
          },
          "metadata": {},
          "execution_count": 34
        }
      ],
      "source": [
        "# CODE HERE\n",
        "\n",
        "sentUpper = ' '.join((text.split()[:10])).upper()\n",
        "sentUpper"
      ]
    },
    {
      "cell_type": "code",
      "execution_count": null,
      "metadata": {
        "id": "W8RmjH9Sj6mq",
        "outputId": "73bc03a7-2348-4b02-b62c-1f958de50c0a"
      },
      "outputs": [
        {
          "data": {
            "text/plain": [
              "'THE UNIVERSITY OF HAWAII BEGAN USING RADIO TO SEND DIGITAL'"
            ]
          },
          "execution_count": 21,
          "metadata": {},
          "output_type": "execute_result"
        }
      ],
      "source": []
    },
    {
      "cell_type": "code",
      "execution_count": null,
      "metadata": {
        "colab": {
          "base_uri": "https://localhost:8080/",
          "height": 36
        },
        "id": "4mmDZzG4j6mq",
        "outputId": "9a1e27d1-98ad-4acb-a399-e487fe0f3d5d"
      },
      "outputs": [
        {
          "output_type": "execute_result",
          "data": {
            "text/plain": [
              "'the university of hawaii began using radio to send digital'"
            ],
            "application/vnd.google.colaboratory.intrinsic+json": {
              "type": "string"
            }
          },
          "metadata": {},
          "execution_count": 35
        }
      ],
      "source": [
        "# CODE HERE\n",
        "sentLower = ' '.join((text.split()[:10])).lower()\n",
        "sentLower"
      ]
    },
    {
      "cell_type": "code",
      "execution_count": null,
      "metadata": {
        "id": "v49JVXDIj6mr",
        "outputId": "5f2952c8-3f73-40ba-c81f-5d60d7c1e3ef"
      },
      "outputs": [
        {
          "data": {
            "text/plain": [
              "'the university of hawaii began using radio to send digital'"
            ]
          },
          "execution_count": 23,
          "metadata": {},
          "output_type": "execute_result"
        }
      ],
      "source": []
    },
    {
      "cell_type": "markdown",
      "metadata": {
        "id": "euQDO-hdj6mr"
      },
      "source": [
        ">  `Question:`  Find the list of letter starting with\n",
        "- u\n",
        "- o\n",
        "> `hint - You need to use for loop for this`"
      ]
    },
    {
      "cell_type": "code",
      "execution_count": null,
      "metadata": {
        "colab": {
          "base_uri": "https://localhost:8080/"
        },
        "id": "1IyiaqPWj6mr",
        "outputId": "9434b6cb-de97-46ba-dbe9-a285a2928e3f"
      },
      "outputs": [
        {
          "output_type": "stream",
          "name": "stdout",
          "text": [
            "List of words starting with u is:\n",
            " {'under', 'using', 'university'}\n"
          ]
        }
      ],
      "source": [
        "# CODE HERE\n",
        "\n",
        "# Method 1\n",
        "\n",
        "lstOfU = []\n",
        "for i in range(len(text.split())):\n",
        "  if text.split()[i][0] == 'u' or text.split()[i][0] == 'U':\n",
        "     lstOfU.append((text.split()[i]).lower())\n",
        "\n",
        "print(f'List of words starting with u is:\\n {set(lstOfU)}')\n"
      ]
    },
    {
      "cell_type": "code",
      "execution_count": null,
      "metadata": {
        "colab": {
          "base_uri": "https://localhost:8080/"
        },
        "id": "Fs9V-SQWj6m0",
        "outputId": "f28db98c-658a-4cea-9afa-f344971d8591"
      },
      "outputs": [
        {
          "output_type": "stream",
          "name": "stdout",
          "text": [
            "List of words starting with u is:\n",
            " {'under', 'using', 'university'}\n"
          ]
        }
      ],
      "source": [
        "# Method 2\n",
        "\n",
        "lstOfU = []\n",
        "for i in text.split():\n",
        "  if i.startswith('u') == True or i.startswith('U') == True:\n",
        "    lstOfU.append(i.lower())\n",
        "print(f'List of words starting with u is:\\n {set(lstOfU)}')"
      ]
    },
    {
      "cell_type": "code",
      "execution_count": null,
      "metadata": {
        "id": "dHp2pfXnj6m0",
        "outputId": "974ad9aa-6c86-436a-a7ea-0a7986d557bf"
      },
      "outputs": [
        {
          "name": "stdout",
          "output_type": "stream",
          "text": [
            "List of words staring with u is:\n",
            "{'using', 'university', 'under'}\n"
          ]
        }
      ],
      "source": []
    },
    {
      "cell_type": "code",
      "source": [
        "# Mehod 1\n",
        "\n",
        "lstOfO = []\n",
        "for i in range(len(text.split())):\n",
        "  if text.split()[i][0] == 'o' or text.split()[i][0] == 'O':\n",
        "     lstOfO.append((text.split()[i]).lower())\n",
        "\n",
        "print(f'List of words starting with o is:\\n {set(lstOfO)}')"
      ],
      "metadata": {
        "colab": {
          "base_uri": "https://localhost:8080/"
        },
        "id": "gzw65zlC5qB8",
        "outputId": "aa513202-8c1d-4c64-9695-4248874818ce"
      },
      "execution_count": null,
      "outputs": [
        {
          "output_type": "stream",
          "name": "stdout",
          "text": [
            "List of words starting with o is:\n",
            " {'oslo.', 'of', 'on', 'one', 'out'}\n"
          ]
        }
      ]
    },
    {
      "cell_type": "code",
      "source": [
        "# Method 2\n",
        "\n",
        "lstOfO = []\n",
        "for i in text.split():\n",
        "  if i.startswith('o') == True or i.startswith('O') == True:\n",
        "    lstOfO.append(i.lower())\n",
        "\n",
        "print(f'List of words starting with o is:\\n {set(lstOfO)}')"
      ],
      "metadata": {
        "colab": {
          "base_uri": "https://localhost:8080/"
        },
        "id": "xNPuhbzA5pcA",
        "outputId": "1b519c49-3d2c-4440-84b8-b7808aa6b234"
      },
      "execution_count": null,
      "outputs": [
        {
          "output_type": "stream",
          "name": "stdout",
          "text": [
            "List of words starting with o is:\n",
            " {'oslo.', 'of', 'on', 'one', 'out'}\n"
          ]
        }
      ]
    },
    {
      "cell_type": "code",
      "execution_count": null,
      "metadata": {
        "id": "DkJEZcTKj6m1",
        "outputId": "45020019-2f38-481d-da9a-af7c8da66e18"
      },
      "outputs": [
        {
          "name": "stdout",
          "output_type": "stream",
          "text": [
            "List of words staring with o is:\n",
            "{'out', 'of', 'one', 'on', 'oslo.'}\n"
          ]
        }
      ],
      "source": []
    },
    {
      "cell_type": "markdown",
      "metadata": {
        "id": "lcNFin7Nj6m1"
      },
      "source": [
        ">  `Question:` Find the list of letter ending with\n",
        "- e\n",
        "- n\n",
        "> `hint - You need to use for loop for this`"
      ]
    },
    {
      "cell_type": "code",
      "execution_count": null,
      "metadata": {
        "id": "5rg2Ead1j6m1"
      },
      "outputs": [],
      "source": [
        "# CODE HERE"
      ]
    },
    {
      "cell_type": "code",
      "source": [
        "# Method 1\n",
        "\n",
        "lstOfEndE = []\n",
        "for i in text.split():\n",
        "  if i.endswith('e') == True or i.endswith('E') == True:\n",
        "    lstOfEndE.append(i.lower())\n",
        "\n",
        "print(f'List of words ending with e is:\\n {set(lstOfEndE)}')"
      ],
      "metadata": {
        "colab": {
          "base_uri": "https://localhost:8080/"
        },
        "id": "j3-nlKzM6Y74",
        "outputId": "e119ccb0-8d15-4607-f0e2-22e9a7d322ee"
      },
      "execution_count": null,
      "outputs": [
        {
          "output_type": "stream",
          "name": "stdout",
          "text": [
            "List of words starting with o is:\n",
            " {'while', '\"sequence', 'message', 'type', '(groupe', 'made', 'mobile', '(compare', 'have', 'france', 'simple', 'he', '(see', 'one', 'language', 'the', 'these', 'deutsche', 'be', 'determine', 'since'}\n"
          ]
        }
      ]
    },
    {
      "cell_type": "code",
      "execution_count": null,
      "metadata": {
        "colab": {
          "base_uri": "https://localhost:8080/"
        },
        "id": "-Bf91SXFj6m2",
        "outputId": "f5b8f758-866c-40cb-e985-ef49036a36dd"
      },
      "outputs": [
        {
          "output_type": "stream",
          "name": "stdout",
          "text": [
            "List of words starting with e is:\n",
            " {'while', '\"sequence', 'message', 'type', '(groupe', 'made', 'mobile', '(compare', 'have', 'france', 'simple', 'he', '(see', 'one', 'language', 'the', 'these', 'deutsche', 'be', 'determine', 'since'}\n"
          ]
        }
      ],
      "source": [
        "# Method 2\n",
        "\n",
        "lstOfEndE = []\n",
        "for i in range(len(text.split())):\n",
        "  if text.split()[i][-1] == 'e' or text.split()[i][-1] == 'E':\n",
        "     lstOfEndE.append((text.split()[i]).lower())\n",
        "\n",
        "print(f'List of words starting with e is:\\n {set(lstOfEndE)}')"
      ]
    },
    {
      "cell_type": "code",
      "execution_count": null,
      "metadata": {
        "id": "UfWl8_Qwj6m2",
        "outputId": "54029557-1d18-43be-f989-d6926c5778d7"
      },
      "outputs": [
        {
          "name": "stdout",
          "output_type": "stream",
          "text": [
            "List of words ends with e is:\n",
            "{'be', 'these', 'deutsche', 'one', 'made', 'he', 'message', 'type', 'mobile', '(compare', 'france', 'determine', '(see', 'have', '(groupe', 'while', 'since', '\"sequence', 'simple', 'language', 'the'}\n"
          ]
        }
      ],
      "source": []
    },
    {
      "cell_type": "code",
      "source": [
        "# Method 1\n",
        "\n",
        "lstOfEndN = []\n",
        "for i in text.split():\n",
        "  if i.endswith('n') == True or i.endswith('N') == True:\n",
        "    lstOfEndN.append(i.lower())\n",
        "\n",
        "print(f'List of words ending with e is:\\n {set(lstOfEndN)}')"
      ],
      "metadata": {
        "colab": {
          "base_uri": "https://localhost:8080/"
        },
        "id": "TmkpovFFElns",
        "outputId": "2708e676-1fee-4a9c-c270-aa49efc8b1a2"
      },
      "execution_count": null,
      "outputs": [
        {
          "output_type": "stream",
          "name": "stdout",
          "text": [
            "List of words ending with e is:\n",
            " {'began', 'solution', 'than', 'an', 'kevin', 'on', 'information', 'finn', 'isdn', 'in', 'can', 'ian'}\n"
          ]
        }
      ]
    },
    {
      "cell_type": "code",
      "source": [
        "# Method 2\n",
        "\n",
        "lstOfEndN = []\n",
        "for i in range(len(text.split())):\n",
        "  if text.split()[i][-1] == 'n' or text.split()[i][-1] == 'N':\n",
        "     lstOfEndN.append((text.split()[i]).lower())\n",
        "\n",
        "print(f'List of words starting with e is:\\n {set(lstOfEndN)}')"
      ],
      "metadata": {
        "colab": {
          "base_uri": "https://localhost:8080/"
        },
        "id": "uvYuKBQ0ElkY",
        "outputId": "84327266-9942-45d2-c089-f320cfe8e508"
      },
      "execution_count": null,
      "outputs": [
        {
          "output_type": "stream",
          "name": "stdout",
          "text": [
            "List of words starting with e is:\n",
            " {'began', 'solution', 'than', 'an', 'kevin', 'on', 'information', 'finn', 'isdn', 'in', 'can', 'ian'}\n"
          ]
        }
      ]
    },
    {
      "cell_type": "code",
      "execution_count": null,
      "metadata": {
        "id": "7pdqArbej6m2",
        "outputId": "37b11b1f-f587-4035-b19b-36e6ea76d132"
      },
      "outputs": [
        {
          "name": "stdout",
          "output_type": "stream",
          "text": [
            "List of words ends with n is:\n",
            "{'kevin', 'than', 'in', 'ian', 'an', 'solution', 'finn', 'on', 'can', 'information', 'isdn', 'began'}\n"
          ]
        }
      ],
      "source": []
    },
    {
      "cell_type": "markdown",
      "metadata": {
        "id": "7nlKIUeHj6m2"
      },
      "source": [
        ">  `Question:` Extract first 10 words of text and Capitalize first letter of each word"
      ]
    },
    {
      "cell_type": "code",
      "execution_count": null,
      "metadata": {
        "colab": {
          "base_uri": "https://localhost:8080/",
          "height": 36
        },
        "id": "hfgsQd5Xj6m3",
        "outputId": "f796584f-dfc3-4fdb-c467-70ff435d286d"
      },
      "outputs": [
        {
          "output_type": "execute_result",
          "data": {
            "text/plain": [
              "'The University Of Hawaii Began Using Radio To Send Digital'"
            ],
            "application/vnd.google.colaboratory.intrinsic+json": {
              "type": "string"
            }
          },
          "metadata": {},
          "execution_count": 87
        }
      ],
      "source": [
        "# CODE HERE\n",
        "sentCapitalize = (' '.join((text.split()[:10]))).title()\n",
        "sentCapitalize"
      ]
    },
    {
      "cell_type": "code",
      "execution_count": null,
      "metadata": {
        "id": "qox6nGBDj6m3",
        "outputId": "9c792c8c-6c1e-491c-dee6-a1ba2d88270b"
      },
      "outputs": [
        {
          "data": {
            "text/plain": [
              "'The University Of Hawaii Began Using Radio To Send Digital'"
            ]
          },
          "execution_count": 33,
          "metadata": {},
          "output_type": "execute_result"
        }
      ],
      "source": []
    },
    {
      "cell_type": "markdown",
      "metadata": {
        "id": "tyj81qnmj6m3"
      },
      "source": [
        ">  `Question:` Replace the word \"University\" with name \"Innomatics\" in text"
      ]
    },
    {
      "cell_type": "code",
      "execution_count": null,
      "metadata": {
        "id": "P6cIwOb0j6m3",
        "colab": {
          "base_uri": "https://localhost:8080/"
        },
        "outputId": "27bcd792-8bf3-452e-81c4-d5d31802ed7c"
      },
      "outputs": [
        {
          "output_type": "stream",
          "name": "stdout",
          "text": [
            "The Innomatics of Hawaii began using radio to send digital information as early as 1971,using ALOHAnet.\n",
            "Friedhelm Hillebrand conceptualised SMS in 1984 while working for Deutsche Telekom. Sitting at a typewriter at home,\n",
            "Hillebrand typed out random sentences and counted every letter, number, punctuation, and space.\n",
            "Almost every time, the messages contained fewer than 160 characters, thus giving the basis for the\n",
            "limit one could type via text messaging. With Bernard Ghillebaert of France Télécom, he developed\n",
            "a proposal for the GSM (Groupe Spécial Mobile) meeting in February 1985 in Oslo.\n",
            "The first technical solution evolved in a GSM subgroup under the leadership of Finn Trosby.\n",
            "It was further developed under the leadership of Kevin Holley and Ian Harris (see Short Message Service).\n",
            "SMS forms an integral part of SS7 (Signalling System No. 7). Under SS7, it is a \"state\" with a 160 character data,\n",
            "coded in the ITU-T \"T.56\" text format, that has a \"sequence lead in\" to determine different language codes,\n",
            "and may have special character codes that permits, for example, sending simple graphs as text.\n",
            "This was part of ISDN (Integrated Services Digital Network) and since GSM is based on this,\n",
            "made its way to the mobile phone. Messages could be sent and received on ISDN phones,\n",
            "and these can send SMS to any GSM phone. The possibility of doing something is one thing,\n",
            "implementing it another, but systems existed from 1988 that sent SMS messages to mobile phones (compare ND-NOTIS).\n"
          ]
        }
      ],
      "source": [
        "# CODE HERE\n",
        "replacedText = text.replace( \"University\", \"Innomatics\")\n",
        "print(replacedText)"
      ]
    },
    {
      "cell_type": "code",
      "execution_count": null,
      "metadata": {
        "id": "Cj69kPTaj6m4",
        "outputId": "f2c6fd2b-2289-4e53-bb4b-7d9ec787e003"
      },
      "outputs": [
        {
          "name": "stdout",
          "output_type": "stream",
          "text": [
            "The Innomatics of Hawaii began using radio to send digital information as early as 1971,using ALOHAnet. \n",
            "Friedhelm Hillebrand conceptualised SMS in 1984 while working for Deutsche Telekom. Sitting at a typewriter at home, \n",
            "Hillebrand typed out random sentences and counted every letter, number, punctuation, and space. \n",
            "Almost every time, the messages contained fewer than 160 characters, thus giving the basis for the \n",
            "limit one could type via text messaging. With Bernard Ghillebaert of France Télécom, he developed \n",
            "a proposal for the GSM (Groupe Spécial Mobile) meeting in February 1985 in Oslo. \n",
            "The first technical solution evolved in a GSM subgroup under the leadership of Finn Trosby. \n",
            "It was further developed under the leadership of Kevin Holley and Ian Harris (see Short Message Service). \n",
            "SMS forms an integral part of SS7 (Signalling System No. 7). Under SS7, it is a \"state\" with a 160 character data, \n",
            "coded in the ITU-T \"T.56\" text format, that has a \"sequence lead in\" to determine different language codes, \n",
            "and may have special character codes that permits, for example, sending simple graphs as text. \n",
            "This was part of ISDN (Integrated Services Digital Network) and since GSM is based on this, \n",
            "made its way to the mobile phone. Messages could be sent and received on ISDN phones, \n",
            "and these can send SMS to any GSM phone. The possibility of doing something is one thing, \n",
            "implementing it another, but systems existed from 1988 that sent SMS messages to mobile phones (compare ND-NOTIS).\n"
          ]
        }
      ],
      "source": []
    },
    {
      "cell_type": "markdown",
      "metadata": {
        "id": "rxGZH9Raj6m4"
      },
      "source": [
        "> `Question:`  Convert the \"text\" into sentances and store those into one variable called \"sentance\""
      ]
    },
    {
      "cell_type": "code",
      "execution_count": null,
      "metadata": {
        "id": "iW_M9Mexj6m4",
        "colab": {
          "base_uri": "https://localhost:8080/"
        },
        "outputId": "211c75ba-a95f-46f7-ec01-4c8d76d271ed"
      },
      "outputs": [
        {
          "output_type": "execute_result",
          "data": {
            "text/plain": [
              "['The University of Hawaii began using radio to send digital information as early as 1971,using ALOHAnet',\n",
              " '\\nFriedhelm Hillebrand conceptualised SMS in 1984 while working for Deutsche Telekom',\n",
              " ' Sitting at a typewriter at home,\\nHillebrand typed out random sentences and counted every letter, number, punctuation, and space',\n",
              " '\\nAlmost every time, the messages contained fewer than 160 characters, thus giving the basis for the\\nlimit one could type via text messaging',\n",
              " ' With Bernard Ghillebaert of France Télécom, he developed\\na proposal for the GSM (Groupe Spécial Mobile) meeting in February 1985 in Oslo',\n",
              " '\\nThe first technical solution evolved in a GSM subgroup under the leadership of Finn Trosby',\n",
              " '\\nIt was further developed under the leadership of Kevin Holley and Ian Harris (see Short Message Service)',\n",
              " '\\nSMS forms an integral part of SS7 (Signalling System No',\n",
              " ' 7)',\n",
              " ' Under SS7, it is a \"state\" with a 160 character data,\\ncoded in the ITU-T \"T',\n",
              " '56\" text format, that has a \"sequence lead in\" to determine different language codes,\\nand may have special character codes that permits, for example, sending simple graphs as text',\n",
              " '\\nThis was part of ISDN (Integrated Services Digital Network) and since GSM is based on this,\\nmade its way to the mobile phone',\n",
              " ' Messages could be sent and received on ISDN phones,\\nand these can send SMS to any GSM phone',\n",
              " ' The possibility of doing something is one thing,\\nimplementing it another, but systems existed from 1988 that sent SMS messages to mobile phones (compare ND-NOTIS)',\n",
              " '']"
            ]
          },
          "metadata": {},
          "execution_count": 11
        }
      ],
      "source": [
        "# CODE HERE\n",
        "\n",
        "sentence = text.split('.')\n",
        "sentence\n"
      ]
    },
    {
      "cell_type": "code",
      "execution_count": null,
      "metadata": {
        "id": "Crk-20P_j6m5",
        "outputId": "ed70797c-a5b1-4a43-920a-f3a9b8a79c77"
      },
      "outputs": [
        {
          "data": {
            "text/plain": [
              "['The University of Hawaii began using radio to send digital information as early as 1971,using ALOHAnet',\n",
              " ' \\nFriedhelm Hillebrand conceptualised SMS in 1984 while working for Deutsche Telekom',\n",
              " ' Sitting at a typewriter at home, \\nHillebrand typed out random sentences and counted every letter, number, punctuation, and space',\n",
              " ' \\nAlmost every time, the messages contained fewer than 160 characters, thus giving the basis for the \\nlimit one could type via text messaging',\n",
              " ' With Bernard Ghillebaert of France Télécom, he developed \\na proposal for the GSM (Groupe Spécial Mobile) meeting in February 1985 in Oslo',\n",
              " ' \\nThe first technical solution evolved in a GSM subgroup under the leadership of Finn Trosby',\n",
              " ' \\nIt was further developed under the leadership of Kevin Holley and Ian Harris (see Short Message Service)',\n",
              " ' \\nSMS forms an integral part of SS7 (Signalling System No',\n",
              " ' 7)',\n",
              " ' Under SS7, it is a \"state\" with a 160 character data, \\ncoded in the ITU-T \"T',\n",
              " '56\" text format, that has a \"sequence lead in\" to determine different language codes, \\nand may have special character codes that permits, for example, sending simple graphs as text',\n",
              " ' \\nThis was part of ISDN (Integrated Services Digital Network) and since GSM is based on this, \\nmade its way to the mobile phone',\n",
              " ' Messages could be sent and received on ISDN phones, \\nand these can send SMS to any GSM phone',\n",
              " ' The possibility of doing something is one thing, \\nimplementing it another, but systems existed from 1988 that sent SMS messages to mobile phones (compare ND-NOTIS)',\n",
              " '']"
            ]
          },
          "execution_count": 2,
          "metadata": {},
          "output_type": "execute_result"
        }
      ],
      "source": []
    },
    {
      "cell_type": "markdown",
      "metadata": {
        "id": "x41yWzAoj6m5"
      },
      "source": [
        " `Question:`\n",
        "\n",
        "> 1.From the above sentance remove '\\n'\n"
      ]
    },
    {
      "cell_type": "code",
      "execution_count": null,
      "metadata": {
        "id": "zYYNV15Nj6m5",
        "colab": {
          "base_uri": "https://localhost:8080/"
        },
        "outputId": "52d5006e-6604-4992-da3d-8353a357e66c"
      },
      "outputs": [
        {
          "output_type": "execute_result",
          "data": {
            "text/plain": [
              "['The University of Hawaii began using radio to send digital information as early as 1971,using ALOHAnet',\n",
              " 'Friedhelm Hillebrand conceptualised SMS in 1984 while working for Deutsche Telekom',\n",
              " ' Sitting at a typewriter at home,Hillebrand typed out random sentences and counted every letter, number, punctuation, and space',\n",
              " 'Almost every time, the messages contained fewer than 160 characters, thus giving the basis for thelimit one could type via text messaging',\n",
              " ' With Bernard Ghillebaert of France Télécom, he developeda proposal for the GSM (Groupe Spécial Mobile) meeting in February 1985 in Oslo',\n",
              " 'The first technical solution evolved in a GSM subgroup under the leadership of Finn Trosby',\n",
              " 'It was further developed under the leadership of Kevin Holley and Ian Harris (see Short Message Service)',\n",
              " 'SMS forms an integral part of SS7 (Signalling System No',\n",
              " ' 7)',\n",
              " ' Under SS7, it is a \"state\" with a 160 character data,coded in the ITU-T \"T',\n",
              " '56\" text format, that has a \"sequence lead in\" to determine different language codes,and may have special character codes that permits, for example, sending simple graphs as text',\n",
              " 'This was part of ISDN (Integrated Services Digital Network) and since GSM is based on this,made its way to the mobile phone',\n",
              " ' Messages could be sent and received on ISDN phones,and these can send SMS to any GSM phone',\n",
              " ' The possibility of doing something is one thing,implementing it another, but systems existed from 1988 that sent SMS messages to mobile phones (compare ND-NOTIS)',\n",
              " '']"
            ]
          },
          "metadata": {},
          "execution_count": 28
        }
      ],
      "source": [
        "newSentence = []\n",
        "\n",
        "for i in sentence:\n",
        "  modifiedStr = i.replace('\\n','')\n",
        "  newSentence.append(modifiedStr)\n",
        "newSentence"
      ]
    },
    {
      "cell_type": "markdown",
      "metadata": {
        "id": "VbRSwhryj6m5"
      },
      "source": [
        " > 2. From the above sentace print the first word from each sentance\n"
      ]
    },
    {
      "cell_type": "code",
      "source": [
        "firstWords = []\n",
        "for i in newSentence:\n",
        "  words = i.split()\n",
        "  if len(words) != 0:\n",
        "    firstWords.append(words[0])\n",
        "firstWords"
      ],
      "metadata": {
        "colab": {
          "base_uri": "https://localhost:8080/"
        },
        "id": "Xy_9BgU5YtLd",
        "outputId": "f34c442c-67af-44a3-eacf-3202d2c20615"
      },
      "execution_count": null,
      "outputs": [
        {
          "output_type": "execute_result",
          "data": {
            "text/plain": [
              "['The',\n",
              " 'Friedhelm',\n",
              " 'Sitting',\n",
              " 'Almost',\n",
              " 'With',\n",
              " 'The',\n",
              " 'It',\n",
              " 'SMS',\n",
              " '7)',\n",
              " 'Under',\n",
              " '56\"',\n",
              " 'This',\n",
              " 'Messages',\n",
              " 'The']"
            ]
          },
          "metadata": {},
          "execution_count": 38
        }
      ]
    },
    {
      "cell_type": "code",
      "source": [],
      "metadata": {
        "id": "L0pdk9p5T0vf"
      },
      "execution_count": null,
      "outputs": []
    },
    {
      "cell_type": "markdown",
      "metadata": {
        "id": "4XFKk8vSj6m6"
      },
      "source": [
        "> 3. From the above sentace print even posioned sentances"
      ]
    },
    {
      "cell_type": "code",
      "execution_count": null,
      "metadata": {
        "id": "_ryqoCs2j6m6",
        "colab": {
          "base_uri": "https://localhost:8080/"
        },
        "outputId": "4bdb1601-56ef-4365-8cd3-9fc698adc7a1"
      },
      "outputs": [
        {
          "output_type": "execute_result",
          "data": {
            "text/plain": [
              "{0: 'The University of Hawaii began using radio to send digital information as early as 1971,using ALOHAnet',\n",
              " 2: ' Sitting at a typewriter at home,Hillebrand typed out random sentences and counted every letter, number, punctuation, and space',\n",
              " 4: ' With Bernard Ghillebaert of France Télécom, he developeda proposal for the GSM (Groupe Spécial Mobile) meeting in February 1985 in Oslo',\n",
              " 6: 'It was further developed under the leadership of Kevin Holley and Ian Harris (see Short Message Service)',\n",
              " 8: ' 7)',\n",
              " 10: '56\" text format, that has a \"sequence lead in\" to determine different language codes,and may have special character codes that permits, for example, sending simple graphs as text',\n",
              " 12: ' Messages could be sent and received on ISDN phones,and these can send SMS to any GSM phone',\n",
              " 14: ''}"
            ]
          },
          "metadata": {},
          "execution_count": 45
        }
      ],
      "source": [
        "\n",
        "evenPositionedSentences = {index : sentence for index, sentence in enumerate(newSentence) if index % 2 == 0 }\n",
        "evenPositionedSentences"
      ]
    },
    {
      "cell_type": "markdown",
      "metadata": {
        "id": "8HRCX8dej6m6"
      },
      "source": [
        ">   `Question:` If the following string is given as input to the program:\n",
        "\n",
        "- H1e2l3l4o5w6o7r8l9d\n",
        "\n",
        ">   `Output:`  Then, the output of the program should be:\n",
        "\n",
        "- Helloworld"
      ]
    },
    {
      "cell_type": "code",
      "execution_count": null,
      "metadata": {
        "colab": {
          "base_uri": "https://localhost:8080/"
        },
        "id": "WNw3qc0fj6m6",
        "outputId": "775a656e-a019-4995-b70d-af57fb3e9158"
      },
      "outputs": [
        {
          "output_type": "stream",
          "name": "stdout",
          "text": [
            "Helloworld\n"
          ]
        }
      ],
      "source": [
        "# CODE HERE\n",
        "s = 'H1e2l3l4o5w6o7r8l9d'                                    # input string\n",
        "o = ''                                                       # empty string to store output\n",
        "for i in s:\n",
        "  if i.isalpha() == True:\n",
        "    o += i                                                   # appending the alphabets\n",
        "print(o)\n"
      ]
    },
    {
      "cell_type": "markdown",
      "metadata": {
        "id": "Vh4tU3dSj6m7"
      },
      "source": [
        "# [Innomatics Research Labs](https:/innomatics.in/)\n",
        "[www.innomatics.in](https:/innomatics.in/)"
      ]
    },
    {
      "cell_type": "code",
      "execution_count": null,
      "metadata": {
        "id": "oAxF53jtj6m7"
      },
      "outputs": [],
      "source": []
    }
  ],
  "metadata": {
    "kernelspec": {
      "display_name": "Python 3 (ipykernel)",
      "language": "python",
      "name": "python3"
    },
    "language_info": {
      "codemirror_mode": {
        "name": "ipython",
        "version": 3
      },
      "file_extension": ".py",
      "mimetype": "text/x-python",
      "name": "python",
      "nbconvert_exporter": "python",
      "pygments_lexer": "ipython3",
      "version": "3.12.7"
    },
    "colab": {
      "provenance": [],
      "include_colab_link": true
    }
  },
  "nbformat": 4,
  "nbformat_minor": 0
}