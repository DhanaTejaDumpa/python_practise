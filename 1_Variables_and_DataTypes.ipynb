{
  "cells": [
    {
      "cell_type": "markdown",
      "metadata": {
        "id": "view-in-github",
        "colab_type": "text"
      },
      "source": [
        "<a href=\"https://colab.research.google.com/github/DhanaTejaDumpa/python_practise/blob/main/1_Variables_and_DataTypes.ipynb\" target=\"_parent\"><img src=\"https://colab.research.google.com/assets/colab-badge.svg\" alt=\"Open In Colab\"/></a>"
      ]
    },
    {
      "cell_type": "markdown",
      "metadata": {
        "id": "nE1WNuMBXGEl"
      },
      "source": [
        "# Assignment Instructions\n",
        "\n",
        "`Hello Innominion,`\n",
        "\n",
        "- **Try to attempt all the questions in every possible way.**\n",
        "- **Some other topics are required to solve some questions. don't panic.**\n",
        "- **Those questions can be answered after the topics are taught.**\n",
        "\n",
        "\n",
        "- `Join Mentoring Session for the Support/Doubts Resolving with Our Technical Mentors (2.00 PM - 6.00 PM  Mon-Sat)`\n",
        "\n",
        "Happy Learning !!!"
      ]
    },
    {
      "cell_type": "markdown",
      "metadata": {
        "id": "jJ2C841TXGEo"
      },
      "source": [
        "## Basics of Python"
      ]
    },
    {
      "cell_type": "markdown",
      "metadata": {
        "id": "9ioeTmXgXGEq"
      },
      "source": [
        "> `Question:` Print your name"
      ]
    },
    {
      "cell_type": "code",
      "execution_count": null,
      "metadata": {
        "colab": {
          "base_uri": "https://localhost:8080/"
        },
        "id": "RqD5qG_nXGEq",
        "outputId": "0d2a7353-1b84-4471-ad46-77fb0d5ec1ae"
      },
      "outputs": [
        {
          "output_type": "stream",
          "name": "stdout",
          "text": [
            "My Name is Teju\n"
          ]
        }
      ],
      "source": [
        "print(\"My Name is Teju\")"
      ]
    },
    {
      "cell_type": "markdown",
      "metadata": {
        "id": "1R38h17rXGEs"
      },
      "source": [
        "> `Question:` What is a variable? Write a Few words about Variables. Create a Variable with an Example."
      ]
    },
    {
      "cell_type": "markdown",
      "source": [
        "#### Variable :\n",
        "A variable is a container used to store data values that can be referenced and manipulated throughout a program.The value of variable can change during execution.\n",
        "<center>or</center>\n",
        "A variable is a pointer to the memory location,where the data has been stored.It stores data temporarily that caan change while program is running.\n",
        "\n",
        "* <b>Name :</b> Each variable has a unique name to identify it in the code.\n",
        "* <b>Data Type :</b> Variables are assigned a datatype(like integer,string,boolean)which defines what kind of data they can hold.\n",
        "* <b>Value :</b> The actual data stored within a variable can be changed during program execution."
      ],
      "metadata": {
        "id": "WJArPjNjY77s"
      }
    },
    {
      "cell_type": "code",
      "execution_count": null,
      "metadata": {
        "id": "13BhG_LFXGEs"
      },
      "outputs": [],
      "source": []
    },
    {
      "cell_type": "code",
      "execution_count": null,
      "metadata": {
        "id": "LEZw8q_jXGEt",
        "colab": {
          "base_uri": "https://localhost:8080/"
        },
        "outputId": "0702263d-1b5b-4db1-fe14-b2538dad9106"
      },
      "outputs": [
        {
          "output_type": "stream",
          "name": "stdout",
          "text": [
            "Enter your age : 25\n",
            "your age is: 25\n",
            "Next year,your age will be : 26\n"
          ]
        }
      ],
      "source": [
        "age = int(input(\"Enter your age : \"))   # age is a variable\n",
        "print(\"your age is:\", age)\n",
        "age = age + 1                       # incrementing the value\n",
        "print(\"Next year,your age will be :\",age)"
      ]
    },
    {
      "cell_type": "markdown",
      "metadata": {
        "id": "QfUBEa4iXGEt"
      },
      "source": [
        ">`Question:` Assume that we execute the following assignment statements:\n",
        "width = 17\n",
        "height = 12.0\n",
        "delimiter = '.'\n",
        "For each of the following expressions, write the value of the expression and the type (of the value of\n",
        "the expression).\n",
        "1. width/2\n",
        "2. width/2.0\n",
        "3. height/3\n",
        "4. 1 + 2 * 5\n",
        "5. delimiter * 5"
      ]
    },
    {
      "cell_type": "code",
      "execution_count": null,
      "metadata": {
        "id": "Kp9sLlcoXGEt",
        "colab": {
          "base_uri": "https://localhost:8080/"
        },
        "outputId": "7c678e88-c9bd-4ddb-bd52-2770e02d97c1"
      },
      "outputs": [
        {
          "output_type": "stream",
          "name": "stdout",
          "text": [
            "width/2 value is 8.5 and it belongs to <class 'float'> type\n",
            "width/2.0 value is 8.5 and it belongs to <class 'float'> type\n",
            "height/3 value is 4.0 and it belongs to <class 'float'> type\n",
            "1+2*5 value is 11 and it belongs to <class 'int'> type\n",
            "delimeter*5 value is ..... and it belongs to <class 'str'> type\n"
          ]
        }
      ],
      "source": [
        "width = 17\n",
        "height = 12.0\n",
        "delimeter = '.'\n",
        "print(f'width/2 value is {width/2} and it belongs to {type(width/2)} type')\n",
        "print(f'width/2.0 value is {width/2.0} and it belongs to {type(width/2.0)} type')\n",
        "print(f'height/3 value is {height/3} and it belongs to {type(height/3)} type')\n",
        "print(f'1+2*5 value is {1+2*5} and it belongs to {type(1+2*5)} type')\n",
        "print(f'delimeter*5 value is {delimeter*5} and it belongs to {type(delimeter*5)} type')"
      ]
    },
    {
      "cell_type": "raw",
      "metadata": {
        "id": "9J4kQCVsXGEu"
      },
      "source": [
        "# Sample Outputs\n",
        "1. width/2 = 8.5\n",
        "2. width/2.0 = 8.5\n",
        "3. height/3 = 4.0\n",
        "4. 11\n",
        "5. ....."
      ]
    },
    {
      "cell_type": "markdown",
      "metadata": {
        "id": "sCMg7YOZXGEu"
      },
      "source": [
        "> `Question:` Add two number by taking variable names as first and seccond"
      ]
    },
    {
      "cell_type": "code",
      "execution_count": null,
      "metadata": {
        "id": "ofwEmgXvXGEv",
        "colab": {
          "base_uri": "https://localhost:8080/"
        },
        "outputId": "3a69f879-187b-49cf-a8ea-02dd372c0c82"
      },
      "outputs": [
        {
          "output_type": "stream",
          "name": "stdout",
          "text": [
            "Enter your first number :  2\n",
            "Enter your second number : 3\n",
            "sum of 2 and 3 is 5 \n"
          ]
        }
      ],
      "source": [
        "first = int(input(\"Enter your first number :  \"))\n",
        "second = int(input(\"Enter your second number : \"))\n",
        "\n",
        "result = first + second\n",
        "print(f'sum of {first} and {second} is {result} ')"
      ]
    },
    {
      "cell_type": "code",
      "execution_count": null,
      "metadata": {
        "id": "FPO1Xu5MXGEv",
        "outputId": "cceacaae-2f6f-420b-d2ed-1ba87a279c81"
      },
      "outputs": [
        {
          "name": "stdout",
          "output_type": "stream",
          "text": [
            "first number is : 100\n",
            "second number is : 200\n",
            "Addition of two numbers are : 300\n"
          ]
        }
      ],
      "source": []
    },
    {
      "cell_type": "markdown",
      "metadata": {
        "id": "kf2vRRmIXGEv"
      },
      "source": [
        "> `Question:` Add your first name and second name"
      ]
    },
    {
      "cell_type": "code",
      "execution_count": null,
      "metadata": {
        "id": "OaoMSbL6XGEw",
        "colab": {
          "base_uri": "https://localhost:8080/"
        },
        "outputId": "3f0922ff-aca6-4d81-fcff-b41b5fb9e9eb"
      },
      "outputs": [
        {
          "output_type": "stream",
          "name": "stdout",
          "text": [
            "My first name is :  shreya\n",
            "My second name is:  saran\n",
            "My full name is : shreya saran\n"
          ]
        }
      ],
      "source": [
        "first_name = input('My first name is :  ')\n",
        "second_name = input('My second name is:  ')\n",
        "full_name = first_name + ' '+ second_name\n",
        "print(f'My full name is : {full_name}')"
      ]
    },
    {
      "cell_type": "code",
      "execution_count": null,
      "metadata": {
        "id": "wOzlUdZiXGEw",
        "outputId": "c0a1de42-fe58-408e-b7de-9d33821112f0"
      },
      "outputs": [
        {
          "name": "stdout",
          "output_type": "stream",
          "text": [
            "My first name is : Sachin\n",
            "My second name is : Tendulkar\n",
            "My full name is : Sachin Tendulkar\n"
          ]
        }
      ],
      "source": []
    },
    {
      "cell_type": "code",
      "execution_count": null,
      "metadata": {
        "id": "lE6Z4t0VXGEw"
      },
      "outputs": [],
      "source": []
    },
    {
      "cell_type": "markdown",
      "metadata": {
        "id": "BHC7-bsAXGEx"
      },
      "source": [
        "> `Question:` print the datatypes of the following\n",
        "- 10,'10',True,10.5"
      ]
    },
    {
      "cell_type": "code",
      "execution_count": null,
      "metadata": {
        "id": "G7y1jkxIXGEx",
        "outputId": "a8711eec-6c8b-4e19-ebc8-0eb48cc033a9",
        "colab": {
          "base_uri": "https://localhost:8080/"
        }
      },
      "outputs": [
        {
          "output_type": "stream",
          "name": "stdout",
          "text": [
            "10 :  <class 'int'>\n",
            "'10' :  <class 'int'>\n",
            "True:  <class 'int'>\n",
            "10.5 :  <class 'int'>\n"
          ]
        }
      ],
      "source": [
        "print(\"10 : \",type(10))\n",
        "print(\"'10' : \",type(10))\n",
        "print(\"True: \",type(10))\n",
        "print(\"10.5 : \",type(10))"
      ]
    },
    {
      "cell_type": "markdown",
      "metadata": {
        "id": "PxOY9o2oXGEx"
      },
      "source": [
        " `Question:`\n",
        "> - num_int = 123\n",
        "> - num_str = \"456\"\n",
        "> - Add num_int and num_str\n",
        "- `hint: first need to convert num_str into integer`"
      ]
    },
    {
      "cell_type": "code",
      "execution_count": null,
      "metadata": {
        "id": "wA7BiP4bXGEy",
        "colab": {
          "base_uri": "https://localhost:8080/"
        },
        "outputId": "a921eaf9-d837-4b56-ad24-3e5d9319e821"
      },
      "outputs": [
        {
          "output_type": "stream",
          "name": "stdout",
          "text": [
            "Sum of 123 and 456 is : 579 \n"
          ]
        }
      ],
      "source": [
        "num_int = 123\n",
        "num_str = \"456\"\n",
        "result = num_int + int(num_str)\n",
        "print(f'Sum of {num_int} and {int(num_str)} is : {result} ')"
      ]
    },
    {
      "cell_type": "code",
      "execution_count": null,
      "metadata": {
        "id": "z9-y1AJoXGEy"
      },
      "outputs": [],
      "source": []
    },
    {
      "cell_type": "code",
      "execution_count": null,
      "metadata": {
        "id": "ziHFi910XGEy"
      },
      "outputs": [],
      "source": []
    },
    {
      "cell_type": "markdown",
      "metadata": {
        "id": "Q5tYuM1CXGEy"
      },
      "source": [
        "### Advanced Questions"
      ]
    },
    {
      "cell_type": "markdown",
      "metadata": {
        "id": "Tfmv4iX9XGEz"
      },
      "source": [
        "> `Question:` The volume of a sphere with radius r is  4/3πr3  . What is the volume of a sphere with radius 5?"
      ]
    },
    {
      "cell_type": "code",
      "execution_count": null,
      "metadata": {
        "id": "x5SGfFJtXGEz",
        "colab": {
          "base_uri": "https://localhost:8080/"
        },
        "outputId": "068e1a88-ea00-47e3-81b3-20d93378decd"
      },
      "outputs": [
        {
          "output_type": "stream",
          "name": "stdout",
          "text": [
            "Volume of sphere :  523.3333333333334\n"
          ]
        }
      ],
      "source": [
        "r = 5\n",
        "v = 4/3 * 3.14 * r ** 3\n",
        "print('Volume of sphere : ',v)"
      ]
    },
    {
      "cell_type": "markdown",
      "metadata": {
        "id": "MQDoZUlRXGEz"
      },
      "source": [
        "> `Question:` Suppose the cover price of a book is Rs.24.95, but bookstores get a 40% discount. Shipping costs Rs.3 for the first copy and 75 paise for each additional copy. What is the total wholesale cost for 60 copies?"
      ]
    },
    {
      "cell_type": "code",
      "execution_count": null,
      "metadata": {
        "id": "xVmUuShRXGE0",
        "colab": {
          "base_uri": "https://localhost:8080/"
        },
        "outputId": "b057543b-fe7d-4ce2-bbda-bed185f03881"
      },
      "outputs": [
        {
          "output_type": "stream",
          "name": "stdout",
          "text": [
            "945.4499999999999\n"
          ]
        }
      ],
      "source": [
        "cover_price = 24.95\n",
        "discount = 40/100 * 24.95\n",
        "copy1Sc = 3     # shipping charges of first copy\n",
        "copyrSc = 0.75  # shipping charges of remaining copies\n",
        "n = 60          # number of copies\n",
        "totalCost = (cover_price - discount + copy1Sc) + (n-1)*(cover_price - discount + copyrSc)\n",
        "print(totalCost)"
      ]
    },
    {
      "cell_type": "code",
      "execution_count": null,
      "metadata": {
        "id": "JtVaYAXEXGE0"
      },
      "outputs": [],
      "source": [
        "\n"
      ]
    },
    {
      "cell_type": "markdown",
      "metadata": {
        "id": "HEAkKpqbXGE0"
      },
      "source": [
        "# [Innomatics Research Labs](https:/innomatics.in/)\n",
        "[www.innomatics.in](https:/innomatics.in/)"
      ]
    }
  ],
  "metadata": {
    "kernelspec": {
      "display_name": "Python 3",
      "language": "python",
      "name": "python3"
    },
    "language_info": {
      "codemirror_mode": {
        "name": "ipython",
        "version": 3
      },
      "file_extension": ".py",
      "mimetype": "text/x-python",
      "name": "python",
      "nbconvert_exporter": "python",
      "pygments_lexer": "ipython3",
      "version": "3.8.5"
    },
    "colab": {
      "provenance": [],
      "include_colab_link": true
    }
  },
  "nbformat": 4,
  "nbformat_minor": 0
}