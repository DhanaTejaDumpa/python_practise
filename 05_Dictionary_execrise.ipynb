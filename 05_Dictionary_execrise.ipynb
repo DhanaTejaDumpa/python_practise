{
  "cells": [
    {
      "cell_type": "markdown",
      "metadata": {
        "id": "view-in-github",
        "colab_type": "text"
      },
      "source": [
        "<a href=\"https://colab.research.google.com/github/DhanaTejaDumpa/python_practise/blob/main/05_Dictionary_execrise.ipynb\" target=\"_parent\"><img src=\"https://colab.research.google.com/assets/colab-badge.svg\" alt=\"Open In Colab\"/></a>"
      ]
    },
    {
      "cell_type": "markdown",
      "metadata": {
        "id": "XkaZNmLZBkrT"
      },
      "source": [
        "# Assignment Instructions\n",
        "\n",
        "`Hello Innominion,`\n",
        "\n",
        "- **Try to attempt all the questions in every possible way.**\n",
        "- **Some other topics are required to solve some questions. don't panic.**\n",
        "- **Those questions can be answered after the topics are taught.**\n",
        "\n",
        "\n",
        "- `Join Mentoring Session for the Support/Doubts Resolving with Our Technical Mentors (2.00 PM - 6.00 PM  Mon-Sat)`\n",
        "\n",
        "Happy Learning !!!"
      ]
    },
    {
      "cell_type": "markdown",
      "metadata": {
        "id": "TQBL99utBkrV"
      },
      "source": [
        "###  Dictionary"
      ]
    },
    {
      "cell_type": "markdown",
      "metadata": {
        "id": "EKLgQVClBkrW"
      },
      "source": [
        "**`Question :`Create Dictionary for following information as \"person1\":**\n",
        "   - Name = John\n",
        "   - Gender= Male\n",
        "   - Occupation = Data Scientist\n",
        "   - Location  = Nizampet, Hyderabad"
      ]
    },
    {
      "cell_type": "code",
      "execution_count": null,
      "metadata": {
        "id": "tvdn1tlzBkrY"
      },
      "outputs": [],
      "source": [
        "# CODE HERE\n"
      ]
    },
    {
      "cell_type": "code",
      "source": [
        "# Method 1\n",
        "\n",
        "# using curly braces\n",
        "\n",
        "person1 = {'Gender' : 'Male','Location' : 'Nizampet, Hyderabad','Name' : 'John', 'Ocuupation' : 'Data Scientist'}\n",
        "person1"
      ],
      "metadata": {
        "id": "uji5hEBkBs0z",
        "colab": {
          "base_uri": "https://localhost:8080/"
        },
        "outputId": "820fb69f-6daf-4ccb-81bf-f050a221870f"
      },
      "execution_count": null,
      "outputs": [
        {
          "output_type": "execute_result",
          "data": {
            "text/plain": [
              "{'Gender': 'Male',\n",
              " 'Location': 'Nizampet, Hyderabad',\n",
              " 'Name': 'John',\n",
              " 'Ocuupation': 'Data Scientist'}"
            ]
          },
          "metadata": {},
          "execution_count": 2
        }
      ]
    },
    {
      "cell_type": "code",
      "source": [
        "# Method 2\n",
        "\n",
        "# using dict() constructor\n",
        "\n",
        "person1 = dict(Gender = 'Male', Location = 'Nizampet, Hyderabad', Name = 'John', Occupation = 'Data Scientist')\n",
        "person1"
      ],
      "metadata": {
        "id": "c9PnvlNzBsuh",
        "colab": {
          "base_uri": "https://localhost:8080/"
        },
        "outputId": "e54eb991-a98f-4b37-c8d5-a8543679bc2e"
      },
      "execution_count": null,
      "outputs": [
        {
          "output_type": "execute_result",
          "data": {
            "text/plain": [
              "{'Gender': 'Male',\n",
              " 'Location': 'Nizampet, Hyderabad',\n",
              " 'Name': 'John',\n",
              " 'Occupation': 'Data Scientist'}"
            ]
          },
          "metadata": {},
          "execution_count": 4
        }
      ]
    },
    {
      "cell_type": "code",
      "source": [
        "# Method 3\n",
        "\n",
        "# using zip function\n",
        "\n",
        "keys = ['Gender', 'Location', 'Name', 'Ocuupation']\n",
        "values = ['Male', 'Nizampet, Hyderabad', 'John', 'Data scientist']\n",
        "\n",
        "person1 = dict(zip(keys,values))\n",
        "person1"
      ],
      "metadata": {
        "colab": {
          "base_uri": "https://localhost:8080/"
        },
        "id": "nVDABkMf0ewM",
        "outputId": "eb0eb6d4-444d-4d9d-d49a-5e8d8e3f2073"
      },
      "execution_count": null,
      "outputs": [
        {
          "output_type": "execute_result",
          "data": {
            "text/plain": [
              "{'Gender': 'Male',\n",
              " 'Location': 'Nizampet, Hyderabad',\n",
              " 'Name': 'John',\n",
              " 'Ocuupation': 'Data scientist'}"
            ]
          },
          "metadata": {},
          "execution_count": 6
        }
      ]
    },
    {
      "cell_type": "code",
      "source": [
        "# Method 4\n",
        "\n",
        "# adding key-value pairs to empty dictionary\n",
        "\n",
        "person1 = {}\n",
        "\n",
        "person1['Gender'] = 'Male'\n",
        "person1['Location'] = 'Nizampet, Hyderabad'\n",
        "person1['Name'] = 'John'\n",
        "person1['Occupation'] = 'Data Scientist'\n",
        "\n",
        "person1"
      ],
      "metadata": {
        "colab": {
          "base_uri": "https://localhost:8080/"
        },
        "id": "3AYAK9y10ec7",
        "outputId": "e7881bb5-3611-484f-ffd9-f3b2ce104a0e"
      },
      "execution_count": null,
      "outputs": [
        {
          "output_type": "execute_result",
          "data": {
            "text/plain": [
              "{'Gender': 'Male',\n",
              " 'Location': 'Nizampet, Hyderabad',\n",
              " 'Name': 'John',\n",
              " 'Occupation': 'Data Scientist'}"
            ]
          },
          "metadata": {},
          "execution_count": 17
        }
      ]
    },
    {
      "cell_type": "code",
      "execution_count": null,
      "metadata": {
        "id": "mmjGvx51BkrZ",
        "outputId": "10d7b641-b60d-4146-cff4-7cfa741fe6fb"
      },
      "outputs": [
        {
          "data": {
            "text/plain": [
              "{'Gender': 'Male',\n",
              " 'Location': 'Nizampet, Hyderabad',\n",
              " 'Name': 'John',\n",
              " 'Occupation': 'Data Scientist'}"
            ]
          },
          "execution_count": 4,
          "metadata": {},
          "output_type": "execute_result"
        }
      ],
      "source": [
        "person1"
      ]
    },
    {
      "cell_type": "markdown",
      "metadata": {
        "id": "aiLFH91MBkrZ"
      },
      "source": [
        "> print keys in person1 as a list"
      ]
    },
    {
      "cell_type": "code",
      "source": [
        "# Method 1\n",
        "\n",
        "keysList = list(person1.keys())\n",
        "keysList"
      ],
      "metadata": {
        "colab": {
          "base_uri": "https://localhost:8080/"
        },
        "id": "FSWP4Tvz26kM",
        "outputId": "0ece4414-ea10-4341-8eb2-1bcb5ded4a58"
      },
      "execution_count": null,
      "outputs": [
        {
          "output_type": "execute_result",
          "data": {
            "text/plain": [
              "['Gender', 'location', 'Name', 'Occupation']"
            ]
          },
          "metadata": {},
          "execution_count": 9
        }
      ]
    },
    {
      "cell_type": "code",
      "source": [
        "# Method 2\n",
        "\n",
        "# using list comprehension\n",
        "\n",
        "keyslist = [i for i in person1]\n",
        "keysList"
      ],
      "metadata": {
        "colab": {
          "base_uri": "https://localhost:8080/"
        },
        "id": "zOKvaVak4Ork",
        "outputId": "943fac41-af91-4ff3-a8ac-a901a1d1d1fa"
      },
      "execution_count": null,
      "outputs": [
        {
          "output_type": "execute_result",
          "data": {
            "text/plain": [
              "['Gender', 'location', 'Name', 'Occupation']"
            ]
          },
          "metadata": {},
          "execution_count": 11
        }
      ]
    },
    {
      "cell_type": "code",
      "execution_count": null,
      "metadata": {
        "id": "K6_55zYXBkrb",
        "outputId": "48fbe27b-2c11-4608-98b2-aa6c221b6b0d"
      },
      "outputs": [
        {
          "data": {
            "text/plain": [
              "['Name', 'Gender', 'Occupation', 'Location']"
            ]
          },
          "execution_count": 3,
          "metadata": {},
          "output_type": "execute_result"
        }
      ],
      "source": []
    },
    {
      "cell_type": "markdown",
      "metadata": {
        "id": "wvgQpVH8Bkrb"
      },
      "source": [
        "> **`Question:` Remove Location in person1**"
      ]
    },
    {
      "cell_type": "code",
      "source": [
        "person1 = {'Gender': 'Male',\n",
        " 'Location': 'Nizampet, Hyderabad',\n",
        " 'Name': 'John',\n",
        " 'Occupation': 'Data Scientist'}"
      ],
      "metadata": {
        "id": "YVlGZPlt42GX"
      },
      "execution_count": null,
      "outputs": []
    },
    {
      "cell_type": "code",
      "source": [
        "del person1['Location']\n",
        "print(person1)"
      ],
      "metadata": {
        "colab": {
          "base_uri": "https://localhost:8080/"
        },
        "id": "hXnaOV3K5dis",
        "outputId": "8ce617d2-5dfa-42d4-d759-7d91f0efba40"
      },
      "execution_count": null,
      "outputs": [
        {
          "output_type": "stream",
          "name": "stdout",
          "text": [
            "{'Gender': 'Male', 'Name': 'John', 'Occupation': 'Data Scientist'}\n"
          ]
        }
      ]
    },
    {
      "cell_type": "code",
      "source": [
        "person1.pop('Location')\n",
        "person1"
      ],
      "metadata": {
        "colab": {
          "base_uri": "https://localhost:8080/"
        },
        "id": "TOu1t3gw578X",
        "outputId": "7e438c69-5666-46e9-828c-35a2d86baa8e"
      },
      "execution_count": null,
      "outputs": [
        {
          "output_type": "execute_result",
          "data": {
            "text/plain": [
              "{'Gender': 'Male', 'Name': 'John', 'Occupation': 'Data Scientist'}"
            ]
          },
          "metadata": {},
          "execution_count": 19
        }
      ]
    },
    {
      "cell_type": "code",
      "execution_count": null,
      "metadata": {
        "id": "d3vXV80DBkrd",
        "outputId": "1618a258-beab-4654-d51e-8f469d3bec17"
      },
      "outputs": [
        {
          "data": {
            "text/plain": [
              "{'Age': 27,\n",
              " 'Gender': 'Male',\n",
              " 'Name': 'Srikanth',\n",
              " 'Occupation': 'Data Scientist'}"
            ]
          },
          "execution_count": 6,
          "metadata": {},
          "output_type": "execute_result"
        }
      ],
      "source": []
    },
    {
      "cell_type": "markdown",
      "metadata": {
        "id": "pp8BAw7dBkrd"
      },
      "source": [
        "> **`Question:` Create dictionary of person2 with**\n",
        "- Name  = Raghu Ram\n",
        "- Gender = Male\n",
        "- Age  = 25\n",
        "- Occupation = Data Scienctist"
      ]
    },
    {
      "cell_type": "code",
      "source": [
        "# Method 1\n",
        "\n",
        "# Using curly braces\n",
        "\n",
        "person2 = {'Name' : 'Raghu Ram', 'Gender' : 'Male', 'Age' : 25, 'Occupation' : 'Data Scientist'}\n",
        "person2"
      ],
      "metadata": {
        "colab": {
          "base_uri": "https://localhost:8080/"
        },
        "id": "980NhNhq6tSx",
        "outputId": "b8344405-e7d0-414b-8a35-1b806eaa4c38"
      },
      "execution_count": null,
      "outputs": [
        {
          "output_type": "execute_result",
          "data": {
            "text/plain": [
              "{'Name': 'Raghu Ram',\n",
              " 'Gender': 'Male',\n",
              " 'Age': 25,\n",
              " 'Occupation': 'Data Scientist'}"
            ]
          },
          "metadata": {},
          "execution_count": 20
        }
      ]
    },
    {
      "cell_type": "code",
      "source": [
        "# Method 2\n",
        "\n",
        "# using dict() constructor\n",
        "\n",
        "person2 = dict(Name = 'Raghu Ram', Gender = 'Male', Age = 25, Occupation = 'Data Scientist')\n",
        "person2"
      ],
      "metadata": {
        "colab": {
          "base_uri": "https://localhost:8080/"
        },
        "id": "Y7Q0izlW6tG3",
        "outputId": "1109f86f-6733-4933-aaaf-1a9af06c98a8"
      },
      "execution_count": null,
      "outputs": [
        {
          "output_type": "execute_result",
          "data": {
            "text/plain": [
              "{'Name': 'Raghu Ram',\n",
              " 'Gender': 'Male',\n",
              " 'Age': 25,\n",
              " 'Occupation': 'Data Scientist'}"
            ]
          },
          "metadata": {},
          "execution_count": 22
        }
      ]
    },
    {
      "cell_type": "code",
      "execution_count": null,
      "metadata": {
        "id": "EsIaKbCOBkre",
        "outputId": "9834341c-b420-4bb0-9af9-32c35710a464"
      },
      "outputs": [
        {
          "data": {
            "text/plain": [
              "{'Age': 25,\n",
              " 'Gender': 'Male',\n",
              " 'Name': 'Raghu Ram',\n",
              " 'Occupation': 'Data Scientist'}"
            ]
          },
          "execution_count": 5,
          "metadata": {},
          "output_type": "execute_result"
        }
      ],
      "source": [
        "person2"
      ]
    },
    {
      "cell_type": "markdown",
      "metadata": {
        "id": "i8-vDc1wBkrf"
      },
      "source": [
        "> **`Question:` Print the output as show below**"
      ]
    },
    {
      "cell_type": "code",
      "source": [
        "person1 = {'Gender': 'Male',\n",
        " 'Location': 'Nizampet, Hyderabad',\n",
        " 'Name': 'John',\n",
        " 'Occupation': 'Data Scientist'}"
      ],
      "metadata": {
        "id": "EpMyW4r69aJu"
      },
      "execution_count": null,
      "outputs": []
    },
    {
      "cell_type": "code",
      "source": [
        "person2 = {'Name': 'Raghu Ram',\n",
        " 'Gender': 'Male',\n",
        " 'Age': 25,\n",
        " 'Occupation': 'Data Scientist'}"
      ],
      "metadata": {
        "id": "DP6Ekf449aGW"
      },
      "execution_count": null,
      "outputs": []
    },
    {
      "cell_type": "code",
      "source": [
        "print('=================== person1 ===================')\n",
        "print(person1)\n",
        "print('=================== person2 ===================')\n",
        "print(person2)"
      ],
      "metadata": {
        "colab": {
          "base_uri": "https://localhost:8080/"
        },
        "id": "zts7uJ3s9aDk",
        "outputId": "7481715e-7149-44c5-e1d0-7a2177e25023"
      },
      "execution_count": null,
      "outputs": [
        {
          "output_type": "stream",
          "name": "stdout",
          "text": [
            "=================== person1 ===================\n",
            "{'Gender': 'Male', 'Location': 'Nizampet, Hyderabad', 'Name': 'John', 'Occupation': 'Data Scientist'}\n",
            "=================== person2 ===================\n",
            "{'Name': 'Raghu Ram', 'Gender': 'Male', 'Age': 25, 'Occupation': 'Data Scientist'}\n"
          ]
        }
      ]
    },
    {
      "cell_type": "code",
      "execution_count": null,
      "metadata": {
        "id": "1d-S67QeBkrf",
        "outputId": "e4757165-c140-44aa-f453-3f1547030256"
      },
      "outputs": [
        {
          "name": "stdout",
          "output_type": "stream",
          "text": [
            "==================== person1 ====================\n",
            "{'Gender': 'Male', 'Location': 'Nizampet, Hyderabad', 'Name': 'John', 'Occupation': 'Data Scientist'}\n",
            "==================== person2 ====================\n",
            "{'Age': 25, 'Gender': 'Male', 'Name': 'Raghu Ram', 'Occupation': 'Data Scientist'}\n"
          ]
        }
      ],
      "source": [
        "# CODE HERE"
      ]
    },
    {
      "cell_type": "markdown",
      "metadata": {
        "id": "JbfuTuMGBkrf"
      },
      "source": [
        "# create a dictionary\n",
        "#### `Question:` remove the elements from that dictionary using different methods\n",
        "{1: 1, 2: 4, 3: 9, 4: 16, 5: 25,6:36,7:49}"
      ]
    },
    {
      "cell_type": "code",
      "source": [
        "numDict = {1: 1, 2: 4, 3: 9, 4: 16, 5: 25,6:36,7:49}"
      ],
      "metadata": {
        "id": "jARYWg6E-LMp"
      },
      "execution_count": null,
      "outputs": []
    },
    {
      "cell_type": "code",
      "source": [
        "# Method 1\n",
        "\n",
        "# using del function\n",
        "\n",
        "del numDict[4]                            # deletes the specified key and its value from dictionary\n",
        "numDict"
      ],
      "metadata": {
        "colab": {
          "base_uri": "https://localhost:8080/"
        },
        "id": "Mzhat1DB9FM6",
        "outputId": "3cce4785-fb4a-4d53-8cae-99979ca39aec"
      },
      "execution_count": null,
      "outputs": [
        {
          "output_type": "execute_result",
          "data": {
            "text/plain": [
              "{1: 1, 2: 4, 3: 9, 5: 25, 6: 36, 7: 49}"
            ]
          },
          "metadata": {},
          "execution_count": 2
        }
      ]
    },
    {
      "cell_type": "code",
      "source": [
        "# Method 2\n",
        "\n",
        "# using pop() method\n",
        "\n",
        "numDict.pop(2)                             # pops the specified key and its value from dictionary\n",
        "numDict"
      ],
      "metadata": {
        "colab": {
          "base_uri": "https://localhost:8080/"
        },
        "id": "HZKKzbgR9FJc",
        "outputId": "3d7760c6-374c-480d-8e63-3f710fa442a3"
      },
      "execution_count": null,
      "outputs": [
        {
          "output_type": "execute_result",
          "data": {
            "text/plain": [
              "{1: 1, 3: 9, 5: 25, 6: 36, 7: 49}"
            ]
          },
          "metadata": {},
          "execution_count": 3
        }
      ]
    },
    {
      "cell_type": "code",
      "source": [
        "# Method 3\n",
        "\n",
        "# using popitem() method\n",
        "\n",
        "numDict.popitem()                             # pops the last key and its value from dictionary\n",
        "numDict\n"
      ],
      "metadata": {
        "colab": {
          "base_uri": "https://localhost:8080/"
        },
        "id": "hDHNnL1e9E1a",
        "outputId": "848fa45a-fd5a-4fbf-cef8-5fb3b80e6e12"
      },
      "execution_count": null,
      "outputs": [
        {
          "output_type": "execute_result",
          "data": {
            "text/plain": [
              "{1: 1, 3: 9, 5: 25, 6: 36}"
            ]
          },
          "metadata": {},
          "execution_count": 4
        }
      ]
    },
    {
      "cell_type": "code",
      "source": [
        "# Method 4\n",
        "\n",
        "# using clear() method\n",
        "\n",
        "numDict.clear()                              # removes all key value pairs and returns an empty dictionary\n",
        "numDict"
      ],
      "metadata": {
        "colab": {
          "base_uri": "https://localhost:8080/"
        },
        "id": "a-Y8Wz5R9EpD",
        "outputId": "e05151e7-5fee-46dc-d2e2-a81891c28d5f"
      },
      "execution_count": null,
      "outputs": [
        {
          "output_type": "execute_result",
          "data": {
            "text/plain": [
              "{}"
            ]
          },
          "metadata": {},
          "execution_count": 5
        }
      ]
    },
    {
      "cell_type": "markdown",
      "metadata": {
        "id": "N0k3s99kBkrg"
      },
      "source": [
        "\n",
        "### `Question:` print the values from the given dictionary in descending order\n",
        "{0: 0, 1: 1, 3: 9, 5: 25, 7: 49, 9: 81}"
      ]
    },
    {
      "cell_type": "code",
      "execution_count": null,
      "metadata": {
        "id": "EQqw0H6BBkrg",
        "colab": {
          "base_uri": "https://localhost:8080/"
        },
        "outputId": "6cab3307-0938-46b7-9562-0391c15020ee"
      },
      "outputs": [
        {
          "output_type": "execute_result",
          "data": {
            "text/plain": [
              "[81, 49, 25, 9, 1, 0]"
            ]
          },
          "metadata": {},
          "execution_count": 10
        }
      ],
      "source": [
        "myDict = {0: 0, 1: 1, 3: 9, 5: 25, 7: 49, 9: 81}\n",
        "sortedDict = sorted(myDict.values(), reverse = True)\n",
        "sortedDict"
      ]
    },
    {
      "cell_type": "markdown",
      "metadata": {
        "id": "pgnnqnQMBkrh"
      },
      "source": [
        "### `Question:` merge the below 3 dictionaries\n",
        "dict1 = { 'a': 1, 'b': 2 }\n",
        "dict2 = { 'b': 3, 'c': 4 }\n",
        "dict3 = { 'c': 5, 'd': 6 }"
      ]
    },
    {
      "cell_type": "code",
      "execution_count": null,
      "metadata": {
        "id": "oYmwYnlqBkrh"
      },
      "outputs": [],
      "source": [
        "# CODE HERE"
      ]
    },
    {
      "cell_type": "code",
      "source": [
        "# Method 1\n",
        "\n",
        "# using update() method\n",
        "\n",
        "dict1 = { 'a': 1, 'b': 2 }\n",
        "dict2 = { 'b': 3, 'c': 4 }\n",
        "dict3 = { 'c': 5, 'd': 6 }\n",
        "\n",
        "mergedDict = dict1.copy()\n",
        "mergedDict.update(dict2)\n",
        "mergedDict.update(dict3)\n",
        "mergedDict"
      ],
      "metadata": {
        "colab": {
          "base_uri": "https://localhost:8080/"
        },
        "id": "5XDY17YlCw71",
        "outputId": "1a748ea6-4f41-4be2-8df5-ac4310cdec20"
      },
      "execution_count": null,
      "outputs": [
        {
          "output_type": "execute_result",
          "data": {
            "text/plain": [
              "{'a': 1, 'b': 3, 'c': 5, 'd': 6}"
            ]
          },
          "metadata": {},
          "execution_count": 19
        }
      ]
    },
    {
      "cell_type": "code",
      "source": [
        "# Method 2\n",
        "\n",
        "# using union operator\n",
        "\n",
        "dict1 = { 'a': 1, 'b': 2 }\n",
        "dict2 = { 'b': 3, 'c': 4 }\n",
        "dict3 = { 'c': 5, 'd': 6 }\n",
        "\n",
        "mergedDict = dict1 | dict2 | dict3\n",
        "mergedDict"
      ],
      "metadata": {
        "colab": {
          "base_uri": "https://localhost:8080/"
        },
        "id": "iaoyj6gZEjvH",
        "outputId": "62c56f7d-c88e-48a8-b5dc-b8f0082506ad"
      },
      "execution_count": null,
      "outputs": [
        {
          "output_type": "execute_result",
          "data": {
            "text/plain": [
              "{'a': 1, 'b': 3, 'c': 5, 'd': 6}"
            ]
          },
          "metadata": {},
          "execution_count": 20
        }
      ]
    },
    {
      "cell_type": "code",
      "source": [
        "# Method 3\n",
        "\n",
        "# using dictionary comprehension\n",
        "\n",
        "dict1 = { 'a': 1, 'b': 2 }\n",
        "dict2 = { 'b': 3, 'c': 4 }\n",
        "dict3 = { 'c': 5, 'd': 6 }\n",
        "\n",
        "mergedDict = {k:v for i in [dict1,dict2,dict3] for k,v in i.items()}\n",
        "mergedDict"
      ],
      "metadata": {
        "colab": {
          "base_uri": "https://localhost:8080/"
        },
        "id": "L6ZIvX4XE0wx",
        "outputId": "c0cf8a31-c9d7-4a05-9ba2-e6e41f698627"
      },
      "execution_count": null,
      "outputs": [
        {
          "output_type": "execute_result",
          "data": {
            "text/plain": [
              "{'a': 1, 'b': 3, 'c': 5, 'd': 6}"
            ]
          },
          "metadata": {},
          "execution_count": 23
        }
      ]
    },
    {
      "cell_type": "code",
      "execution_count": null,
      "metadata": {
        "id": "YmYKHVfqBkrh",
        "outputId": "2ea3cd6d-d561-4d12-d1ed-16fe755d0120"
      },
      "outputs": [
        {
          "name": "stdout",
          "output_type": "stream",
          "text": [
            "{'a': 1, 'b': 3, 'c': 5, 'd': 6}\n"
          ]
        }
      ],
      "source": [
        "\n",
        "dict1 = { 'a': 1, 'b': 2 }\n",
        "dict2 = { 'b': 3, 'c': 4 }\n",
        "dict3 = { 'c': 5, 'd': 6 }\n"
      ]
    },
    {
      "cell_type": "markdown",
      "metadata": {
        "id": "XisoFjwKBkrh"
      },
      "source": [
        "**`Question:` change Charan’s salary to 8500 in the following dictionary**"
      ]
    },
    {
      "cell_type": "raw",
      "metadata": {
        "id": "Tv_dY5XOBkri"
      },
      "source": [
        "sample_dict = {\n",
        "    'emp1': {'name': 'Jhony', 'salary': 7500},\n",
        "    'emp2': {'name': 'Ravi', 'salary': 8000},\n",
        "    'emp3': {'name': 'Charan', 'salary': 6500}\n",
        "}"
      ]
    },
    {
      "cell_type": "code",
      "execution_count": null,
      "metadata": {
        "id": "20iz9QYTBkri",
        "colab": {
          "base_uri": "https://localhost:8080/"
        },
        "outputId": "2b712894-f399-4c7b-f457-c78baca693b5"
      },
      "outputs": [
        {
          "output_type": "execute_result",
          "data": {
            "text/plain": [
              "{'emp1': {'name': 'Jhony', 'salary': 7500},\n",
              " 'emp2': {'name': 'Ravi', 'salary': 8000},\n",
              " 'emp3': {'name': 'Charan', 'salary': 8500}}"
            ]
          },
          "metadata": {},
          "execution_count": 25
        }
      ],
      "source": [
        "# CODE HERE\n",
        "\n",
        "sample_dict = {\n",
        "    'emp1': {'name': 'Jhony', 'salary': 7500},\n",
        "    'emp2': {'name': 'Ravi', 'salary': 8000},\n",
        "    'emp3': {'name': 'Charan', 'salary': 6500}\n",
        "}\n",
        "\n",
        "sample_dict['emp3']['salary'] = 8500       # we are accessing salary key of emp3 dictionary of sample_dict\n",
        "sample_dict"
      ]
    },
    {
      "cell_type": "code",
      "execution_count": null,
      "metadata": {
        "id": "DaUXO0bsBkri",
        "outputId": "68eb6ff0-34bc-4227-898b-59f3a1a16f05"
      },
      "outputs": [
        {
          "data": {
            "text/plain": [
              "{'emp1': {'name': 'Jhony', 'salary': 7500},\n",
              " 'emp2': {'name': 'Ravi', 'salary': 8000},\n",
              " 'emp3': {'name': 'Charan', 'salary': 8500}}"
            ]
          },
          "execution_count": 2,
          "metadata": {},
          "output_type": "execute_result"
        }
      ],
      "source": []
    },
    {
      "cell_type": "markdown",
      "metadata": {
        "id": "dSnqxmM9Bkrj"
      },
      "source": [
        "**`Question:` Print the value of key ‘history’ from the below dict**"
      ]
    },
    {
      "cell_type": "raw",
      "metadata": {
        "id": "RtPtLiQnBkrj"
      },
      "source": [
        "sampleDict = {\n",
        "    \"class\": {\n",
        "        \"student\": {\n",
        "            \"name\": \"Mike\",\n",
        "            \"marks\": {\n",
        "                \"physics\": 70,\n",
        "                \"history\": 80\n",
        "            }\n",
        "        }\n",
        "    }\n",
        "}"
      ]
    },
    {
      "cell_type": "code",
      "execution_count": null,
      "metadata": {
        "id": "-NLGGELRBkrj",
        "colab": {
          "base_uri": "https://localhost:8080/"
        },
        "outputId": "5b75c30b-859d-434e-a0e2-6bcacb45c1de"
      },
      "outputs": [
        {
          "output_type": "execute_result",
          "data": {
            "text/plain": [
              "80"
            ]
          },
          "metadata": {},
          "execution_count": 26
        }
      ],
      "source": [
        "# CODE HERE\n",
        "\n",
        "sampleDict = { \"class\": { \"student\": { \"name\": \"Mike\", \"marks\": { \"physics\": 70, \"history\": 80 } } } }\n",
        "\n",
        "sampleDict['class']['student']['marks']['history']"
      ]
    },
    {
      "cell_type": "code",
      "execution_count": null,
      "metadata": {
        "id": "eODJOYOVBkrj",
        "outputId": "28d25cb5-e568-4f86-9c8c-61c87631e6ce"
      },
      "outputs": [
        {
          "name": "stdout",
          "output_type": "stream",
          "text": [
            "80\n"
          ]
        }
      ],
      "source": []
    },
    {
      "cell_type": "markdown",
      "metadata": {
        "id": "9MIXrNmwBkrk"
      },
      "source": [
        "**`Question:` Rename a key Location to a Area in the following dictionary**"
      ]
    },
    {
      "cell_type": "raw",
      "metadata": {
        "id": "y-Lorp39Bkrk"
      },
      "source": [
        "{'Gender': 'Male',\n",
        " 'Location': 'Nizampet, Hyderabad',\n",
        " 'Name': 'John',\n",
        " 'Occupation': 'Data Scientist'}"
      ]
    },
    {
      "cell_type": "code",
      "execution_count": null,
      "metadata": {
        "id": "SlALT_GjBkrk",
        "colab": {
          "base_uri": "https://localhost:8080/"
        },
        "outputId": "c0214d39-50c3-4719-b3d6-63b3302b94d5"
      },
      "outputs": [
        {
          "output_type": "execute_result",
          "data": {
            "text/plain": [
              "{'Gender': 'Male',\n",
              " 'Area': 'Nizampet, Hyderabad',\n",
              " 'Name': 'John',\n",
              " 'Occupation': 'Data Scientist'}"
            ]
          },
          "metadata": {},
          "execution_count": 34
        }
      ],
      "source": [
        "# CODE HERE\n",
        "\n",
        "myDict = {'Gender': 'Male', 'Location': 'Nizampet, Hyderabad', 'Name': 'John', 'Occupation': 'Data Scientist'}\n",
        "\n",
        "updatedDict = {'Area' if k == 'Location' else k:v for k,v in myDict.items()}     # used ternary operator within dict comprehension\n",
        "updatedDict\n"
      ]
    },
    {
      "cell_type": "code",
      "execution_count": null,
      "metadata": {
        "id": "bHFUrPoXBkrl",
        "outputId": "5bf7799d-1e3e-4ff7-d545-db3d5647dac2"
      },
      "outputs": [
        {
          "data": {
            "text/plain": [
              "{'Gender': 'Male',\n",
              " 'Area': 'Nizampet, Hyderabad',\n",
              " 'Name': 'John',\n",
              " 'Occupation': 'Data Scientist'}"
            ]
          },
          "execution_count": 4,
          "metadata": {},
          "output_type": "execute_result"
        }
      ],
      "source": []
    },
    {
      "cell_type": "markdown",
      "metadata": {
        "id": "Y5TMzBh-Bkru"
      },
      "source": [
        "**`Question:` database = {'ram':1234,'raghu':5678,'kanav':1357}**\n",
        "## Tasks :-\n",
        "### 1. if the username and password matches print hello username\n",
        "### 2. if the username and password doesnot match, ask, you want me to add into the database\n",
        "### 3. show the updated database list\n"
      ]
    },
    {
      "cell_type": "code",
      "source": [
        "database = {'ram':1234,'raghu':5678,'kanav':1357}"
      ],
      "metadata": {
        "id": "A9NX-y-nLQUM"
      },
      "execution_count": null,
      "outputs": []
    },
    {
      "cell_type": "code",
      "source": [
        "# if the username and password matches print hello username\n",
        "\n",
        "username = input('Enter username : ')\n",
        "password = input('Enter password : ')\n",
        "\n",
        "assert username.isalpha() == True and password.isdecimal() == True, 'Enter valid inputs'\n",
        "password = int(password)\n",
        "\n",
        "if (username,password) not in database.items() :                           # if username and password doesn't match\n",
        "       ask = input('yow want me to add into the database.(yes/no): ')\n",
        "       if ask.lower() == 'yes' :\n",
        "        database[username] = password                                      # if user says 'yes', database is updated\n",
        "       else :\n",
        "        print('database is not updated')                                   # if user says 'no', database is not updated(remains same)\n",
        "else :\n",
        "     print(f'hello {username}')                                            # if username and password matches with database values\n",
        "\n",
        "\n",
        "\n",
        "print(database)\n"
      ],
      "metadata": {
        "colab": {
          "base_uri": "https://localhost:8080/"
        },
        "id": "FLfHIHQhLQQo",
        "outputId": "7ef74214-d0a3-4608-82bb-583cabc5ed3b"
      },
      "execution_count": null,
      "outputs": [
        {
          "output_type": "stream",
          "name": "stdout",
          "text": [
            "Enter username : raghav\n",
            "Enter password : 9876\n",
            "yow want me to add into the database.(yes/no): yEs\n",
            "{'ram': 1234, 'raghu': 5678, 'kanav': 1357, 'raghav': 9876}\n"
          ]
        }
      ]
    },
    {
      "cell_type": "code",
      "source": [],
      "metadata": {
        "id": "BNJuS4JSLQIg"
      },
      "execution_count": null,
      "outputs": []
    },
    {
      "cell_type": "markdown",
      "metadata": {
        "id": "3UJZzlH3Bkru"
      },
      "source": [
        "# [Innomatics Research Labs](https:/innomatics.in/)\n",
        "[www.innomatics.in](https:/innomatics.in/)"
      ]
    },
    {
      "cell_type": "code",
      "execution_count": null,
      "metadata": {
        "id": "E27-s8flBkru"
      },
      "outputs": [],
      "source": []
    }
  ],
  "metadata": {
    "kernelspec": {
      "display_name": "Python 3",
      "language": "python",
      "name": "python3"
    },
    "language_info": {
      "codemirror_mode": {
        "name": "ipython",
        "version": 3
      },
      "file_extension": ".py",
      "mimetype": "text/x-python",
      "name": "python",
      "nbconvert_exporter": "python",
      "pygments_lexer": "ipython3",
      "version": "3.8.5"
    },
    "colab": {
      "provenance": [],
      "include_colab_link": true
    }
  },
  "nbformat": 4,
  "nbformat_minor": 0
}