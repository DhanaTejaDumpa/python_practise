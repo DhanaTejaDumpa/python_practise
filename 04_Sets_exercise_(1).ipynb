{
  "cells": [
    {
      "cell_type": "markdown",
      "metadata": {
        "id": "view-in-github",
        "colab_type": "text"
      },
      "source": [
        "<a href=\"https://colab.research.google.com/github/DhanaTejaDumpa/python_practise/blob/main/04_Sets_exercise_(1).ipynb\" target=\"_parent\"><img src=\"https://colab.research.google.com/assets/colab-badge.svg\" alt=\"Open In Colab\"/></a>"
      ]
    },
    {
      "cell_type": "markdown",
      "metadata": {
        "id": "NXB5ad6H1u2c"
      },
      "source": [
        "# Assignment Instructions\n",
        "\n",
        "`Hello Innominion,`\n",
        "\n",
        "- **Try to attempt all the questions in every possible way.**\n",
        "- **Some other topics are required to solve some questions. don't panic.**\n",
        "- **Those questions can be answered after the topics are taught.**\n",
        "\n",
        "\n",
        "- `Join Mentoring Session for the Support/Doubts Resolving with Our Technical Mentors (2.00 PM - 6.00 PM  Mon-Sat)`\n",
        "\n",
        "Happy Learning !!!"
      ]
    },
    {
      "cell_type": "markdown",
      "metadata": {
        "id": "G5RcO3pa1u2i"
      },
      "source": [
        "###  Sets"
      ]
    },
    {
      "cell_type": "markdown",
      "metadata": {
        "id": "Mg6YL9WA1u2k"
      },
      "source": [
        "> **`Question:` Create a set \"s\" with elements**\n",
        "\n",
        "1 , 2 , 'innomatics', 'hub'\n",
        "\n"
      ]
    },
    {
      "cell_type": "code",
      "execution_count": null,
      "metadata": {
        "colab": {
          "base_uri": "https://localhost:8080/"
        },
        "id": "Ia15hHt31u2l",
        "outputId": "2522a93e-8e79-49f3-e767-a783735ee3cb"
      },
      "outputs": [
        {
          "output_type": "stream",
          "name": "stdout",
          "text": [
            "{1, 2, 'hub', 'innomatics'}\n"
          ]
        }
      ],
      "source": [
        "# CODE HERE\n",
        "\n",
        "# Method 1\n",
        "\n",
        "# creating a set using {} braces\n",
        "\n",
        "s = {1 , 2 , 'innomatics', 'hub'}\n",
        "print(s)"
      ]
    },
    {
      "cell_type": "code",
      "source": [
        "# creating a set using set() constructor\n",
        "\n",
        "s = set((1 , 2 , 'innomatics', 'hub'))\n",
        "print(s)"
      ],
      "metadata": {
        "colab": {
          "base_uri": "https://localhost:8080/"
        },
        "id": "hroMGiwb2jUV",
        "outputId": "5cfe3cf3-7c66-4a65-92ea-e6bc2712cb04"
      },
      "execution_count": null,
      "outputs": [
        {
          "output_type": "stream",
          "name": "stdout",
          "text": [
            "{1, 2, 'hub', 'innomatics'}\n"
          ]
        }
      ]
    },
    {
      "cell_type": "code",
      "execution_count": null,
      "metadata": {
        "id": "QUUZt2T41u2m",
        "outputId": "1d603a8c-ab58-4095-eefe-64bd22aba495"
      },
      "outputs": [
        {
          "data": {
            "text/plain": [
              "{1, 2, 'hub', 'innomatics'}"
            ]
          },
          "execution_count": 9,
          "metadata": {},
          "output_type": "execute_result"
        }
      ],
      "source": [
        "s"
      ]
    },
    {
      "cell_type": "markdown",
      "metadata": {
        "id": "HSanxHVa1u2o"
      },
      "source": [
        "> **`Question:` Add element 'Technology' in s**"
      ]
    },
    {
      "cell_type": "code",
      "execution_count": null,
      "metadata": {
        "colab": {
          "base_uri": "https://localhost:8080/"
        },
        "id": "-oYeP_zo1u2o",
        "outputId": "f35e56cc-d802-4ff5-bde0-5dda21b6a2c3"
      },
      "outputs": [
        {
          "output_type": "execute_result",
          "data": {
            "text/plain": [
              "{1, 2, 'hub', 'innomatics'}"
            ]
          },
          "metadata": {},
          "execution_count": 3
        }
      ],
      "source": [
        "# CODE HERE\n",
        "s"
      ]
    },
    {
      "cell_type": "code",
      "source": [
        "s.add('Technology')                                         # adding an element to s\n",
        "s"
      ],
      "metadata": {
        "colab": {
          "base_uri": "https://localhost:8080/"
        },
        "id": "7lGdqxpE2wxM",
        "outputId": "df4d4d0d-23fd-4bd2-d4d9-dee054a9304e"
      },
      "execution_count": null,
      "outputs": [
        {
          "output_type": "execute_result",
          "data": {
            "text/plain": [
              "{1, 2, 'Technology', 'hub', 'innomatics'}"
            ]
          },
          "metadata": {},
          "execution_count": 4
        }
      ]
    },
    {
      "cell_type": "code",
      "execution_count": null,
      "metadata": {
        "id": "NVDiZh541u2p",
        "outputId": "892c306a-7c1a-4e35-c197-ed6ba25e213c"
      },
      "outputs": [
        {
          "data": {
            "text/plain": [
              "{1, 2, 'Technology', 'hub', 'innomatics'}"
            ]
          },
          "execution_count": 10,
          "metadata": {},
          "output_type": "execute_result"
        }
      ],
      "source": []
    },
    {
      "cell_type": "markdown",
      "metadata": {
        "id": "LmcKG8dr1u2q"
      },
      "source": [
        "> **`Question:` Create one more set \"sc\" with elements**\n",
        "\n",
        "3,4, 'hub', 'Technology'"
      ]
    },
    {
      "cell_type": "code",
      "execution_count": null,
      "metadata": {
        "colab": {
          "base_uri": "https://localhost:8080/"
        },
        "id": "V7sOgZ5q1u2r",
        "outputId": "c24b8f28-d5e8-4de1-818e-c87d1d6897c4"
      },
      "outputs": [
        {
          "output_type": "execute_result",
          "data": {
            "text/plain": [
              "{3, 4, 'Technology', 'hub'}"
            ]
          },
          "metadata": {},
          "execution_count": 5
        }
      ],
      "source": [
        "# CODE HERE\n",
        "# Method 1\n",
        "\n",
        "# creating a set using curly braces\n",
        "\n",
        "sc = {3,4, 'hub', 'Technology'}\n",
        "sc"
      ]
    },
    {
      "cell_type": "code",
      "execution_count": null,
      "metadata": {
        "colab": {
          "base_uri": "https://localhost:8080/"
        },
        "id": "Fn5PvuXy1u2r",
        "outputId": "ebf34ba0-6f77-47d4-aa2e-7bd02bb62f50"
      },
      "outputs": [
        {
          "output_type": "execute_result",
          "data": {
            "text/plain": [
              "{3, 4, 'Technology', 'hub'}"
            ]
          },
          "metadata": {},
          "execution_count": 6
        }
      ],
      "source": [
        "# Method 2\n",
        "\n",
        "# creating a set using set() constructor\n",
        "\n",
        "sc = set((3,4, 'hub', 'Technology'))\n",
        "sc"
      ]
    },
    {
      "cell_type": "code",
      "execution_count": null,
      "metadata": {
        "id": "uN4Y7p5t1u2s",
        "outputId": "bded14ca-07e7-4110-cdc6-eb00ac733b42"
      },
      "outputs": [
        {
          "data": {
            "text/plain": [
              "{3, 4, 'Technology', 'hub'}"
            ]
          },
          "execution_count": 12,
          "metadata": {},
          "output_type": "execute_result"
        }
      ],
      "source": [
        "sc"
      ]
    },
    {
      "cell_type": "markdown",
      "metadata": {
        "id": "chaSyWDo1u2s"
      },
      "source": [
        "> **`Question:` Find difference of two sets s and sc**\n",
        "\n",
        "s - sc"
      ]
    },
    {
      "cell_type": "code",
      "execution_count": null,
      "metadata": {
        "colab": {
          "base_uri": "https://localhost:8080/"
        },
        "id": "NyV3fkvr1u2t",
        "outputId": "6aa523f7-370b-4172-c401-179e46102b49"
      },
      "outputs": [
        {
          "output_type": "stream",
          "name": "stdout",
          "text": [
            "s = {1, 2, 'innomatics', 'Technology', 'hub'}, sc = {'hub', 'Technology', 3, 4}\n"
          ]
        }
      ],
      "source": [
        "# CODE HERE\n",
        "print(f's = {s}, sc = {sc}')"
      ]
    },
    {
      "cell_type": "code",
      "source": [
        "s-sc                                  #  difference between sets (s-sc),returns elements that are in the first set but not in the second set"
      ],
      "metadata": {
        "colab": {
          "base_uri": "https://localhost:8080/"
        },
        "id": "8bNcy7lf4Gj5",
        "outputId": "04fcc2e7-101a-44d7-e120-f6aa9bf7e556"
      },
      "execution_count": null,
      "outputs": [
        {
          "output_type": "execute_result",
          "data": {
            "text/plain": [
              "{1, 2, 'innomatics'}"
            ]
          },
          "metadata": {},
          "execution_count": 8
        }
      ]
    },
    {
      "cell_type": "code",
      "execution_count": null,
      "metadata": {
        "id": "AD7vDKWN1u2t",
        "outputId": "484fc23a-d21b-4061-b686-bb75d2414f9b"
      },
      "outputs": [
        {
          "data": {
            "text/plain": [
              "{1, 2, 'innomatics'}"
            ]
          },
          "execution_count": 14,
          "metadata": {},
          "output_type": "execute_result"
        }
      ],
      "source": []
    },
    {
      "cell_type": "markdown",
      "metadata": {
        "id": "RpZmnlUY1u2t"
      },
      "source": [
        "> **`Question:` remove 2 from set s**"
      ]
    },
    {
      "cell_type": "code",
      "execution_count": null,
      "metadata": {
        "colab": {
          "base_uri": "https://localhost:8080/"
        },
        "id": "j5KSEPCK1u2u",
        "outputId": "580b566f-3b1a-4214-fc8b-7d7e83fec6de"
      },
      "outputs": [
        {
          "output_type": "execute_result",
          "data": {
            "text/plain": [
              "{1, 2, 'Technology', 'hub', 'innomatics'}"
            ]
          },
          "metadata": {},
          "execution_count": 14
        }
      ],
      "source": [
        "# CODE HERE\n",
        "\n",
        "s"
      ]
    },
    {
      "cell_type": "code",
      "source": [
        "s.remove(2)                             # removes 2 from set s\n",
        "s"
      ],
      "metadata": {
        "colab": {
          "base_uri": "https://localhost:8080/"
        },
        "id": "hBBKEki35C95",
        "outputId": "08df2a0e-f44e-4549-fa12-1698e1696f90"
      },
      "execution_count": null,
      "outputs": [
        {
          "output_type": "execute_result",
          "data": {
            "text/plain": [
              "{1, 'Technology', 'hub', 'innomatics'}"
            ]
          },
          "metadata": {},
          "execution_count": 15
        }
      ]
    },
    {
      "cell_type": "code",
      "execution_count": null,
      "metadata": {
        "id": "AF-FJgG11u2u",
        "outputId": "f8f406bc-9b90-4cbb-e716-572a39f865a3"
      },
      "outputs": [
        {
          "data": {
            "text/plain": [
              "{1, 'Technology', 'hub', 'innomatics'}"
            ]
          },
          "execution_count": 17,
          "metadata": {},
          "output_type": "execute_result"
        }
      ],
      "source": [
        "s"
      ]
    },
    {
      "cell_type": "markdown",
      "metadata": {
        "id": "rNH-NJq21u2v"
      },
      "source": [
        "> **`Question:`Print common element in two sets s and sc**\n",
        "\n",
        "s intersection sc"
      ]
    },
    {
      "cell_type": "code",
      "execution_count": null,
      "metadata": {
        "colab": {
          "base_uri": "https://localhost:8080/"
        },
        "id": "fTPjzVmo1u2v",
        "outputId": "6f757963-8c37-42a7-89dc-0c707dabb130"
      },
      "outputs": [
        {
          "output_type": "execute_result",
          "data": {
            "text/plain": [
              "({1, 'Technology', 'hub', 'innomatics'}, {3, 4, 'Technology', 'hub'})"
            ]
          },
          "metadata": {},
          "execution_count": 17
        }
      ],
      "source": [
        "# CODE HERE\n",
        "s, sc"
      ]
    },
    {
      "cell_type": "code",
      "source": [
        "# finding intersection of sets s and sc\n",
        "intersection_set = s & sc                              # returns common elements between two sets\n",
        "intersection_set"
      ],
      "metadata": {
        "colab": {
          "base_uri": "https://localhost:8080/"
        },
        "id": "91ffWY9R5sSR",
        "outputId": "41e22b4f-664a-4b3a-f4fd-63f2ff1205a3"
      },
      "execution_count": null,
      "outputs": [
        {
          "output_type": "execute_result",
          "data": {
            "text/plain": [
              "{'Technology', 'hub'}"
            ]
          },
          "metadata": {},
          "execution_count": 18
        }
      ]
    },
    {
      "cell_type": "code",
      "execution_count": null,
      "metadata": {
        "id": "I-agzMGr1u2v",
        "outputId": "ca61ba63-5cb2-4d49-8524-00bd06f0f424"
      },
      "outputs": [
        {
          "data": {
            "text/plain": [
              "{'Technology', 'hub'}"
            ]
          },
          "execution_count": 18,
          "metadata": {},
          "output_type": "execute_result"
        }
      ],
      "source": []
    },
    {
      "cell_type": "markdown",
      "metadata": {
        "id": "bJqekjOy1u2w"
      },
      "source": [
        "> **`Question:`Print all element in two sets**\n",
        "\n",
        "s union sc"
      ]
    },
    {
      "cell_type": "code",
      "execution_count": null,
      "metadata": {
        "colab": {
          "base_uri": "https://localhost:8080/"
        },
        "id": "3t34h5o21u2w",
        "outputId": "5ccafffc-1740-4a0c-f200-793eeba71150"
      },
      "outputs": [
        {
          "output_type": "execute_result",
          "data": {
            "text/plain": [
              "({1, 'Technology', 'hub', 'innomatics'}, {3, 4, 'Technology', 'hub'})"
            ]
          },
          "metadata": {},
          "execution_count": 19
        }
      ],
      "source": [
        "# CODE HERE\n",
        "s,sc"
      ]
    },
    {
      "cell_type": "code",
      "source": [
        "# fiding union of sets s and sc\n",
        "\n",
        "union_set = s | sc                                  # Combines elements from two sets, removing duplicates.\n",
        "union_set"
      ],
      "metadata": {
        "colab": {
          "base_uri": "https://localhost:8080/"
        },
        "id": "qsYN84Zx6eaS",
        "outputId": "2c1b213f-3b6e-4976-b000-865a02c0492b"
      },
      "execution_count": null,
      "outputs": [
        {
          "output_type": "execute_result",
          "data": {
            "text/plain": [
              "{1, 3, 4, 'Technology', 'hub', 'innomatics'}"
            ]
          },
          "metadata": {},
          "execution_count": 20
        }
      ]
    },
    {
      "cell_type": "code",
      "execution_count": null,
      "metadata": {
        "id": "tmc_Bpzz1u2w",
        "outputId": "a1737137-ed66-4688-be60-61a08127ebb7"
      },
      "outputs": [
        {
          "data": {
            "text/plain": [
              "{1, 3, 4, 'Technology', 'hub', 'innomatics'}"
            ]
          },
          "execution_count": 20,
          "metadata": {},
          "output_type": "execute_result"
        }
      ],
      "source": []
    },
    {
      "cell_type": "markdown",
      "metadata": {
        "id": "UNRIavDH1u2w"
      },
      "source": [
        "**`Question:`Add a list of elements to a set**\n",
        "- fruits = {\"orange\",'apple','kiwi'}\n",
        "- colors = ['orange','red','green']"
      ]
    },
    {
      "cell_type": "code",
      "execution_count": null,
      "metadata": {
        "colab": {
          "base_uri": "https://localhost:8080/"
        },
        "id": "lukYWECG1u2x",
        "outputId": "0589b58b-c992-4762-86f1-f5d8bf66189e"
      },
      "outputs": [
        {
          "output_type": "execute_result",
          "data": {
            "text/plain": [
              "{'apple', 'green', 'kiwi', 'orange', 'red'}"
            ]
          },
          "metadata": {},
          "execution_count": 28
        }
      ],
      "source": [
        "# CODE HERE\n",
        "\n",
        "# Method 1\n",
        "\n",
        "fruits = {\"orange\",'apple','kiwi'}\n",
        "colors = ['orange','red','green']\n",
        "fruits.update(colors)                               # adding multiple elements to set\n",
        "fruits"
      ]
    },
    {
      "cell_type": "code",
      "source": [
        "# Method 2\n",
        "\n",
        "fruits = {\"orange\",'apple','kiwi'}\n",
        "colors = ['orange','red','green']\n",
        "\n",
        "for i in colors :                                 # iterating over colors list adding each element of list to fruits set\n",
        "  fruits.add(i)\n",
        "\n",
        "print(fruits)"
      ],
      "metadata": {
        "colab": {
          "base_uri": "https://localhost:8080/"
        },
        "id": "4CdSRkCP9gn2",
        "outputId": "cb671cb2-01c9-4a80-e490-7f6307843629"
      },
      "execution_count": null,
      "outputs": [
        {
          "output_type": "stream",
          "name": "stdout",
          "text": [
            "{'red', 'green', 'orange', 'apple', 'kiwi'}\n"
          ]
        }
      ]
    },
    {
      "cell_type": "code",
      "execution_count": null,
      "metadata": {
        "id": "R0yGYhI21u2x",
        "outputId": "614f437b-15d8-4671-d2f5-f086c7203e67"
      },
      "outputs": [
        {
          "data": {
            "text/plain": [
              "{'apple', 'green', 'kiwi', 'orange', 'red'}"
            ]
          },
          "execution_count": 2,
          "metadata": {},
          "output_type": "execute_result"
        }
      ],
      "source": [
        "fruits"
      ]
    },
    {
      "cell_type": "markdown",
      "metadata": {
        "id": "JbOrKHHw1u2x"
      },
      "source": [
        "**`Question:`Remove items 10, 20, 30 from the following set at once**\n",
        "- set1 = {10, 20, 30, 40, 50}"
      ]
    },
    {
      "cell_type": "code",
      "execution_count": null,
      "metadata": {
        "id": "IHGyLk1-1u2y"
      },
      "outputs": [],
      "source": [
        "# CODE HERE\n",
        "set1 = {10, 20, 30, 40, 50}"
      ]
    },
    {
      "cell_type": "code",
      "source": [
        "# using set difference method\n",
        "\n",
        "remove_items_set = {10,20,30}\n",
        "set1-remove_items_set                          # difference between sets,returns elements that are in the first set but not in the second set\n"
      ],
      "metadata": {
        "colab": {
          "base_uri": "https://localhost:8080/"
        },
        "id": "bIL954VJ-xwO",
        "outputId": "6e72f920-6dff-49bf-aa3e-15ee0a56a7d9"
      },
      "execution_count": null,
      "outputs": [
        {
          "output_type": "execute_result",
          "data": {
            "text/plain": [
              "{40, 50}"
            ]
          },
          "metadata": {},
          "execution_count": 32
        }
      ]
    },
    {
      "cell_type": "code",
      "source": [
        "# using difference update method\n",
        "\n",
        "set1 = {10, 20, 30, 40, 50}\n",
        "remove_items_set = {10,20,30}\n",
        "\n",
        "set1.difference_update(remove_items_set)      # Removes all elements from the remove_items_set that are in the given set1. Modifies the original set1.\n",
        "\n",
        "set1"
      ],
      "metadata": {
        "colab": {
          "base_uri": "https://localhost:8080/"
        },
        "id": "UjWyW7o1AOeU",
        "outputId": "c3a24de7-f2a4-464d-855f-ea20ce213d8e"
      },
      "execution_count": null,
      "outputs": [
        {
          "output_type": "execute_result",
          "data": {
            "text/plain": [
              "{40, 50}"
            ]
          },
          "metadata": {},
          "execution_count": 34
        }
      ]
    },
    {
      "cell_type": "code",
      "execution_count": null,
      "metadata": {
        "id": "TKOx2yEX1u2y",
        "outputId": "0cce20bb-7c04-40a1-f734-6def6042b2c9"
      },
      "outputs": [
        {
          "name": "stdout",
          "output_type": "stream",
          "text": [
            "{40, 50}\n"
          ]
        }
      ],
      "source": []
    },
    {
      "cell_type": "markdown",
      "metadata": {
        "id": "9fLdkd5V1u2y"
      },
      "source": [
        "# [Innomatics Research Labs](https:/innomatics.in/)\n",
        "[www.innomatics.in](https:/innomatics.in/)"
      ]
    },
    {
      "cell_type": "code",
      "execution_count": null,
      "metadata": {
        "id": "mhqG7nHm1u2y"
      },
      "outputs": [],
      "source": []
    }
  ],
  "metadata": {
    "kernelspec": {
      "display_name": "Python 3",
      "language": "python",
      "name": "python3"
    },
    "language_info": {
      "codemirror_mode": {
        "name": "ipython",
        "version": 3
      },
      "file_extension": ".py",
      "mimetype": "text/x-python",
      "name": "python",
      "nbconvert_exporter": "python",
      "pygments_lexer": "ipython3",
      "version": "3.8.5"
    },
    "colab": {
      "provenance": [],
      "include_colab_link": true
    }
  },
  "nbformat": 4,
  "nbformat_minor": 0
}